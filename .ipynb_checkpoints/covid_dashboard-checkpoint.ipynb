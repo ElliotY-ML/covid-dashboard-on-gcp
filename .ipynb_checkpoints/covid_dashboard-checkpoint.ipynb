{
 "cells": [
  {
   "cell_type": "code",
   "execution_count": 1,
   "id": "57719ca5",
   "metadata": {},
   "outputs": [],
   "source": [
    "import numpy as np\n",
    "import pandas as pd\n",
    "import matplotlib.pyplot as plt\n",
    "#import seaborn as sns\n",
    "import dash\n",
    "import dash_core_components as dcc\n",
    "import dash_html_components as html\n",
    "import plotly.express as px\n",
    "import os"
   ]
  },
  {
   "cell_type": "code",
   "execution_count": 4,
   "id": "359b42b0",
   "metadata": {},
   "outputs": [
    {
     "name": "stdout",
     "output_type": "stream",
     "text": [
      "Output file in <datasets\\Generated\\US_Nov_14.csv>\n"
     ]
    }
   ],
   "source": [
    "%run ./src/build_dataset.py"
   ]
  },
  {
   "cell_type": "code",
   "execution_count": 2,
   "id": "bc97a8bf",
   "metadata": {},
   "outputs": [
    {
     "name": "stdout",
     "output_type": "stream",
     "text": [
      "<DirEntry 'US_Apr_22.csv'> 1650669034.5342863 ..\\datasets\\Generated\\US_Apr_22.csv\n",
      "<DirEntry 'US_Aug_31.csv'> 1661972778.3762486 ..\\datasets\\Generated\\US_Aug_31.csv\n",
      "<DirEntry 'US_Nov_14.csv'> 1668455373.9270694 ..\\datasets\\Generated\\US_Nov_14.csv\n"
     ]
    }
   ],
   "source": [
    "# Find most recent Generated dataset in the folder `./datasets/Generated`\n",
    "most_recent_date = 0\n",
    "most_recent_fp = ''\n",
    "\n",
    "with os.scandir(os.path.join('..','datasets','Generated')) as directory:\n",
    "    for f in directory:\n",
    "        if (f.stat().st_ctime > most_recent_date) and ('US_' in f.name):\n",
    "            most_recent_fp = f.path\n",
    "            most_recent_date = f.stat().st_ctime\n",
    "            print(f, f.stat().st_ctime, f.path)\n"
   ]
  },
  {
   "cell_type": "code",
   "execution_count": 3,
   "id": "914b4277",
   "metadata": {},
   "outputs": [
    {
     "data": {
      "text/plain": [
       "'..\\\\datasets\\\\Generated\\\\US_Nov_14.csv'"
      ]
     },
     "execution_count": 3,
     "metadata": {},
     "output_type": "execute_result"
    }
   ],
   "source": [
    "most_recent_fp"
   ]
  },
  {
   "cell_type": "code",
   "execution_count": 4,
   "id": "206d566d",
   "metadata": {},
   "outputs": [],
   "source": [
    "covid_df = pd.read_csv(most_recent_fp)"
   ]
  },
  {
   "cell_type": "code",
   "execution_count": 5,
   "id": "1e63eee1",
   "metadata": {},
   "outputs": [
    {
     "data": {
      "text/html": [
       "<div>\n",
       "<style scoped>\n",
       "    .dataframe tbody tr th:only-of-type {\n",
       "        vertical-align: middle;\n",
       "    }\n",
       "\n",
       "    .dataframe tbody tr th {\n",
       "        vertical-align: top;\n",
       "    }\n",
       "\n",
       "    .dataframe thead th {\n",
       "        text-align: right;\n",
       "    }\n",
       "</style>\n",
       "<table border=\"1\" class=\"dataframe\">\n",
       "  <thead>\n",
       "    <tr style=\"text-align: right;\">\n",
       "      <th></th>\n",
       "      <th>submit_date</th>\n",
       "      <th>state</th>\n",
       "      <th>total_cases</th>\n",
       "      <th>new_cases</th>\n",
       "      <th>total_deaths</th>\n",
       "      <th>new_deaths</th>\n",
       "      <th>sum_cases_last_14_days</th>\n",
       "      <th>state_pop</th>\n",
       "      <th>new_cases_percent</th>\n",
       "      <th>cases_last_14_pop_percent</th>\n",
       "    </tr>\n",
       "  </thead>\n",
       "  <tbody>\n",
       "    <tr>\n",
       "      <th>0</th>\n",
       "      <td>2022-10-18</td>\n",
       "      <td>AK</td>\n",
       "      <td>284076</td>\n",
       "      <td>0</td>\n",
       "      <td>1356</td>\n",
       "      <td>0</td>\n",
       "      <td>1151</td>\n",
       "      <td>737068</td>\n",
       "      <td>0.00000</td>\n",
       "      <td>0.001562</td>\n",
       "    </tr>\n",
       "    <tr>\n",
       "      <th>1</th>\n",
       "      <td>2022-10-18</td>\n",
       "      <td>AL</td>\n",
       "      <td>1530803</td>\n",
       "      <td>392</td>\n",
       "      <td>20526</td>\n",
       "      <td>4</td>\n",
       "      <td>5656</td>\n",
       "      <td>4876250</td>\n",
       "      <td>0.00008</td>\n",
       "      <td>0.001160</td>\n",
       "    </tr>\n",
       "    <tr>\n",
       "      <th>2</th>\n",
       "      <td>2022-10-18</td>\n",
       "      <td>AR</td>\n",
       "      <td>956424</td>\n",
       "      <td>391</td>\n",
       "      <td>12386</td>\n",
       "      <td>14</td>\n",
       "      <td>3955</td>\n",
       "      <td>2999370</td>\n",
       "      <td>0.00013</td>\n",
       "      <td>0.001319</td>\n",
       "    </tr>\n",
       "    <tr>\n",
       "      <th>3</th>\n",
       "      <td>2022-10-18</td>\n",
       "      <td>AZ</td>\n",
       "      <td>2277635</td>\n",
       "      <td>0</td>\n",
       "      <td>31455</td>\n",
       "      <td>0</td>\n",
       "      <td>6075</td>\n",
       "      <td>7050299</td>\n",
       "      <td>0.00000</td>\n",
       "      <td>0.000862</td>\n",
       "    </tr>\n",
       "    <tr>\n",
       "      <th>4</th>\n",
       "      <td>2022-10-18</td>\n",
       "      <td>CA</td>\n",
       "      <td>11309237</td>\n",
       "      <td>0</td>\n",
       "      <td>95604</td>\n",
       "      <td>0</td>\n",
       "      <td>55784</td>\n",
       "      <td>39283497</td>\n",
       "      <td>0.00000</td>\n",
       "      <td>0.001420</td>\n",
       "    </tr>\n",
       "    <tr>\n",
       "      <th>...</th>\n",
       "      <td>...</td>\n",
       "      <td>...</td>\n",
       "      <td>...</td>\n",
       "      <td>...</td>\n",
       "      <td>...</td>\n",
       "      <td>...</td>\n",
       "      <td>...</td>\n",
       "      <td>...</td>\n",
       "      <td>...</td>\n",
       "      <td>...</td>\n",
       "    </tr>\n",
       "    <tr>\n",
       "      <th>52047</th>\n",
       "      <td>2020-01-22</td>\n",
       "      <td>VT</td>\n",
       "      <td>0</td>\n",
       "      <td>0</td>\n",
       "      <td>0</td>\n",
       "      <td>0</td>\n",
       "      <td>0</td>\n",
       "      <td>624313</td>\n",
       "      <td>0.00000</td>\n",
       "      <td>0.000000</td>\n",
       "    </tr>\n",
       "    <tr>\n",
       "      <th>52048</th>\n",
       "      <td>2020-01-22</td>\n",
       "      <td>WA</td>\n",
       "      <td>0</td>\n",
       "      <td>0</td>\n",
       "      <td>0</td>\n",
       "      <td>0</td>\n",
       "      <td>0</td>\n",
       "      <td>7404107</td>\n",
       "      <td>0.00000</td>\n",
       "      <td>0.000000</td>\n",
       "    </tr>\n",
       "    <tr>\n",
       "      <th>52049</th>\n",
       "      <td>2020-01-22</td>\n",
       "      <td>WI</td>\n",
       "      <td>0</td>\n",
       "      <td>0</td>\n",
       "      <td>0</td>\n",
       "      <td>0</td>\n",
       "      <td>0</td>\n",
       "      <td>5790716</td>\n",
       "      <td>0.00000</td>\n",
       "      <td>0.000000</td>\n",
       "    </tr>\n",
       "    <tr>\n",
       "      <th>52050</th>\n",
       "      <td>2020-01-22</td>\n",
       "      <td>WV</td>\n",
       "      <td>0</td>\n",
       "      <td>0</td>\n",
       "      <td>0</td>\n",
       "      <td>0</td>\n",
       "      <td>0</td>\n",
       "      <td>1817305</td>\n",
       "      <td>0.00000</td>\n",
       "      <td>0.000000</td>\n",
       "    </tr>\n",
       "    <tr>\n",
       "      <th>52051</th>\n",
       "      <td>2020-01-22</td>\n",
       "      <td>WY</td>\n",
       "      <td>0</td>\n",
       "      <td>0</td>\n",
       "      <td>0</td>\n",
       "      <td>0</td>\n",
       "      <td>0</td>\n",
       "      <td>581024</td>\n",
       "      <td>0.00000</td>\n",
       "      <td>0.000000</td>\n",
       "    </tr>\n",
       "  </tbody>\n",
       "</table>\n",
       "<p>52052 rows × 10 columns</p>\n",
       "</div>"
      ],
      "text/plain": [
       "      submit_date state  total_cases  new_cases  total_deaths  new_deaths  \\\n",
       "0      2022-10-18    AK       284076          0          1356           0   \n",
       "1      2022-10-18    AL      1530803        392         20526           4   \n",
       "2      2022-10-18    AR       956424        391         12386          14   \n",
       "3      2022-10-18    AZ      2277635          0         31455           0   \n",
       "4      2022-10-18    CA     11309237          0         95604           0   \n",
       "...           ...   ...          ...        ...           ...         ...   \n",
       "52047  2020-01-22    VT            0          0             0           0   \n",
       "52048  2020-01-22    WA            0          0             0           0   \n",
       "52049  2020-01-22    WI            0          0             0           0   \n",
       "52050  2020-01-22    WV            0          0             0           0   \n",
       "52051  2020-01-22    WY            0          0             0           0   \n",
       "\n",
       "       sum_cases_last_14_days  state_pop  new_cases_percent  \\\n",
       "0                        1151     737068            0.00000   \n",
       "1                        5656    4876250            0.00008   \n",
       "2                        3955    2999370            0.00013   \n",
       "3                        6075    7050299            0.00000   \n",
       "4                       55784   39283497            0.00000   \n",
       "...                       ...        ...                ...   \n",
       "52047                       0     624313            0.00000   \n",
       "52048                       0    7404107            0.00000   \n",
       "52049                       0    5790716            0.00000   \n",
       "52050                       0    1817305            0.00000   \n",
       "52051                       0     581024            0.00000   \n",
       "\n",
       "       cases_last_14_pop_percent  \n",
       "0                       0.001562  \n",
       "1                       0.001160  \n",
       "2                       0.001319  \n",
       "3                       0.000862  \n",
       "4                       0.001420  \n",
       "...                          ...  \n",
       "52047                   0.000000  \n",
       "52048                   0.000000  \n",
       "52049                   0.000000  \n",
       "52050                   0.000000  \n",
       "52051                   0.000000  \n",
       "\n",
       "[52052 rows x 10 columns]"
      ]
     },
     "execution_count": 5,
     "metadata": {},
     "output_type": "execute_result"
    }
   ],
   "source": [
    "covid_df"
   ]
  },
  {
   "cell_type": "code",
   "execution_count": 6,
   "id": "d841425e",
   "metadata": {},
   "outputs": [],
   "source": [
    "covid_df['submit_date'] = pd.to_datetime(covid_df['submit_date'], format='%Y-%m-%d')\n",
    "data=covid_df.query(\"state == 'NY'\")"
   ]
  },
  {
   "cell_type": "code",
   "execution_count": 7,
   "id": "9cb45b38",
   "metadata": {},
   "outputs": [
    {
     "data": {
      "text/html": [
       "<div>\n",
       "<style scoped>\n",
       "    .dataframe tbody tr th:only-of-type {\n",
       "        vertical-align: middle;\n",
       "    }\n",
       "\n",
       "    .dataframe tbody tr th {\n",
       "        vertical-align: top;\n",
       "    }\n",
       "\n",
       "    .dataframe thead th {\n",
       "        text-align: right;\n",
       "    }\n",
       "</style>\n",
       "<table border=\"1\" class=\"dataframe\">\n",
       "  <thead>\n",
       "    <tr style=\"text-align: right;\">\n",
       "      <th></th>\n",
       "      <th>submit_date</th>\n",
       "      <th>state</th>\n",
       "      <th>total_cases</th>\n",
       "      <th>new_cases</th>\n",
       "      <th>total_deaths</th>\n",
       "      <th>new_deaths</th>\n",
       "      <th>sum_cases_last_14_days</th>\n",
       "      <th>state_pop</th>\n",
       "      <th>new_cases_percent</th>\n",
       "      <th>cases_last_14_pop_percent</th>\n",
       "    </tr>\n",
       "  </thead>\n",
       "  <tbody>\n",
       "    <tr>\n",
       "      <th>0</th>\n",
       "      <td>2022-10-18</td>\n",
       "      <td>AK</td>\n",
       "      <td>284076</td>\n",
       "      <td>0</td>\n",
       "      <td>1356</td>\n",
       "      <td>0</td>\n",
       "      <td>1151</td>\n",
       "      <td>737068</td>\n",
       "      <td>0.00000</td>\n",
       "      <td>0.001562</td>\n",
       "    </tr>\n",
       "    <tr>\n",
       "      <th>1</th>\n",
       "      <td>2022-10-18</td>\n",
       "      <td>AL</td>\n",
       "      <td>1530803</td>\n",
       "      <td>392</td>\n",
       "      <td>20526</td>\n",
       "      <td>4</td>\n",
       "      <td>5656</td>\n",
       "      <td>4876250</td>\n",
       "      <td>0.00008</td>\n",
       "      <td>0.001160</td>\n",
       "    </tr>\n",
       "    <tr>\n",
       "      <th>2</th>\n",
       "      <td>2022-10-18</td>\n",
       "      <td>AR</td>\n",
       "      <td>956424</td>\n",
       "      <td>391</td>\n",
       "      <td>12386</td>\n",
       "      <td>14</td>\n",
       "      <td>3955</td>\n",
       "      <td>2999370</td>\n",
       "      <td>0.00013</td>\n",
       "      <td>0.001319</td>\n",
       "    </tr>\n",
       "    <tr>\n",
       "      <th>3</th>\n",
       "      <td>2022-10-18</td>\n",
       "      <td>AZ</td>\n",
       "      <td>2277635</td>\n",
       "      <td>0</td>\n",
       "      <td>31455</td>\n",
       "      <td>0</td>\n",
       "      <td>6075</td>\n",
       "      <td>7050299</td>\n",
       "      <td>0.00000</td>\n",
       "      <td>0.000862</td>\n",
       "    </tr>\n",
       "    <tr>\n",
       "      <th>4</th>\n",
       "      <td>2022-10-18</td>\n",
       "      <td>CA</td>\n",
       "      <td>11309237</td>\n",
       "      <td>0</td>\n",
       "      <td>95604</td>\n",
       "      <td>0</td>\n",
       "      <td>55784</td>\n",
       "      <td>39283497</td>\n",
       "      <td>0.00000</td>\n",
       "      <td>0.001420</td>\n",
       "    </tr>\n",
       "    <tr>\n",
       "      <th>...</th>\n",
       "      <td>...</td>\n",
       "      <td>...</td>\n",
       "      <td>...</td>\n",
       "      <td>...</td>\n",
       "      <td>...</td>\n",
       "      <td>...</td>\n",
       "      <td>...</td>\n",
       "      <td>...</td>\n",
       "      <td>...</td>\n",
       "      <td>...</td>\n",
       "    </tr>\n",
       "    <tr>\n",
       "      <th>52047</th>\n",
       "      <td>2020-01-22</td>\n",
       "      <td>VT</td>\n",
       "      <td>0</td>\n",
       "      <td>0</td>\n",
       "      <td>0</td>\n",
       "      <td>0</td>\n",
       "      <td>0</td>\n",
       "      <td>624313</td>\n",
       "      <td>0.00000</td>\n",
       "      <td>0.000000</td>\n",
       "    </tr>\n",
       "    <tr>\n",
       "      <th>52048</th>\n",
       "      <td>2020-01-22</td>\n",
       "      <td>WA</td>\n",
       "      <td>0</td>\n",
       "      <td>0</td>\n",
       "      <td>0</td>\n",
       "      <td>0</td>\n",
       "      <td>0</td>\n",
       "      <td>7404107</td>\n",
       "      <td>0.00000</td>\n",
       "      <td>0.000000</td>\n",
       "    </tr>\n",
       "    <tr>\n",
       "      <th>52049</th>\n",
       "      <td>2020-01-22</td>\n",
       "      <td>WI</td>\n",
       "      <td>0</td>\n",
       "      <td>0</td>\n",
       "      <td>0</td>\n",
       "      <td>0</td>\n",
       "      <td>0</td>\n",
       "      <td>5790716</td>\n",
       "      <td>0.00000</td>\n",
       "      <td>0.000000</td>\n",
       "    </tr>\n",
       "    <tr>\n",
       "      <th>52050</th>\n",
       "      <td>2020-01-22</td>\n",
       "      <td>WV</td>\n",
       "      <td>0</td>\n",
       "      <td>0</td>\n",
       "      <td>0</td>\n",
       "      <td>0</td>\n",
       "      <td>0</td>\n",
       "      <td>1817305</td>\n",
       "      <td>0.00000</td>\n",
       "      <td>0.000000</td>\n",
       "    </tr>\n",
       "    <tr>\n",
       "      <th>52051</th>\n",
       "      <td>2020-01-22</td>\n",
       "      <td>WY</td>\n",
       "      <td>0</td>\n",
       "      <td>0</td>\n",
       "      <td>0</td>\n",
       "      <td>0</td>\n",
       "      <td>0</td>\n",
       "      <td>581024</td>\n",
       "      <td>0.00000</td>\n",
       "      <td>0.000000</td>\n",
       "    </tr>\n",
       "  </tbody>\n",
       "</table>\n",
       "<p>52052 rows × 10 columns</p>\n",
       "</div>"
      ],
      "text/plain": [
       "      submit_date state  total_cases  new_cases  total_deaths  new_deaths  \\\n",
       "0      2022-10-18    AK       284076          0          1356           0   \n",
       "1      2022-10-18    AL      1530803        392         20526           4   \n",
       "2      2022-10-18    AR       956424        391         12386          14   \n",
       "3      2022-10-18    AZ      2277635          0         31455           0   \n",
       "4      2022-10-18    CA     11309237          0         95604           0   \n",
       "...           ...   ...          ...        ...           ...         ...   \n",
       "52047  2020-01-22    VT            0          0             0           0   \n",
       "52048  2020-01-22    WA            0          0             0           0   \n",
       "52049  2020-01-22    WI            0          0             0           0   \n",
       "52050  2020-01-22    WV            0          0             0           0   \n",
       "52051  2020-01-22    WY            0          0             0           0   \n",
       "\n",
       "       sum_cases_last_14_days  state_pop  new_cases_percent  \\\n",
       "0                        1151     737068            0.00000   \n",
       "1                        5656    4876250            0.00008   \n",
       "2                        3955    2999370            0.00013   \n",
       "3                        6075    7050299            0.00000   \n",
       "4                       55784   39283497            0.00000   \n",
       "...                       ...        ...                ...   \n",
       "52047                       0     624313            0.00000   \n",
       "52048                       0    7404107            0.00000   \n",
       "52049                       0    5790716            0.00000   \n",
       "52050                       0    1817305            0.00000   \n",
       "52051                       0     581024            0.00000   \n",
       "\n",
       "       cases_last_14_pop_percent  \n",
       "0                       0.001562  \n",
       "1                       0.001160  \n",
       "2                       0.001319  \n",
       "3                       0.000862  \n",
       "4                       0.001420  \n",
       "...                          ...  \n",
       "52047                   0.000000  \n",
       "52048                   0.000000  \n",
       "52049                   0.000000  \n",
       "52050                   0.000000  \n",
       "52051                   0.000000  \n",
       "\n",
       "[52052 rows x 10 columns]"
      ]
     },
     "execution_count": 7,
     "metadata": {},
     "output_type": "execute_result"
    }
   ],
   "source": [
    "covid_df"
   ]
  },
  {
   "cell_type": "code",
   "execution_count": 8,
   "id": "e762882c",
   "metadata": {},
   "outputs": [
    {
     "name": "stderr",
     "output_type": "stream",
     "text": [
      "H:\\Program Files (x86)\\anaconda3\\envs\\covid_data\\lib\\site-packages\\pandas\\util\\_decorators.py:311: SettingWithCopyWarning: \n",
      "A value is trying to be set on a copy of a slice from a DataFrame\n",
      "\n",
      "See the caveats in the documentation: https://pandas.pydata.org/pandas-docs/stable/user_guide/indexing.html#returning-a-view-versus-a-copy\n",
      "  return func(*args, **kwargs)\n"
     ]
    },
    {
     "data": {
      "text/html": [
       "<div>\n",
       "<style scoped>\n",
       "    .dataframe tbody tr th:only-of-type {\n",
       "        vertical-align: middle;\n",
       "    }\n",
       "\n",
       "    .dataframe tbody tr th {\n",
       "        vertical-align: top;\n",
       "    }\n",
       "\n",
       "    .dataframe thead th {\n",
       "        text-align: right;\n",
       "    }\n",
       "</style>\n",
       "<table border=\"1\" class=\"dataframe\">\n",
       "  <thead>\n",
       "    <tr style=\"text-align: right;\">\n",
       "      <th></th>\n",
       "      <th>submit_date</th>\n",
       "      <th>state</th>\n",
       "      <th>total_cases</th>\n",
       "      <th>new_cases</th>\n",
       "      <th>total_deaths</th>\n",
       "      <th>new_deaths</th>\n",
       "      <th>sum_cases_last_14_days</th>\n",
       "      <th>state_pop</th>\n",
       "      <th>new_cases_percent</th>\n",
       "      <th>cases_last_14_pop_percent</th>\n",
       "    </tr>\n",
       "  </thead>\n",
       "  <tbody>\n",
       "    <tr>\n",
       "      <th>34</th>\n",
       "      <td>2022-10-18</td>\n",
       "      <td>NY</td>\n",
       "      <td>6187620</td>\n",
       "      <td>3780</td>\n",
       "      <td>71577</td>\n",
       "      <td>61</td>\n",
       "      <td>59801</td>\n",
       "      <td>19572319</td>\n",
       "      <td>0.000193</td>\n",
       "      <td>0.003055</td>\n",
       "    </tr>\n",
       "    <tr>\n",
       "      <th>86</th>\n",
       "      <td>2022-10-17</td>\n",
       "      <td>NY</td>\n",
       "      <td>6183840</td>\n",
       "      <td>3145</td>\n",
       "      <td>71516</td>\n",
       "      <td>48</td>\n",
       "      <td>59815</td>\n",
       "      <td>19572319</td>\n",
       "      <td>0.000161</td>\n",
       "      <td>0.003056</td>\n",
       "    </tr>\n",
       "    <tr>\n",
       "      <th>138</th>\n",
       "      <td>2022-10-16</td>\n",
       "      <td>NY</td>\n",
       "      <td>6180695</td>\n",
       "      <td>8120</td>\n",
       "      <td>71468</td>\n",
       "      <td>8</td>\n",
       "      <td>59767</td>\n",
       "      <td>19572319</td>\n",
       "      <td>0.000415</td>\n",
       "      <td>0.003054</td>\n",
       "    </tr>\n",
       "    <tr>\n",
       "      <th>190</th>\n",
       "      <td>2022-10-15</td>\n",
       "      <td>NY</td>\n",
       "      <td>6172575</td>\n",
       "      <td>2185</td>\n",
       "      <td>71460</td>\n",
       "      <td>0</td>\n",
       "      <td>58907</td>\n",
       "      <td>19572319</td>\n",
       "      <td>0.000112</td>\n",
       "      <td>0.003010</td>\n",
       "    </tr>\n",
       "    <tr>\n",
       "      <th>242</th>\n",
       "      <td>2022-10-14</td>\n",
       "      <td>NY</td>\n",
       "      <td>6170390</td>\n",
       "      <td>2764</td>\n",
       "      <td>71460</td>\n",
       "      <td>13</td>\n",
       "      <td>59365</td>\n",
       "      <td>19572319</td>\n",
       "      <td>0.000141</td>\n",
       "      <td>0.003033</td>\n",
       "    </tr>\n",
       "    <tr>\n",
       "      <th>...</th>\n",
       "      <td>...</td>\n",
       "      <td>...</td>\n",
       "      <td>...</td>\n",
       "      <td>...</td>\n",
       "      <td>...</td>\n",
       "      <td>...</td>\n",
       "      <td>...</td>\n",
       "      <td>...</td>\n",
       "      <td>...</td>\n",
       "      <td>...</td>\n",
       "    </tr>\n",
       "    <tr>\n",
       "      <th>51826</th>\n",
       "      <td>2020-01-26</td>\n",
       "      <td>NY</td>\n",
       "      <td>0</td>\n",
       "      <td>0</td>\n",
       "      <td>0</td>\n",
       "      <td>0</td>\n",
       "      <td>0</td>\n",
       "      <td>19572319</td>\n",
       "      <td>0.000000</td>\n",
       "      <td>0.000000</td>\n",
       "    </tr>\n",
       "    <tr>\n",
       "      <th>51878</th>\n",
       "      <td>2020-01-25</td>\n",
       "      <td>NY</td>\n",
       "      <td>0</td>\n",
       "      <td>0</td>\n",
       "      <td>0</td>\n",
       "      <td>0</td>\n",
       "      <td>0</td>\n",
       "      <td>19572319</td>\n",
       "      <td>0.000000</td>\n",
       "      <td>0.000000</td>\n",
       "    </tr>\n",
       "    <tr>\n",
       "      <th>51930</th>\n",
       "      <td>2020-01-24</td>\n",
       "      <td>NY</td>\n",
       "      <td>0</td>\n",
       "      <td>0</td>\n",
       "      <td>0</td>\n",
       "      <td>0</td>\n",
       "      <td>0</td>\n",
       "      <td>19572319</td>\n",
       "      <td>0.000000</td>\n",
       "      <td>0.000000</td>\n",
       "    </tr>\n",
       "    <tr>\n",
       "      <th>51982</th>\n",
       "      <td>2020-01-23</td>\n",
       "      <td>NY</td>\n",
       "      <td>0</td>\n",
       "      <td>0</td>\n",
       "      <td>0</td>\n",
       "      <td>0</td>\n",
       "      <td>0</td>\n",
       "      <td>19572319</td>\n",
       "      <td>0.000000</td>\n",
       "      <td>0.000000</td>\n",
       "    </tr>\n",
       "    <tr>\n",
       "      <th>52034</th>\n",
       "      <td>2020-01-22</td>\n",
       "      <td>NY</td>\n",
       "      <td>0</td>\n",
       "      <td>0</td>\n",
       "      <td>0</td>\n",
       "      <td>0</td>\n",
       "      <td>0</td>\n",
       "      <td>19572319</td>\n",
       "      <td>0.000000</td>\n",
       "      <td>0.000000</td>\n",
       "    </tr>\n",
       "  </tbody>\n",
       "</table>\n",
       "<p>1001 rows × 10 columns</p>\n",
       "</div>"
      ],
      "text/plain": [
       "      submit_date state  total_cases  new_cases  total_deaths  new_deaths  \\\n",
       "34     2022-10-18    NY      6187620       3780         71577          61   \n",
       "86     2022-10-17    NY      6183840       3145         71516          48   \n",
       "138    2022-10-16    NY      6180695       8120         71468           8   \n",
       "190    2022-10-15    NY      6172575       2185         71460           0   \n",
       "242    2022-10-14    NY      6170390       2764         71460          13   \n",
       "...           ...   ...          ...        ...           ...         ...   \n",
       "51826  2020-01-26    NY            0          0             0           0   \n",
       "51878  2020-01-25    NY            0          0             0           0   \n",
       "51930  2020-01-24    NY            0          0             0           0   \n",
       "51982  2020-01-23    NY            0          0             0           0   \n",
       "52034  2020-01-22    NY            0          0             0           0   \n",
       "\n",
       "       sum_cases_last_14_days  state_pop  new_cases_percent  \\\n",
       "34                      59801   19572319           0.000193   \n",
       "86                      59815   19572319           0.000161   \n",
       "138                     59767   19572319           0.000415   \n",
       "190                     58907   19572319           0.000112   \n",
       "242                     59365   19572319           0.000141   \n",
       "...                       ...        ...                ...   \n",
       "51826                       0   19572319           0.000000   \n",
       "51878                       0   19572319           0.000000   \n",
       "51930                       0   19572319           0.000000   \n",
       "51982                       0   19572319           0.000000   \n",
       "52034                       0   19572319           0.000000   \n",
       "\n",
       "       cases_last_14_pop_percent  \n",
       "34                      0.003055  \n",
       "86                      0.003056  \n",
       "138                     0.003054  \n",
       "190                     0.003010  \n",
       "242                     0.003033  \n",
       "...                          ...  \n",
       "51826                   0.000000  \n",
       "51878                   0.000000  \n",
       "51930                   0.000000  \n",
       "51982                   0.000000  \n",
       "52034                   0.000000  \n",
       "\n",
       "[1001 rows x 10 columns]"
      ]
     },
     "execution_count": 8,
     "metadata": {},
     "output_type": "execute_result"
    }
   ],
   "source": [
    "data.sort_values('submit_date', inplace=True, ascending=False)\n",
    "data"
   ]
  },
  {
   "cell_type": "code",
   "execution_count": 6,
   "id": "b06bc41b",
   "metadata": {},
   "outputs": [],
   "source": [
    "app = dash.Dash(__name__)"
   ]
  },
  {
   "cell_type": "code",
   "execution_count": 14,
   "id": "b07addd9",
   "metadata": {},
   "outputs": [],
   "source": [
    "app.layout = html.Div(\n",
    "    children=[\n",
    "        html.H1(children='Daily US Covid Cases By Percent Population',),\n",
    "        html.P(\n",
    "            children='Daily Cases'\n",
    "        ),\n",
    "        dcc.Graph(\n",
    "            figure={\n",
    "                \"data\": [\n",
    "                    {\n",
    "                        \"x\": covid_df['submit_date'],\n",
    "                        \"y\": covid_df['new_cases_percent'],\n",
    "                        \"type\": \"lines\"\n",
    "                    },\n",
    "                ],\n",
    "                \"layout\": {\"title\": \"State Percentage\"},\n",
    "            },\n",
    "        ),\n",
    "    ]\n",
    ")"
   ]
  },
  {
   "cell_type": "code",
   "execution_count": 16,
   "id": "729a90c6",
   "metadata": {},
   "outputs": [
    {
     "name": "stdout",
     "output_type": "stream",
     "text": [
      "Dash is running on http://127.0.0.1:8050/\n",
      "\n",
      " * Serving Flask app '__main__' (lazy loading)\n",
      " * Environment: production\n",
      "\u001b[31m   WARNING: This is a development server. Do not use it in a production deployment.\u001b[0m\n",
      "\u001b[2m   Use a production WSGI server instead.\u001b[0m\n",
      " * Debug mode: on\n"
     ]
    },
    {
     "ename": "SystemExit",
     "evalue": "1",
     "output_type": "error",
     "traceback": [
      "An exception has occurred, use %tb to see the full traceback.\n",
      "\u001b[1;31mSystemExit\u001b[0m\u001b[1;31m:\u001b[0m 1\n"
     ]
    }
   ],
   "source": [
    "app.run_server(debug=True)"
   ]
  },
  {
   "cell_type": "code",
   "execution_count": 17,
   "id": "65631927",
   "metadata": {},
   "outputs": [
    {
     "ename": "SystemExit",
     "evalue": "1",
     "output_type": "error",
     "traceback": [
      "\u001b[1;31m---------------------------------------------------------------------------\u001b[0m",
      "\u001b[1;31mSystemExit\u001b[0m                                Traceback (most recent call last)",
      "\u001b[1;32m~\\AppData\\Local\\Temp\\ipykernel_20340\\1297760019.py\u001b[0m in \u001b[0;36m<module>\u001b[1;34m\u001b[0m\n\u001b[1;32m----> 1\u001b[1;33m \u001b[0mapp\u001b[0m\u001b[1;33m.\u001b[0m\u001b[0mrun_server\u001b[0m\u001b[1;33m(\u001b[0m\u001b[0mdebug\u001b[0m\u001b[1;33m=\u001b[0m\u001b[1;32mTrue\u001b[0m\u001b[1;33m)\u001b[0m\u001b[1;33m\u001b[0m\u001b[1;33m\u001b[0m\u001b[0m\n\u001b[0m",
      "\u001b[1;32mH:\\Program Files (x86)\\anaconda3\\envs\\covid_data\\lib\\site-packages\\dash\\dash.py\u001b[0m in \u001b[0;36mrun_server\u001b[1;34m(self, host, port, proxy, debug, dev_tools_ui, dev_tools_props_check, dev_tools_serve_dev_bundles, dev_tools_hot_reload, dev_tools_hot_reload_interval, dev_tools_hot_reload_watch_interval, dev_tools_hot_reload_max_retry, dev_tools_silence_routes_logging, dev_tools_prune_errors, **flask_run_options)\u001b[0m\n\u001b[0;32m   1715\u001b[0m             \u001b[0mself\u001b[0m\u001b[1;33m.\u001b[0m\u001b[0mlogger\u001b[0m\u001b[1;33m.\u001b[0m\u001b[0minfo\u001b[0m\u001b[1;33m(\u001b[0m\u001b[1;34m\"Dash is running on %s://%s%s%s\\n\"\u001b[0m\u001b[1;33m,\u001b[0m \u001b[1;33m*\u001b[0m\u001b[0mdisplay_url\u001b[0m\u001b[1;33m)\u001b[0m\u001b[1;33m\u001b[0m\u001b[1;33m\u001b[0m\u001b[0m\n\u001b[0;32m   1716\u001b[0m \u001b[1;33m\u001b[0m\u001b[0m\n\u001b[1;32m-> 1717\u001b[1;33m         \u001b[0mself\u001b[0m\u001b[1;33m.\u001b[0m\u001b[0mserver\u001b[0m\u001b[1;33m.\u001b[0m\u001b[0mrun\u001b[0m\u001b[1;33m(\u001b[0m\u001b[0mhost\u001b[0m\u001b[1;33m=\u001b[0m\u001b[0mhost\u001b[0m\u001b[1;33m,\u001b[0m \u001b[0mport\u001b[0m\u001b[1;33m=\u001b[0m\u001b[0mport\u001b[0m\u001b[1;33m,\u001b[0m \u001b[0mdebug\u001b[0m\u001b[1;33m=\u001b[0m\u001b[0mdebug\u001b[0m\u001b[1;33m,\u001b[0m \u001b[1;33m**\u001b[0m\u001b[0mflask_run_options\u001b[0m\u001b[1;33m)\u001b[0m\u001b[1;33m\u001b[0m\u001b[1;33m\u001b[0m\u001b[0m\n\u001b[0m",
      "\u001b[1;32mH:\\Program Files (x86)\\anaconda3\\envs\\covid_data\\lib\\site-packages\\flask\\app.py\u001b[0m in \u001b[0;36mrun\u001b[1;34m(self, host, port, debug, load_dotenv, **options)\u001b[0m\n\u001b[0;32m    912\u001b[0m \u001b[1;33m\u001b[0m\u001b[0m\n\u001b[0;32m    913\u001b[0m         \u001b[1;32mtry\u001b[0m\u001b[1;33m:\u001b[0m\u001b[1;33m\u001b[0m\u001b[1;33m\u001b[0m\u001b[0m\n\u001b[1;32m--> 914\u001b[1;33m             \u001b[0mrun_simple\u001b[0m\u001b[1;33m(\u001b[0m\u001b[0mt\u001b[0m\u001b[1;33m.\u001b[0m\u001b[0mcast\u001b[0m\u001b[1;33m(\u001b[0m\u001b[0mstr\u001b[0m\u001b[1;33m,\u001b[0m \u001b[0mhost\u001b[0m\u001b[1;33m)\u001b[0m\u001b[1;33m,\u001b[0m \u001b[0mport\u001b[0m\u001b[1;33m,\u001b[0m \u001b[0mself\u001b[0m\u001b[1;33m,\u001b[0m \u001b[1;33m**\u001b[0m\u001b[0moptions\u001b[0m\u001b[1;33m)\u001b[0m\u001b[1;33m\u001b[0m\u001b[1;33m\u001b[0m\u001b[0m\n\u001b[0m\u001b[0;32m    915\u001b[0m         \u001b[1;32mfinally\u001b[0m\u001b[1;33m:\u001b[0m\u001b[1;33m\u001b[0m\u001b[1;33m\u001b[0m\u001b[0m\n\u001b[0;32m    916\u001b[0m             \u001b[1;31m# reset the first request information if the development server\u001b[0m\u001b[1;33m\u001b[0m\u001b[1;33m\u001b[0m\u001b[1;33m\u001b[0m\u001b[0m\n",
      "\u001b[1;32mH:\\Program Files (x86)\\anaconda3\\envs\\covid_data\\lib\\site-packages\\werkzeug\\serving.py\u001b[0m in \u001b[0;36mrun_simple\u001b[1;34m(hostname, port, application, use_reloader, use_debugger, use_evalex, extra_files, exclude_patterns, reloader_interval, reloader_type, threaded, processes, request_handler, static_files, passthrough_errors, ssl_context)\u001b[0m\n\u001b[0;32m   1012\u001b[0m             \u001b[0mexclude_patterns\u001b[0m\u001b[1;33m=\u001b[0m\u001b[0mexclude_patterns\u001b[0m\u001b[1;33m,\u001b[0m\u001b[1;33m\u001b[0m\u001b[1;33m\u001b[0m\u001b[0m\n\u001b[0;32m   1013\u001b[0m             \u001b[0minterval\u001b[0m\u001b[1;33m=\u001b[0m\u001b[0mreloader_interval\u001b[0m\u001b[1;33m,\u001b[0m\u001b[1;33m\u001b[0m\u001b[1;33m\u001b[0m\u001b[0m\n\u001b[1;32m-> 1014\u001b[1;33m             \u001b[0mreloader_type\u001b[0m\u001b[1;33m=\u001b[0m\u001b[0mreloader_type\u001b[0m\u001b[1;33m,\u001b[0m\u001b[1;33m\u001b[0m\u001b[1;33m\u001b[0m\u001b[0m\n\u001b[0m\u001b[0;32m   1015\u001b[0m         )\n\u001b[0;32m   1016\u001b[0m     \u001b[1;32melse\u001b[0m\u001b[1;33m:\u001b[0m\u001b[1;33m\u001b[0m\u001b[1;33m\u001b[0m\u001b[0m\n",
      "\u001b[1;32mH:\\Program Files (x86)\\anaconda3\\envs\\covid_data\\lib\\site-packages\\werkzeug\\_reloader.py\u001b[0m in \u001b[0;36mrun_with_reloader\u001b[1;34m(main_func, extra_files, exclude_patterns, interval, reloader_type)\u001b[0m\n\u001b[0;32m    426\u001b[0m                 \u001b[0mreloader\u001b[0m\u001b[1;33m.\u001b[0m\u001b[0mrun\u001b[0m\u001b[1;33m(\u001b[0m\u001b[1;33m)\u001b[0m\u001b[1;33m\u001b[0m\u001b[1;33m\u001b[0m\u001b[0m\n\u001b[0;32m    427\u001b[0m         \u001b[1;32melse\u001b[0m\u001b[1;33m:\u001b[0m\u001b[1;33m\u001b[0m\u001b[1;33m\u001b[0m\u001b[0m\n\u001b[1;32m--> 428\u001b[1;33m             \u001b[0msys\u001b[0m\u001b[1;33m.\u001b[0m\u001b[0mexit\u001b[0m\u001b[1;33m(\u001b[0m\u001b[0mreloader\u001b[0m\u001b[1;33m.\u001b[0m\u001b[0mrestart_with_reloader\u001b[0m\u001b[1;33m(\u001b[0m\u001b[1;33m)\u001b[0m\u001b[1;33m)\u001b[0m\u001b[1;33m\u001b[0m\u001b[1;33m\u001b[0m\u001b[0m\n\u001b[0m\u001b[0;32m    429\u001b[0m     \u001b[1;32mexcept\u001b[0m \u001b[0mKeyboardInterrupt\u001b[0m\u001b[1;33m:\u001b[0m\u001b[1;33m\u001b[0m\u001b[1;33m\u001b[0m\u001b[0m\n\u001b[0;32m    430\u001b[0m         \u001b[1;32mpass\u001b[0m\u001b[1;33m\u001b[0m\u001b[1;33m\u001b[0m\u001b[0m\n",
      "\u001b[1;31mSystemExit\u001b[0m: 1"
     ]
    }
   ],
   "source": [
    "%tb"
   ]
  },
  {
   "cell_type": "code",
   "execution_count": 35,
   "id": "8b0aada1",
   "metadata": {},
   "outputs": [
    {
     "data": {
      "text/plain": [
       "array(['AK', 'AL', 'AR', 'AZ', 'CA', 'CO', 'CT', 'DC', 'DE', 'FL', 'GA',\n",
       "       'HI', 'IA', 'ID', 'IL', 'IN', 'KS', 'KY', 'LA', 'MA', 'MD', 'ME',\n",
       "       'MI', 'MN', 'MO', 'MS', 'MT', 'NC', 'ND', 'NE', 'NH', 'NJ', 'NM',\n",
       "       'NV', 'NY', 'OH', 'OK', 'OR', 'PA', 'PR', 'RI', 'SC', 'SD', 'TN',\n",
       "       'TX', 'UT', 'VA', 'VT', 'WA', 'WI', 'WV', 'WY'], dtype=object)"
      ]
     },
     "execution_count": 35,
     "metadata": {},
     "output_type": "execute_result"
    }
   ],
   "source": [
    "covid_df['state'].unique()"
   ]
  },
  {
   "cell_type": "code",
   "execution_count": 47,
   "id": "28c9ae57",
   "metadata": {},
   "outputs": [],
   "source": [
    "mask = (covid_df['state'] == 'NY')"
   ]
  },
  {
   "cell_type": "code",
   "execution_count": 49,
   "id": "6987768b",
   "metadata": {},
   "outputs": [
    {
     "data": {
      "text/plain": [
       "0        False\n",
       "1        False\n",
       "2        False\n",
       "3        False\n",
       "4        False\n",
       "         ...  \n",
       "52047    False\n",
       "52048    False\n",
       "52049    False\n",
       "52050    False\n",
       "52051    False\n",
       "Name: state, Length: 52052, dtype: bool"
      ]
     },
     "execution_count": 49,
     "metadata": {},
     "output_type": "execute_result"
    }
   ],
   "source": [
    "mask"
   ]
  },
  {
   "cell_type": "code",
   "execution_count": 59,
   "id": "d239f85c",
   "metadata": {},
   "outputs": [],
   "source": [
    "covid_df2 = covid_df.rename(\n",
    "    columns= {\n",
    "        'new_cases':'new_cases (1d)',\n",
    "        'sum_cases_last_14_days':'new_cases (14d)',\n",
    "        'new_cases_percent':'new_cases % pop (1d)',\n",
    "        'cases_last_14_pop_percent':'new_cases % pop (14d)',\n",
    "    }\n",
    ")"
   ]
  },
  {
   "cell_type": "code",
   "execution_count": 37,
   "id": "f3976b24",
   "metadata": {},
   "outputs": [],
   "source": [
    "import datetime"
   ]
  },
  {
   "cell_type": "code",
   "execution_count": 45,
   "id": "c377ccb5",
   "metadata": {},
   "outputs": [
    {
     "data": {
      "text/plain": [
       "datetime.date(22, 1, 1)"
      ]
     },
     "execution_count": 45,
     "metadata": {},
     "output_type": "execute_result"
    }
   ],
   "source": [
    "datetime.date(22,1,1)"
   ]
  },
  {
   "cell_type": "code",
   "execution_count": 110,
   "id": "aa01afe6",
   "metadata": {},
   "outputs": [],
   "source": [
    "last_df = covid_df2[covid_df['submit_date']=='2021-12-26']"
   ]
  },
  {
   "cell_type": "code",
   "execution_count": 111,
   "id": "108e8cc8",
   "metadata": {},
   "outputs": [
    {
     "name": "stderr",
     "output_type": "stream",
     "text": [
      "H:\\Program Files (x86)\\anaconda3\\envs\\covid_data\\lib\\site-packages\\ipykernel_launcher.py:1: SettingWithCopyWarning:\n",
      "\n",
      "\n",
      "A value is trying to be set on a copy of a slice from a DataFrame.\n",
      "Try using .loc[row_indexer,col_indexer] = value instead\n",
      "\n",
      "See the caveats in the documentation: https://pandas.pydata.org/pandas-docs/stable/user_guide/indexing.html#returning-a-view-versus-a-copy\n",
      "\n",
      "H:\\Program Files (x86)\\anaconda3\\envs\\covid_data\\lib\\site-packages\\ipykernel_launcher.py:2: SettingWithCopyWarning:\n",
      "\n",
      "\n",
      "A value is trying to be set on a copy of a slice from a DataFrame.\n",
      "Try using .loc[row_indexer,col_indexer] = value instead\n",
      "\n",
      "See the caveats in the documentation: https://pandas.pydata.org/pandas-docs/stable/user_guide/indexing.html#returning-a-view-versus-a-copy\n",
      "\n"
     ]
    }
   ],
   "source": [
    "last_df['new_cases % pop (1d)'] = last_df['new_cases % pop (1d)']*100\n",
    "last_df['new_cases % pop (14d)'] = last_df['new_cases % pop (14d)']*100"
   ]
  },
  {
   "cell_type": "code",
   "execution_count": 65,
   "id": "d1fef161",
   "metadata": {},
   "outputs": [],
   "source": [
    "covid_df2 = covid_df2[covid_df2['new_cases (1d)']>=0]"
   ]
  },
  {
   "cell_type": "code",
   "execution_count": 124,
   "id": "b8933123",
   "metadata": {},
   "outputs": [
    {
     "data": {
      "text/html": [
       "<div>\n",
       "<style scoped>\n",
       "    .dataframe tbody tr th:only-of-type {\n",
       "        vertical-align: middle;\n",
       "    }\n",
       "\n",
       "    .dataframe tbody tr th {\n",
       "        vertical-align: top;\n",
       "    }\n",
       "\n",
       "    .dataframe thead th {\n",
       "        text-align: right;\n",
       "    }\n",
       "</style>\n",
       "<table border=\"1\" class=\"dataframe\">\n",
       "  <thead>\n",
       "    <tr style=\"text-align: right;\">\n",
       "      <th></th>\n",
       "      <th>submit_date</th>\n",
       "      <th>state</th>\n",
       "      <th>total_cases</th>\n",
       "      <th>new_cases (1d)</th>\n",
       "      <th>total_deaths</th>\n",
       "      <th>new_deaths</th>\n",
       "      <th>new_cases (14d)</th>\n",
       "      <th>state_pop</th>\n",
       "      <th>new_cases % pop (1d)</th>\n",
       "      <th>new_cases % pop (14d)</th>\n",
       "    </tr>\n",
       "  </thead>\n",
       "  <tbody>\n",
       "    <tr>\n",
       "      <th>15392</th>\n",
       "      <td>2021-12-26</td>\n",
       "      <td>AK</td>\n",
       "      <td>149815</td>\n",
       "      <td>0</td>\n",
       "      <td>945</td>\n",
       "      <td>0</td>\n",
       "      <td>1840</td>\n",
       "      <td>737068</td>\n",
       "      <td>0.000000</td>\n",
       "      <td>0.249638</td>\n",
       "    </tr>\n",
       "    <tr>\n",
       "      <th>15393</th>\n",
       "      <td>2021-12-26</td>\n",
       "      <td>AL</td>\n",
       "      <td>869940</td>\n",
       "      <td>1950</td>\n",
       "      <td>16693</td>\n",
       "      <td>12</td>\n",
       "      <td>18633</td>\n",
       "      <td>4876250</td>\n",
       "      <td>0.039990</td>\n",
       "      <td>0.382117</td>\n",
       "    </tr>\n",
       "    <tr>\n",
       "      <th>15394</th>\n",
       "      <td>2021-12-26</td>\n",
       "      <td>AR</td>\n",
       "      <td>550413</td>\n",
       "      <td>422</td>\n",
       "      <td>9066</td>\n",
       "      <td>8</td>\n",
       "      <td>11987</td>\n",
       "      <td>2999370</td>\n",
       "      <td>0.014070</td>\n",
       "      <td>0.399651</td>\n",
       "    </tr>\n",
       "    <tr>\n",
       "      <th>15395</th>\n",
       "      <td>2021-12-26</td>\n",
       "      <td>AZ</td>\n",
       "      <td>1355052</td>\n",
       "      <td>344</td>\n",
       "      <td>23982</td>\n",
       "      <td>-1</td>\n",
       "      <td>38863</td>\n",
       "      <td>7050299</td>\n",
       "      <td>0.004879</td>\n",
       "      <td>0.551225</td>\n",
       "    </tr>\n",
       "    <tr>\n",
       "      <th>15396</th>\n",
       "      <td>2021-12-26</td>\n",
       "      <td>CA</td>\n",
       "      <td>5264182</td>\n",
       "      <td>0</td>\n",
       "      <td>75461</td>\n",
       "      <td>0</td>\n",
       "      <td>130944</td>\n",
       "      <td>39283497</td>\n",
       "      <td>0.000000</td>\n",
       "      <td>0.333331</td>\n",
       "    </tr>\n",
       "    <tr>\n",
       "      <th>15397</th>\n",
       "      <td>2021-12-26</td>\n",
       "      <td>CO</td>\n",
       "      <td>912440</td>\n",
       "      <td>4851</td>\n",
       "      <td>10074</td>\n",
       "      <td>0</td>\n",
       "      <td>43663</td>\n",
       "      <td>5610349</td>\n",
       "      <td>0.086465</td>\n",
       "      <td>0.778258</td>\n",
       "    </tr>\n",
       "    <tr>\n",
       "      <th>15398</th>\n",
       "      <td>2021-12-26</td>\n",
       "      <td>CT</td>\n",
       "      <td>474557</td>\n",
       "      <td>0</td>\n",
       "      <td>9077</td>\n",
       "      <td>0</td>\n",
       "      <td>35134</td>\n",
       "      <td>3575074</td>\n",
       "      <td>0.000000</td>\n",
       "      <td>0.982749</td>\n",
       "    </tr>\n",
       "    <tr>\n",
       "      <th>15399</th>\n",
       "      <td>2021-12-26</td>\n",
       "      <td>DC</td>\n",
       "      <td>79565</td>\n",
       "      <td>0</td>\n",
       "      <td>1207</td>\n",
       "      <td>0</td>\n",
       "      <td>10863</td>\n",
       "      <td>692683</td>\n",
       "      <td>0.000000</td>\n",
       "      <td>1.568250</td>\n",
       "    </tr>\n",
       "    <tr>\n",
       "      <th>15400</th>\n",
       "      <td>2021-12-26</td>\n",
       "      <td>DE</td>\n",
       "      <td>170379</td>\n",
       "      <td>1272</td>\n",
       "      <td>2365</td>\n",
       "      <td>5</td>\n",
       "      <td>12017</td>\n",
       "      <td>957248</td>\n",
       "      <td>0.132881</td>\n",
       "      <td>1.255370</td>\n",
       "    </tr>\n",
       "    <tr>\n",
       "      <th>15401</th>\n",
       "      <td>2021-12-26</td>\n",
       "      <td>FL</td>\n",
       "      <td>3976912</td>\n",
       "      <td>29001</td>\n",
       "      <td>62969</td>\n",
       "      <td>39</td>\n",
       "      <td>232230</td>\n",
       "      <td>20901636</td>\n",
       "      <td>0.138750</td>\n",
       "      <td>1.111061</td>\n",
       "    </tr>\n",
       "    <tr>\n",
       "      <th>15402</th>\n",
       "      <td>2021-12-26</td>\n",
       "      <td>GA</td>\n",
       "      <td>1733600</td>\n",
       "      <td>0</td>\n",
       "      <td>31209</td>\n",
       "      <td>0</td>\n",
       "      <td>54854</td>\n",
       "      <td>10403847</td>\n",
       "      <td>0.000000</td>\n",
       "      <td>0.527247</td>\n",
       "    </tr>\n",
       "    <tr>\n",
       "      <th>15403</th>\n",
       "      <td>2021-12-26</td>\n",
       "      <td>HI</td>\n",
       "      <td>97022</td>\n",
       "      <td>0</td>\n",
       "      <td>1071</td>\n",
       "      <td>0</td>\n",
       "      <td>10797</td>\n",
       "      <td>1422094</td>\n",
       "      <td>0.000000</td>\n",
       "      <td>0.759233</td>\n",
       "    </tr>\n",
       "    <tr>\n",
       "      <th>15404</th>\n",
       "      <td>2021-12-26</td>\n",
       "      <td>IA</td>\n",
       "      <td>567997</td>\n",
       "      <td>0</td>\n",
       "      <td>7799</td>\n",
       "      <td>0</td>\n",
       "      <td>21710</td>\n",
       "      <td>3139508</td>\n",
       "      <td>0.000000</td>\n",
       "      <td>0.691510</td>\n",
       "    </tr>\n",
       "    <tr>\n",
       "      <th>15405</th>\n",
       "      <td>2021-12-26</td>\n",
       "      <td>ID</td>\n",
       "      <td>315726</td>\n",
       "      <td>0</td>\n",
       "      <td>4099</td>\n",
       "      <td>0</td>\n",
       "      <td>4034</td>\n",
       "      <td>1717750</td>\n",
       "      <td>0.000000</td>\n",
       "      <td>0.234842</td>\n",
       "    </tr>\n",
       "    <tr>\n",
       "      <th>15406</th>\n",
       "      <td>2021-12-26</td>\n",
       "      <td>IL</td>\n",
       "      <td>2042433</td>\n",
       "      <td>0</td>\n",
       "      <td>30566</td>\n",
       "      <td>0</td>\n",
       "      <td>157689</td>\n",
       "      <td>12770631</td>\n",
       "      <td>0.000000</td>\n",
       "      <td>1.234778</td>\n",
       "    </tr>\n",
       "    <tr>\n",
       "      <th>15407</th>\n",
       "      <td>2021-12-26</td>\n",
       "      <td>IN</td>\n",
       "      <td>1200926</td>\n",
       "      <td>0</td>\n",
       "      <td>18696</td>\n",
       "      <td>0</td>\n",
       "      <td>50027</td>\n",
       "      <td>6665703</td>\n",
       "      <td>0.000000</td>\n",
       "      <td>0.750513</td>\n",
       "    </tr>\n",
       "    <tr>\n",
       "      <th>15408</th>\n",
       "      <td>2021-12-26</td>\n",
       "      <td>KS</td>\n",
       "      <td>505522</td>\n",
       "      <td>0</td>\n",
       "      <td>6950</td>\n",
       "      <td>0</td>\n",
       "      <td>19413</td>\n",
       "      <td>2910652</td>\n",
       "      <td>0.000000</td>\n",
       "      <td>0.666964</td>\n",
       "    </tr>\n",
       "    <tr>\n",
       "      <th>15409</th>\n",
       "      <td>2021-12-26</td>\n",
       "      <td>KY</td>\n",
       "      <td>851211</td>\n",
       "      <td>1064</td>\n",
       "      <td>12904</td>\n",
       "      <td>23</td>\n",
       "      <td>32258</td>\n",
       "      <td>4449052</td>\n",
       "      <td>0.023915</td>\n",
       "      <td>0.725053</td>\n",
       "    </tr>\n",
       "    <tr>\n",
       "      <th>15410</th>\n",
       "      <td>2021-12-26</td>\n",
       "      <td>LA</td>\n",
       "      <td>790373</td>\n",
       "      <td>0</td>\n",
       "      <td>14953</td>\n",
       "      <td>0</td>\n",
       "      <td>14438</td>\n",
       "      <td>4664362</td>\n",
       "      <td>0.000000</td>\n",
       "      <td>0.309539</td>\n",
       "    </tr>\n",
       "    <tr>\n",
       "      <th>15411</th>\n",
       "      <td>2021-12-26</td>\n",
       "      <td>MA</td>\n",
       "      <td>1055519</td>\n",
       "      <td>0</td>\n",
       "      <td>20050</td>\n",
       "      <td>0</td>\n",
       "      <td>85930</td>\n",
       "      <td>6850553</td>\n",
       "      <td>0.000000</td>\n",
       "      <td>1.254351</td>\n",
       "    </tr>\n",
       "    <tr>\n",
       "      <th>15412</th>\n",
       "      <td>2021-12-26</td>\n",
       "      <td>MD</td>\n",
       "      <td>667341</td>\n",
       "      <td>6200</td>\n",
       "      <td>11710</td>\n",
       "      <td>30</td>\n",
       "      <td>64407</td>\n",
       "      <td>6018848</td>\n",
       "      <td>0.103010</td>\n",
       "      <td>1.070088</td>\n",
       "    </tr>\n",
       "    <tr>\n",
       "      <th>15413</th>\n",
       "      <td>2021-12-26</td>\n",
       "      <td>ME</td>\n",
       "      <td>148554</td>\n",
       "      <td>184</td>\n",
       "      <td>1475</td>\n",
       "      <td>3</td>\n",
       "      <td>11091</td>\n",
       "      <td>1335492</td>\n",
       "      <td>0.013778</td>\n",
       "      <td>0.830480</td>\n",
       "    </tr>\n",
       "    <tr>\n",
       "      <th>15414</th>\n",
       "      <td>2021-12-26</td>\n",
       "      <td>MI</td>\n",
       "      <td>1645578</td>\n",
       "      <td>0</td>\n",
       "      <td>28344</td>\n",
       "      <td>0</td>\n",
       "      <td>78000</td>\n",
       "      <td>9965265</td>\n",
       "      <td>0.000000</td>\n",
       "      <td>0.782719</td>\n",
       "    </tr>\n",
       "    <tr>\n",
       "      <th>15415</th>\n",
       "      <td>2021-12-26</td>\n",
       "      <td>MN</td>\n",
       "      <td>996224</td>\n",
       "      <td>0</td>\n",
       "      <td>10440</td>\n",
       "      <td>0</td>\n",
       "      <td>39445</td>\n",
       "      <td>5563378</td>\n",
       "      <td>0.000000</td>\n",
       "      <td>0.709012</td>\n",
       "    </tr>\n",
       "    <tr>\n",
       "      <th>15416</th>\n",
       "      <td>2021-12-26</td>\n",
       "      <td>MO</td>\n",
       "      <td>976900</td>\n",
       "      <td>0</td>\n",
       "      <td>15880</td>\n",
       "      <td>0</td>\n",
       "      <td>35090</td>\n",
       "      <td>6104910</td>\n",
       "      <td>0.000000</td>\n",
       "      <td>0.574783</td>\n",
       "    </tr>\n",
       "    <tr>\n",
       "      <th>15417</th>\n",
       "      <td>2021-12-26</td>\n",
       "      <td>MS</td>\n",
       "      <td>525502</td>\n",
       "      <td>0</td>\n",
       "      <td>10393</td>\n",
       "      <td>0</td>\n",
       "      <td>6387</td>\n",
       "      <td>2984418</td>\n",
       "      <td>0.000000</td>\n",
       "      <td>0.214012</td>\n",
       "    </tr>\n",
       "    <tr>\n",
       "      <th>15418</th>\n",
       "      <td>2021-12-26</td>\n",
       "      <td>MT</td>\n",
       "      <td>195669</td>\n",
       "      <td>0</td>\n",
       "      <td>2895</td>\n",
       "      <td>0</td>\n",
       "      <td>1951</td>\n",
       "      <td>1050649</td>\n",
       "      <td>0.000000</td>\n",
       "      <td>0.185695</td>\n",
       "    </tr>\n",
       "    <tr>\n",
       "      <th>15419</th>\n",
       "      <td>2021-12-26</td>\n",
       "      <td>NC</td>\n",
       "      <td>1624100</td>\n",
       "      <td>4863</td>\n",
       "      <td>19685</td>\n",
       "      <td>28</td>\n",
       "      <td>62401</td>\n",
       "      <td>10264876</td>\n",
       "      <td>0.047375</td>\n",
       "      <td>0.607908</td>\n",
       "    </tr>\n",
       "    <tr>\n",
       "      <th>15420</th>\n",
       "      <td>2021-12-26</td>\n",
       "      <td>ND</td>\n",
       "      <td>171429</td>\n",
       "      <td>69</td>\n",
       "      <td>1996</td>\n",
       "      <td>0</td>\n",
       "      <td>4282</td>\n",
       "      <td>756717</td>\n",
       "      <td>0.009118</td>\n",
       "      <td>0.565865</td>\n",
       "    </tr>\n",
       "    <tr>\n",
       "      <th>15421</th>\n",
       "      <td>2021-12-26</td>\n",
       "      <td>NE</td>\n",
       "      <td>332257</td>\n",
       "      <td>0</td>\n",
       "      <td>3327</td>\n",
       "      <td>0</td>\n",
       "      <td>10391</td>\n",
       "      <td>1914571</td>\n",
       "      <td>0.000000</td>\n",
       "      <td>0.542733</td>\n",
       "    </tr>\n",
       "    <tr>\n",
       "      <th>15422</th>\n",
       "      <td>2021-12-26</td>\n",
       "      <td>NH</td>\n",
       "      <td>189987</td>\n",
       "      <td>0</td>\n",
       "      <td>1877</td>\n",
       "      <td>0</td>\n",
       "      <td>15531</td>\n",
       "      <td>1348124</td>\n",
       "      <td>0.000000</td>\n",
       "      <td>1.152045</td>\n",
       "    </tr>\n",
       "    <tr>\n",
       "      <th>15423</th>\n",
       "      <td>2021-12-26</td>\n",
       "      <td>NJ</td>\n",
       "      <td>1443915</td>\n",
       "      <td>14159</td>\n",
       "      <td>28861</td>\n",
       "      <td>7</td>\n",
       "      <td>140472</td>\n",
       "      <td>8878503</td>\n",
       "      <td>0.159475</td>\n",
       "      <td>1.582159</td>\n",
       "    </tr>\n",
       "    <tr>\n",
       "      <th>15424</th>\n",
       "      <td>2021-12-26</td>\n",
       "      <td>NM</td>\n",
       "      <td>342649</td>\n",
       "      <td>0</td>\n",
       "      <td>5745</td>\n",
       "      <td>0</td>\n",
       "      <td>12871</td>\n",
       "      <td>2092454</td>\n",
       "      <td>0.000000</td>\n",
       "      <td>0.615115</td>\n",
       "    </tr>\n",
       "    <tr>\n",
       "      <th>15425</th>\n",
       "      <td>2021-12-26</td>\n",
       "      <td>NV</td>\n",
       "      <td>489279</td>\n",
       "      <td>0</td>\n",
       "      <td>8364</td>\n",
       "      <td>0</td>\n",
       "      <td>11197</td>\n",
       "      <td>2972382</td>\n",
       "      <td>0.000000</td>\n",
       "      <td>0.376701</td>\n",
       "    </tr>\n",
       "    <tr>\n",
       "      <th>15426</th>\n",
       "      <td>2021-12-26</td>\n",
       "      <td>NY</td>\n",
       "      <td>3206599</td>\n",
       "      <td>94302</td>\n",
       "      <td>58514</td>\n",
       "      <td>71</td>\n",
       "      <td>353147</td>\n",
       "      <td>19572319</td>\n",
       "      <td>0.481813</td>\n",
       "      <td>1.804319</td>\n",
       "    </tr>\n",
       "    <tr>\n",
       "      <th>15427</th>\n",
       "      <td>2021-12-26</td>\n",
       "      <td>OH</td>\n",
       "      <td>1931908</td>\n",
       "      <td>20917</td>\n",
       "      <td>28720</td>\n",
       "      <td>0</td>\n",
       "      <td>146585</td>\n",
       "      <td>11655397</td>\n",
       "      <td>0.179462</td>\n",
       "      <td>1.257658</td>\n",
       "    </tr>\n",
       "    <tr>\n",
       "      <th>15428</th>\n",
       "      <td>2021-12-26</td>\n",
       "      <td>OK</td>\n",
       "      <td>696373</td>\n",
       "      <td>0</td>\n",
       "      <td>11336</td>\n",
       "      <td>0</td>\n",
       "      <td>17309</td>\n",
       "      <td>3932870</td>\n",
       "      <td>0.000000</td>\n",
       "      <td>0.440111</td>\n",
       "    </tr>\n",
       "    <tr>\n",
       "      <th>15429</th>\n",
       "      <td>2021-12-26</td>\n",
       "      <td>OR</td>\n",
       "      <td>410565</td>\n",
       "      <td>0</td>\n",
       "      <td>5598</td>\n",
       "      <td>0</td>\n",
       "      <td>10377</td>\n",
       "      <td>4129803</td>\n",
       "      <td>0.000000</td>\n",
       "      <td>0.251271</td>\n",
       "    </tr>\n",
       "    <tr>\n",
       "      <th>15430</th>\n",
       "      <td>2021-12-26</td>\n",
       "      <td>PA</td>\n",
       "      <td>1954488</td>\n",
       "      <td>6839</td>\n",
       "      <td>36050</td>\n",
       "      <td>0</td>\n",
       "      <td>116746</td>\n",
       "      <td>12791530</td>\n",
       "      <td>0.053465</td>\n",
       "      <td>0.912682</td>\n",
       "    </tr>\n",
       "    <tr>\n",
       "      <th>15431</th>\n",
       "      <td>2021-12-26</td>\n",
       "      <td>PR</td>\n",
       "      <td>231902</td>\n",
       "      <td>6620</td>\n",
       "      <td>3291</td>\n",
       "      <td>0</td>\n",
       "      <td>42384</td>\n",
       "      <td>3318447</td>\n",
       "      <td>0.199491</td>\n",
       "      <td>1.277224</td>\n",
       "    </tr>\n",
       "    <tr>\n",
       "      <th>15432</th>\n",
       "      <td>2021-12-26</td>\n",
       "      <td>RI</td>\n",
       "      <td>208565</td>\n",
       "      <td>366</td>\n",
       "      <td>3039</td>\n",
       "      <td>9</td>\n",
       "      <td>14766</td>\n",
       "      <td>1057231</td>\n",
       "      <td>0.034619</td>\n",
       "      <td>1.396667</td>\n",
       "    </tr>\n",
       "    <tr>\n",
       "      <th>15433</th>\n",
       "      <td>2021-12-26</td>\n",
       "      <td>SC</td>\n",
       "      <td>955016</td>\n",
       "      <td>2759</td>\n",
       "      <td>14648</td>\n",
       "      <td>12</td>\n",
       "      <td>21958</td>\n",
       "      <td>5020806</td>\n",
       "      <td>0.054951</td>\n",
       "      <td>0.437340</td>\n",
       "    </tr>\n",
       "    <tr>\n",
       "      <th>15434</th>\n",
       "      <td>2021-12-26</td>\n",
       "      <td>SD</td>\n",
       "      <td>175677</td>\n",
       "      <td>0</td>\n",
       "      <td>2456</td>\n",
       "      <td>0</td>\n",
       "      <td>4429</td>\n",
       "      <td>870638</td>\n",
       "      <td>0.000000</td>\n",
       "      <td>0.508707</td>\n",
       "    </tr>\n",
       "    <tr>\n",
       "      <th>15435</th>\n",
       "      <td>2021-12-26</td>\n",
       "      <td>TN</td>\n",
       "      <td>1378031</td>\n",
       "      <td>3894</td>\n",
       "      <td>20467</td>\n",
       "      <td>18</td>\n",
       "      <td>40752</td>\n",
       "      <td>6709356</td>\n",
       "      <td>0.058038</td>\n",
       "      <td>0.607391</td>\n",
       "    </tr>\n",
       "    <tr>\n",
       "      <th>15436</th>\n",
       "      <td>2021-12-26</td>\n",
       "      <td>TX</td>\n",
       "      <td>4499025</td>\n",
       "      <td>12559</td>\n",
       "      <td>74092</td>\n",
       "      <td>0</td>\n",
       "      <td>127017</td>\n",
       "      <td>28260856</td>\n",
       "      <td>0.044440</td>\n",
       "      <td>0.449445</td>\n",
       "    </tr>\n",
       "    <tr>\n",
       "      <th>15437</th>\n",
       "      <td>2021-12-26</td>\n",
       "      <td>UT</td>\n",
       "      <td>623703</td>\n",
       "      <td>0</td>\n",
       "      <td>3754</td>\n",
       "      <td>0</td>\n",
       "      <td>13022</td>\n",
       "      <td>3096848</td>\n",
       "      <td>0.000000</td>\n",
       "      <td>0.420492</td>\n",
       "    </tr>\n",
       "    <tr>\n",
       "      <th>15438</th>\n",
       "      <td>2021-12-26</td>\n",
       "      <td>VA</td>\n",
       "      <td>1049336</td>\n",
       "      <td>0</td>\n",
       "      <td>15294</td>\n",
       "      <td>0</td>\n",
       "      <td>55267</td>\n",
       "      <td>8454463</td>\n",
       "      <td>0.000000</td>\n",
       "      <td>0.653702</td>\n",
       "    </tr>\n",
       "    <tr>\n",
       "      <th>15439</th>\n",
       "      <td>2021-12-26</td>\n",
       "      <td>VT</td>\n",
       "      <td>56834</td>\n",
       "      <td>223</td>\n",
       "      <td>443</td>\n",
       "      <td>2</td>\n",
       "      <td>5167</td>\n",
       "      <td>624313</td>\n",
       "      <td>0.035719</td>\n",
       "      <td>0.827630</td>\n",
       "    </tr>\n",
       "    <tr>\n",
       "      <th>15440</th>\n",
       "      <td>2021-12-26</td>\n",
       "      <td>WA</td>\n",
       "      <td>830062</td>\n",
       "      <td>5046</td>\n",
       "      <td>9784</td>\n",
       "      <td>0</td>\n",
       "      <td>37313</td>\n",
       "      <td>7404107</td>\n",
       "      <td>0.068151</td>\n",
       "      <td>0.503950</td>\n",
       "    </tr>\n",
       "    <tr>\n",
       "      <th>15441</th>\n",
       "      <td>2021-12-26</td>\n",
       "      <td>WI</td>\n",
       "      <td>1083442</td>\n",
       "      <td>0</td>\n",
       "      <td>11017</td>\n",
       "      <td>0</td>\n",
       "      <td>59348</td>\n",
       "      <td>5790716</td>\n",
       "      <td>0.000000</td>\n",
       "      <td>1.024882</td>\n",
       "    </tr>\n",
       "    <tr>\n",
       "      <th>15442</th>\n",
       "      <td>2021-12-26</td>\n",
       "      <td>WV</td>\n",
       "      <td>319035</td>\n",
       "      <td>0</td>\n",
       "      <td>5251</td>\n",
       "      <td>0</td>\n",
       "      <td>11603</td>\n",
       "      <td>1817305</td>\n",
       "      <td>0.000000</td>\n",
       "      <td>0.638473</td>\n",
       "    </tr>\n",
       "    <tr>\n",
       "      <th>15443</th>\n",
       "      <td>2021-12-26</td>\n",
       "      <td>WY</td>\n",
       "      <td>114242</td>\n",
       "      <td>0</td>\n",
       "      <td>1526</td>\n",
       "      <td>0</td>\n",
       "      <td>1380</td>\n",
       "      <td>581024</td>\n",
       "      <td>0.000000</td>\n",
       "      <td>0.237512</td>\n",
       "    </tr>\n",
       "  </tbody>\n",
       "</table>\n",
       "</div>"
      ],
      "text/plain": [
       "      submit_date state  total_cases  new_cases (1d)  total_deaths  \\\n",
       "15392  2021-12-26    AK       149815               0           945   \n",
       "15393  2021-12-26    AL       869940            1950         16693   \n",
       "15394  2021-12-26    AR       550413             422          9066   \n",
       "15395  2021-12-26    AZ      1355052             344         23982   \n",
       "15396  2021-12-26    CA      5264182               0         75461   \n",
       "15397  2021-12-26    CO       912440            4851         10074   \n",
       "15398  2021-12-26    CT       474557               0          9077   \n",
       "15399  2021-12-26    DC        79565               0          1207   \n",
       "15400  2021-12-26    DE       170379            1272          2365   \n",
       "15401  2021-12-26    FL      3976912           29001         62969   \n",
       "15402  2021-12-26    GA      1733600               0         31209   \n",
       "15403  2021-12-26    HI        97022               0          1071   \n",
       "15404  2021-12-26    IA       567997               0          7799   \n",
       "15405  2021-12-26    ID       315726               0          4099   \n",
       "15406  2021-12-26    IL      2042433               0         30566   \n",
       "15407  2021-12-26    IN      1200926               0         18696   \n",
       "15408  2021-12-26    KS       505522               0          6950   \n",
       "15409  2021-12-26    KY       851211            1064         12904   \n",
       "15410  2021-12-26    LA       790373               0         14953   \n",
       "15411  2021-12-26    MA      1055519               0         20050   \n",
       "15412  2021-12-26    MD       667341            6200         11710   \n",
       "15413  2021-12-26    ME       148554             184          1475   \n",
       "15414  2021-12-26    MI      1645578               0         28344   \n",
       "15415  2021-12-26    MN       996224               0         10440   \n",
       "15416  2021-12-26    MO       976900               0         15880   \n",
       "15417  2021-12-26    MS       525502               0         10393   \n",
       "15418  2021-12-26    MT       195669               0          2895   \n",
       "15419  2021-12-26    NC      1624100            4863         19685   \n",
       "15420  2021-12-26    ND       171429              69          1996   \n",
       "15421  2021-12-26    NE       332257               0          3327   \n",
       "15422  2021-12-26    NH       189987               0          1877   \n",
       "15423  2021-12-26    NJ      1443915           14159         28861   \n",
       "15424  2021-12-26    NM       342649               0          5745   \n",
       "15425  2021-12-26    NV       489279               0          8364   \n",
       "15426  2021-12-26    NY      3206599           94302         58514   \n",
       "15427  2021-12-26    OH      1931908           20917         28720   \n",
       "15428  2021-12-26    OK       696373               0         11336   \n",
       "15429  2021-12-26    OR       410565               0          5598   \n",
       "15430  2021-12-26    PA      1954488            6839         36050   \n",
       "15431  2021-12-26    PR       231902            6620          3291   \n",
       "15432  2021-12-26    RI       208565             366          3039   \n",
       "15433  2021-12-26    SC       955016            2759         14648   \n",
       "15434  2021-12-26    SD       175677               0          2456   \n",
       "15435  2021-12-26    TN      1378031            3894         20467   \n",
       "15436  2021-12-26    TX      4499025           12559         74092   \n",
       "15437  2021-12-26    UT       623703               0          3754   \n",
       "15438  2021-12-26    VA      1049336               0         15294   \n",
       "15439  2021-12-26    VT        56834             223           443   \n",
       "15440  2021-12-26    WA       830062            5046          9784   \n",
       "15441  2021-12-26    WI      1083442               0         11017   \n",
       "15442  2021-12-26    WV       319035               0          5251   \n",
       "15443  2021-12-26    WY       114242               0          1526   \n",
       "\n",
       "       new_deaths  new_cases (14d)  state_pop  new_cases % pop (1d)  \\\n",
       "15392           0             1840     737068              0.000000   \n",
       "15393          12            18633    4876250              0.039990   \n",
       "15394           8            11987    2999370              0.014070   \n",
       "15395          -1            38863    7050299              0.004879   \n",
       "15396           0           130944   39283497              0.000000   \n",
       "15397           0            43663    5610349              0.086465   \n",
       "15398           0            35134    3575074              0.000000   \n",
       "15399           0            10863     692683              0.000000   \n",
       "15400           5            12017     957248              0.132881   \n",
       "15401          39           232230   20901636              0.138750   \n",
       "15402           0            54854   10403847              0.000000   \n",
       "15403           0            10797    1422094              0.000000   \n",
       "15404           0            21710    3139508              0.000000   \n",
       "15405           0             4034    1717750              0.000000   \n",
       "15406           0           157689   12770631              0.000000   \n",
       "15407           0            50027    6665703              0.000000   \n",
       "15408           0            19413    2910652              0.000000   \n",
       "15409          23            32258    4449052              0.023915   \n",
       "15410           0            14438    4664362              0.000000   \n",
       "15411           0            85930    6850553              0.000000   \n",
       "15412          30            64407    6018848              0.103010   \n",
       "15413           3            11091    1335492              0.013778   \n",
       "15414           0            78000    9965265              0.000000   \n",
       "15415           0            39445    5563378              0.000000   \n",
       "15416           0            35090    6104910              0.000000   \n",
       "15417           0             6387    2984418              0.000000   \n",
       "15418           0             1951    1050649              0.000000   \n",
       "15419          28            62401   10264876              0.047375   \n",
       "15420           0             4282     756717              0.009118   \n",
       "15421           0            10391    1914571              0.000000   \n",
       "15422           0            15531    1348124              0.000000   \n",
       "15423           7           140472    8878503              0.159475   \n",
       "15424           0            12871    2092454              0.000000   \n",
       "15425           0            11197    2972382              0.000000   \n",
       "15426          71           353147   19572319              0.481813   \n",
       "15427           0           146585   11655397              0.179462   \n",
       "15428           0            17309    3932870              0.000000   \n",
       "15429           0            10377    4129803              0.000000   \n",
       "15430           0           116746   12791530              0.053465   \n",
       "15431           0            42384    3318447              0.199491   \n",
       "15432           9            14766    1057231              0.034619   \n",
       "15433          12            21958    5020806              0.054951   \n",
       "15434           0             4429     870638              0.000000   \n",
       "15435          18            40752    6709356              0.058038   \n",
       "15436           0           127017   28260856              0.044440   \n",
       "15437           0            13022    3096848              0.000000   \n",
       "15438           0            55267    8454463              0.000000   \n",
       "15439           2             5167     624313              0.035719   \n",
       "15440           0            37313    7404107              0.068151   \n",
       "15441           0            59348    5790716              0.000000   \n",
       "15442           0            11603    1817305              0.000000   \n",
       "15443           0             1380     581024              0.000000   \n",
       "\n",
       "       new_cases % pop (14d)  \n",
       "15392               0.249638  \n",
       "15393               0.382117  \n",
       "15394               0.399651  \n",
       "15395               0.551225  \n",
       "15396               0.333331  \n",
       "15397               0.778258  \n",
       "15398               0.982749  \n",
       "15399               1.568250  \n",
       "15400               1.255370  \n",
       "15401               1.111061  \n",
       "15402               0.527247  \n",
       "15403               0.759233  \n",
       "15404               0.691510  \n",
       "15405               0.234842  \n",
       "15406               1.234778  \n",
       "15407               0.750513  \n",
       "15408               0.666964  \n",
       "15409               0.725053  \n",
       "15410               0.309539  \n",
       "15411               1.254351  \n",
       "15412               1.070088  \n",
       "15413               0.830480  \n",
       "15414               0.782719  \n",
       "15415               0.709012  \n",
       "15416               0.574783  \n",
       "15417               0.214012  \n",
       "15418               0.185695  \n",
       "15419               0.607908  \n",
       "15420               0.565865  \n",
       "15421               0.542733  \n",
       "15422               1.152045  \n",
       "15423               1.582159  \n",
       "15424               0.615115  \n",
       "15425               0.376701  \n",
       "15426               1.804319  \n",
       "15427               1.257658  \n",
       "15428               0.440111  \n",
       "15429               0.251271  \n",
       "15430               0.912682  \n",
       "15431               1.277224  \n",
       "15432               1.396667  \n",
       "15433               0.437340  \n",
       "15434               0.508707  \n",
       "15435               0.607391  \n",
       "15436               0.449445  \n",
       "15437               0.420492  \n",
       "15438               0.653702  \n",
       "15439               0.827630  \n",
       "15440               0.503950  \n",
       "15441               1.024882  \n",
       "15442               0.638473  \n",
       "15443               0.237512  "
      ]
     },
     "execution_count": 124,
     "metadata": {},
     "output_type": "execute_result"
    }
   ],
   "source": [
    "last_df"
   ]
  },
  {
   "cell_type": "code",
   "execution_count": 112,
   "id": "cc147f23",
   "metadata": {},
   "outputs": [
    {
     "data": {
      "application/vnd.plotly.v1+json": {
       "config": {
        "plotlyServerURL": "https://plot.ly"
       },
       "data": [
        {
         "customdata": [
          [
           0,
           0,
           "AK"
          ],
          [
           1950,
           0.03998974621891,
           "AL"
          ],
          [
           422,
           0.014069621287130001,
           "AR"
          ],
          [
           344,
           0.004879225689577137,
           "AZ"
          ],
          [
           0,
           0,
           "CA"
          ],
          [
           4851,
           0.08646520920534,
           "CO"
          ],
          [
           0,
           0,
           "CT"
          ],
          [
           0,
           0,
           "DC"
          ],
          [
           1272,
           0.13288092531924,
           "DE"
          ],
          [
           29001,
           0.13874990455292,
           "FL"
          ],
          [
           0,
           0,
           "GA"
          ],
          [
           0,
           0,
           "HI"
          ],
          [
           0,
           0,
           "IA"
          ],
          [
           0,
           0,
           "ID"
          ],
          [
           0,
           0,
           "IL"
          ],
          [
           0,
           0,
           "IN"
          ],
          [
           0,
           0,
           "KS"
          ],
          [
           1064,
           0.02391520710479,
           "KY"
          ],
          [
           0,
           0,
           "LA"
          ],
          [
           0,
           0,
           "MA"
          ],
          [
           6200,
           0.10300974538649,
           "MD"
          ],
          [
           184,
           0.013777693913549998,
           "ME"
          ],
          [
           0,
           0,
           "MI"
          ],
          [
           0,
           0,
           "MN"
          ],
          [
           0,
           0,
           "MO"
          ],
          [
           0,
           0,
           "MS"
          ],
          [
           0,
           0,
           "MT"
          ],
          [
           4863,
           0.04737514608067,
           "NC"
          ],
          [
           69,
           0.009118336181161516,
           "ND"
          ],
          [
           0,
           0,
           "NE"
          ],
          [
           0,
           0,
           "NH"
          ],
          [
           14159,
           0.15947508268004001,
           "NJ"
          ],
          [
           0,
           0,
           "NM"
          ],
          [
           0,
           0,
           "NV"
          ],
          [
           94302,
           0.48181311575802005,
           "NY"
          ],
          [
           20917,
           0.1794619265221,
           "OH"
          ],
          [
           0,
           0,
           "OK"
          ],
          [
           0,
           0,
           "OR"
          ],
          [
           6839,
           0.05346506633686,
           "PA"
          ],
          [
           6620,
           0.19949090643906,
           "PR"
          ],
          [
           366,
           0.03461873516762,
           "RI"
          ],
          [
           2759,
           0.054951336498559995,
           "SC"
          ],
          [
           0,
           0,
           "SD"
          ],
          [
           3894,
           0.05803835718361,
           "TN"
          ],
          [
           12559,
           0.04443955979252,
           "TX"
          ],
          [
           0,
           0,
           "UT"
          ],
          [
           0,
           0,
           "VA"
          ],
          [
           223,
           0.03571926261346,
           "VT"
          ],
          [
           5046,
           0.06815136518150999,
           "WA"
          ],
          [
           0,
           0,
           "WI"
          ],
          [
           0,
           0,
           "WV"
          ],
          [
           0,
           0,
           "WY"
          ]
         ],
         "geo": "geo",
         "hovertemplate": "new_cases (1d)=%{marker.color}<br>state=%{customdata[2]}<br>new_cases % pop (1d)=%{customdata[1]:.2f}<extra></extra>",
         "ids": [
          "2021-12-26T00:00:00",
          "2021-12-26T00:00:00",
          "2021-12-26T00:00:00",
          "2021-12-26T00:00:00",
          "2021-12-26T00:00:00",
          "2021-12-26T00:00:00",
          "2021-12-26T00:00:00",
          "2021-12-26T00:00:00",
          "2021-12-26T00:00:00",
          "2021-12-26T00:00:00",
          "2021-12-26T00:00:00",
          "2021-12-26T00:00:00",
          "2021-12-26T00:00:00",
          "2021-12-26T00:00:00",
          "2021-12-26T00:00:00",
          "2021-12-26T00:00:00",
          "2021-12-26T00:00:00",
          "2021-12-26T00:00:00",
          "2021-12-26T00:00:00",
          "2021-12-26T00:00:00",
          "2021-12-26T00:00:00",
          "2021-12-26T00:00:00",
          "2021-12-26T00:00:00",
          "2021-12-26T00:00:00",
          "2021-12-26T00:00:00",
          "2021-12-26T00:00:00",
          "2021-12-26T00:00:00",
          "2021-12-26T00:00:00",
          "2021-12-26T00:00:00",
          "2021-12-26T00:00:00",
          "2021-12-26T00:00:00",
          "2021-12-26T00:00:00",
          "2021-12-26T00:00:00",
          "2021-12-26T00:00:00",
          "2021-12-26T00:00:00",
          "2021-12-26T00:00:00",
          "2021-12-26T00:00:00",
          "2021-12-26T00:00:00",
          "2021-12-26T00:00:00",
          "2021-12-26T00:00:00",
          "2021-12-26T00:00:00",
          "2021-12-26T00:00:00",
          "2021-12-26T00:00:00",
          "2021-12-26T00:00:00",
          "2021-12-26T00:00:00",
          "2021-12-26T00:00:00",
          "2021-12-26T00:00:00",
          "2021-12-26T00:00:00",
          "2021-12-26T00:00:00",
          "2021-12-26T00:00:00",
          "2021-12-26T00:00:00",
          "2021-12-26T00:00:00"
         ],
         "legendgroup": "",
         "locationmode": "USA-states",
         "locations": [
          "AK",
          "AL",
          "AR",
          "AZ",
          "CA",
          "CO",
          "CT",
          "DC",
          "DE",
          "FL",
          "GA",
          "HI",
          "IA",
          "ID",
          "IL",
          "IN",
          "KS",
          "KY",
          "LA",
          "MA",
          "MD",
          "ME",
          "MI",
          "MN",
          "MO",
          "MS",
          "MT",
          "NC",
          "ND",
          "NE",
          "NH",
          "NJ",
          "NM",
          "NV",
          "NY",
          "OH",
          "OK",
          "OR",
          "PA",
          "PR",
          "RI",
          "SC",
          "SD",
          "TN",
          "TX",
          "UT",
          "VA",
          "VT",
          "WA",
          "WI",
          "WV",
          "WY"
         ],
         "marker": {
          "color": [
           0,
           1950,
           422,
           344,
           0,
           4851,
           0,
           0,
           1272,
           29001,
           0,
           0,
           0,
           0,
           0,
           0,
           0,
           1064,
           0,
           0,
           6200,
           184,
           0,
           0,
           0,
           0,
           0,
           4863,
           69,
           0,
           0,
           14159,
           0,
           0,
           94302,
           20917,
           0,
           0,
           6839,
           6620,
           366,
           2759,
           0,
           3894,
           12559,
           0,
           0,
           223,
           5046,
           0,
           0,
           0
          ],
          "coloraxis": "coloraxis",
          "size": [
           0,
           1950,
           422,
           344,
           0,
           4851,
           0,
           0,
           1272,
           29001,
           0,
           0,
           0,
           0,
           0,
           0,
           0,
           1064,
           0,
           0,
           6200,
           184,
           0,
           0,
           0,
           0,
           0,
           4863,
           69,
           0,
           0,
           14159,
           0,
           0,
           94302,
           20917,
           0,
           0,
           6839,
           6620,
           366,
           2759,
           0,
           3894,
           12559,
           0,
           0,
           223,
           5046,
           0,
           0,
           0
          ],
          "sizemode": "area",
          "sizeref": 235.755,
          "symbol": "circle"
         },
         "mode": "markers",
         "name": "",
         "showlegend": false,
         "type": "scattergeo"
        }
       ],
       "layout": {
        "coloraxis": {
         "cmax": 30000,
         "cmin": 0,
         "colorbar": {
          "title": {
           "text": "new_cases (1d)"
          }
         },
         "colorscale": [
          [
           0,
           "rgb(255,255,255)"
          ],
          [
           0.3333333333333333,
           "rgb(255,210,0)"
          ],
          [
           0.6666666666666666,
           "rgb(230,0,0)"
          ],
          [
           1,
           "rgb(0,0,0)"
          ]
         ]
        },
        "geo": {
         "center": {},
         "domain": {
          "x": [
           0,
           1
          ],
          "y": [
           0,
           1
          ]
         },
         "scope": "usa",
         "visible": true
        },
        "legend": {
         "itemsizing": "constant",
         "tracegroupgap": 0
        },
        "margin": {
         "t": 60
        },
        "template": {
         "data": {
          "bar": [
           {
            "error_x": {
             "color": "#2a3f5f"
            },
            "error_y": {
             "color": "#2a3f5f"
            },
            "marker": {
             "line": {
              "color": "#E5ECF6",
              "width": 0.5
             },
             "pattern": {
              "fillmode": "overlay",
              "size": 10,
              "solidity": 0.2
             }
            },
            "type": "bar"
           }
          ],
          "barpolar": [
           {
            "marker": {
             "line": {
              "color": "#E5ECF6",
              "width": 0.5
             },
             "pattern": {
              "fillmode": "overlay",
              "size": 10,
              "solidity": 0.2
             }
            },
            "type": "barpolar"
           }
          ],
          "carpet": [
           {
            "aaxis": {
             "endlinecolor": "#2a3f5f",
             "gridcolor": "white",
             "linecolor": "white",
             "minorgridcolor": "white",
             "startlinecolor": "#2a3f5f"
            },
            "baxis": {
             "endlinecolor": "#2a3f5f",
             "gridcolor": "white",
             "linecolor": "white",
             "minorgridcolor": "white",
             "startlinecolor": "#2a3f5f"
            },
            "type": "carpet"
           }
          ],
          "choropleth": [
           {
            "colorbar": {
             "outlinewidth": 0,
             "ticks": ""
            },
            "type": "choropleth"
           }
          ],
          "contour": [
           {
            "colorbar": {
             "outlinewidth": 0,
             "ticks": ""
            },
            "colorscale": [
             [
              0,
              "#0d0887"
             ],
             [
              0.1111111111111111,
              "#46039f"
             ],
             [
              0.2222222222222222,
              "#7201a8"
             ],
             [
              0.3333333333333333,
              "#9c179e"
             ],
             [
              0.4444444444444444,
              "#bd3786"
             ],
             [
              0.5555555555555556,
              "#d8576b"
             ],
             [
              0.6666666666666666,
              "#ed7953"
             ],
             [
              0.7777777777777778,
              "#fb9f3a"
             ],
             [
              0.8888888888888888,
              "#fdca26"
             ],
             [
              1,
              "#f0f921"
             ]
            ],
            "type": "contour"
           }
          ],
          "contourcarpet": [
           {
            "colorbar": {
             "outlinewidth": 0,
             "ticks": ""
            },
            "type": "contourcarpet"
           }
          ],
          "heatmap": [
           {
            "colorbar": {
             "outlinewidth": 0,
             "ticks": ""
            },
            "colorscale": [
             [
              0,
              "#0d0887"
             ],
             [
              0.1111111111111111,
              "#46039f"
             ],
             [
              0.2222222222222222,
              "#7201a8"
             ],
             [
              0.3333333333333333,
              "#9c179e"
             ],
             [
              0.4444444444444444,
              "#bd3786"
             ],
             [
              0.5555555555555556,
              "#d8576b"
             ],
             [
              0.6666666666666666,
              "#ed7953"
             ],
             [
              0.7777777777777778,
              "#fb9f3a"
             ],
             [
              0.8888888888888888,
              "#fdca26"
             ],
             [
              1,
              "#f0f921"
             ]
            ],
            "type": "heatmap"
           }
          ],
          "heatmapgl": [
           {
            "colorbar": {
             "outlinewidth": 0,
             "ticks": ""
            },
            "colorscale": [
             [
              0,
              "#0d0887"
             ],
             [
              0.1111111111111111,
              "#46039f"
             ],
             [
              0.2222222222222222,
              "#7201a8"
             ],
             [
              0.3333333333333333,
              "#9c179e"
             ],
             [
              0.4444444444444444,
              "#bd3786"
             ],
             [
              0.5555555555555556,
              "#d8576b"
             ],
             [
              0.6666666666666666,
              "#ed7953"
             ],
             [
              0.7777777777777778,
              "#fb9f3a"
             ],
             [
              0.8888888888888888,
              "#fdca26"
             ],
             [
              1,
              "#f0f921"
             ]
            ],
            "type": "heatmapgl"
           }
          ],
          "histogram": [
           {
            "marker": {
             "pattern": {
              "fillmode": "overlay",
              "size": 10,
              "solidity": 0.2
             }
            },
            "type": "histogram"
           }
          ],
          "histogram2d": [
           {
            "colorbar": {
             "outlinewidth": 0,
             "ticks": ""
            },
            "colorscale": [
             [
              0,
              "#0d0887"
             ],
             [
              0.1111111111111111,
              "#46039f"
             ],
             [
              0.2222222222222222,
              "#7201a8"
             ],
             [
              0.3333333333333333,
              "#9c179e"
             ],
             [
              0.4444444444444444,
              "#bd3786"
             ],
             [
              0.5555555555555556,
              "#d8576b"
             ],
             [
              0.6666666666666666,
              "#ed7953"
             ],
             [
              0.7777777777777778,
              "#fb9f3a"
             ],
             [
              0.8888888888888888,
              "#fdca26"
             ],
             [
              1,
              "#f0f921"
             ]
            ],
            "type": "histogram2d"
           }
          ],
          "histogram2dcontour": [
           {
            "colorbar": {
             "outlinewidth": 0,
             "ticks": ""
            },
            "colorscale": [
             [
              0,
              "#0d0887"
             ],
             [
              0.1111111111111111,
              "#46039f"
             ],
             [
              0.2222222222222222,
              "#7201a8"
             ],
             [
              0.3333333333333333,
              "#9c179e"
             ],
             [
              0.4444444444444444,
              "#bd3786"
             ],
             [
              0.5555555555555556,
              "#d8576b"
             ],
             [
              0.6666666666666666,
              "#ed7953"
             ],
             [
              0.7777777777777778,
              "#fb9f3a"
             ],
             [
              0.8888888888888888,
              "#fdca26"
             ],
             [
              1,
              "#f0f921"
             ]
            ],
            "type": "histogram2dcontour"
           }
          ],
          "mesh3d": [
           {
            "colorbar": {
             "outlinewidth": 0,
             "ticks": ""
            },
            "type": "mesh3d"
           }
          ],
          "parcoords": [
           {
            "line": {
             "colorbar": {
              "outlinewidth": 0,
              "ticks": ""
             }
            },
            "type": "parcoords"
           }
          ],
          "pie": [
           {
            "automargin": true,
            "type": "pie"
           }
          ],
          "scatter": [
           {
            "fillpattern": {
             "fillmode": "overlay",
             "size": 10,
             "solidity": 0.2
            },
            "type": "scatter"
           }
          ],
          "scatter3d": [
           {
            "line": {
             "colorbar": {
              "outlinewidth": 0,
              "ticks": ""
             }
            },
            "marker": {
             "colorbar": {
              "outlinewidth": 0,
              "ticks": ""
             }
            },
            "type": "scatter3d"
           }
          ],
          "scattercarpet": [
           {
            "marker": {
             "colorbar": {
              "outlinewidth": 0,
              "ticks": ""
             }
            },
            "type": "scattercarpet"
           }
          ],
          "scattergeo": [
           {
            "marker": {
             "colorbar": {
              "outlinewidth": 0,
              "ticks": ""
             }
            },
            "type": "scattergeo"
           }
          ],
          "scattergl": [
           {
            "marker": {
             "colorbar": {
              "outlinewidth": 0,
              "ticks": ""
             }
            },
            "type": "scattergl"
           }
          ],
          "scattermapbox": [
           {
            "marker": {
             "colorbar": {
              "outlinewidth": 0,
              "ticks": ""
             }
            },
            "type": "scattermapbox"
           }
          ],
          "scatterpolar": [
           {
            "marker": {
             "colorbar": {
              "outlinewidth": 0,
              "ticks": ""
             }
            },
            "type": "scatterpolar"
           }
          ],
          "scatterpolargl": [
           {
            "marker": {
             "colorbar": {
              "outlinewidth": 0,
              "ticks": ""
             }
            },
            "type": "scatterpolargl"
           }
          ],
          "scatterternary": [
           {
            "marker": {
             "colorbar": {
              "outlinewidth": 0,
              "ticks": ""
             }
            },
            "type": "scatterternary"
           }
          ],
          "surface": [
           {
            "colorbar": {
             "outlinewidth": 0,
             "ticks": ""
            },
            "colorscale": [
             [
              0,
              "#0d0887"
             ],
             [
              0.1111111111111111,
              "#46039f"
             ],
             [
              0.2222222222222222,
              "#7201a8"
             ],
             [
              0.3333333333333333,
              "#9c179e"
             ],
             [
              0.4444444444444444,
              "#bd3786"
             ],
             [
              0.5555555555555556,
              "#d8576b"
             ],
             [
              0.6666666666666666,
              "#ed7953"
             ],
             [
              0.7777777777777778,
              "#fb9f3a"
             ],
             [
              0.8888888888888888,
              "#fdca26"
             ],
             [
              1,
              "#f0f921"
             ]
            ],
            "type": "surface"
           }
          ],
          "table": [
           {
            "cells": {
             "fill": {
              "color": "#EBF0F8"
             },
             "line": {
              "color": "white"
             }
            },
            "header": {
             "fill": {
              "color": "#C8D4E3"
             },
             "line": {
              "color": "white"
             }
            },
            "type": "table"
           }
          ]
         },
         "layout": {
          "annotationdefaults": {
           "arrowcolor": "#2a3f5f",
           "arrowhead": 0,
           "arrowwidth": 1
          },
          "autotypenumbers": "strict",
          "coloraxis": {
           "colorbar": {
            "outlinewidth": 0,
            "ticks": ""
           }
          },
          "colorscale": {
           "diverging": [
            [
             0,
             "#8e0152"
            ],
            [
             0.1,
             "#c51b7d"
            ],
            [
             0.2,
             "#de77ae"
            ],
            [
             0.3,
             "#f1b6da"
            ],
            [
             0.4,
             "#fde0ef"
            ],
            [
             0.5,
             "#f7f7f7"
            ],
            [
             0.6,
             "#e6f5d0"
            ],
            [
             0.7,
             "#b8e186"
            ],
            [
             0.8,
             "#7fbc41"
            ],
            [
             0.9,
             "#4d9221"
            ],
            [
             1,
             "#276419"
            ]
           ],
           "sequential": [
            [
             0,
             "#0d0887"
            ],
            [
             0.1111111111111111,
             "#46039f"
            ],
            [
             0.2222222222222222,
             "#7201a8"
            ],
            [
             0.3333333333333333,
             "#9c179e"
            ],
            [
             0.4444444444444444,
             "#bd3786"
            ],
            [
             0.5555555555555556,
             "#d8576b"
            ],
            [
             0.6666666666666666,
             "#ed7953"
            ],
            [
             0.7777777777777778,
             "#fb9f3a"
            ],
            [
             0.8888888888888888,
             "#fdca26"
            ],
            [
             1,
             "#f0f921"
            ]
           ],
           "sequentialminus": [
            [
             0,
             "#0d0887"
            ],
            [
             0.1111111111111111,
             "#46039f"
            ],
            [
             0.2222222222222222,
             "#7201a8"
            ],
            [
             0.3333333333333333,
             "#9c179e"
            ],
            [
             0.4444444444444444,
             "#bd3786"
            ],
            [
             0.5555555555555556,
             "#d8576b"
            ],
            [
             0.6666666666666666,
             "#ed7953"
            ],
            [
             0.7777777777777778,
             "#fb9f3a"
            ],
            [
             0.8888888888888888,
             "#fdca26"
            ],
            [
             1,
             "#f0f921"
            ]
           ]
          },
          "colorway": [
           "#636efa",
           "#EF553B",
           "#00cc96",
           "#ab63fa",
           "#FFA15A",
           "#19d3f3",
           "#FF6692",
           "#B6E880",
           "#FF97FF",
           "#FECB52"
          ],
          "font": {
           "color": "#2a3f5f"
          },
          "geo": {
           "bgcolor": "white",
           "lakecolor": "white",
           "landcolor": "#E5ECF6",
           "showlakes": true,
           "showland": true,
           "subunitcolor": "white"
          },
          "hoverlabel": {
           "align": "left"
          },
          "hovermode": "closest",
          "mapbox": {
           "style": "light"
          },
          "paper_bgcolor": "white",
          "plot_bgcolor": "#E5ECF6",
          "polar": {
           "angularaxis": {
            "gridcolor": "white",
            "linecolor": "white",
            "ticks": ""
           },
           "bgcolor": "#E5ECF6",
           "radialaxis": {
            "gridcolor": "white",
            "linecolor": "white",
            "ticks": ""
           }
          },
          "scene": {
           "xaxis": {
            "backgroundcolor": "#E5ECF6",
            "gridcolor": "white",
            "gridwidth": 2,
            "linecolor": "white",
            "showbackground": true,
            "ticks": "",
            "zerolinecolor": "white"
           },
           "yaxis": {
            "backgroundcolor": "#E5ECF6",
            "gridcolor": "white",
            "gridwidth": 2,
            "linecolor": "white",
            "showbackground": true,
            "ticks": "",
            "zerolinecolor": "white"
           },
           "zaxis": {
            "backgroundcolor": "#E5ECF6",
            "gridcolor": "white",
            "gridwidth": 2,
            "linecolor": "white",
            "showbackground": true,
            "ticks": "",
            "zerolinecolor": "white"
           }
          },
          "shapedefaults": {
           "line": {
            "color": "#2a3f5f"
           }
          },
          "ternary": {
           "aaxis": {
            "gridcolor": "white",
            "linecolor": "white",
            "ticks": ""
           },
           "baxis": {
            "gridcolor": "white",
            "linecolor": "white",
            "ticks": ""
           },
           "bgcolor": "#E5ECF6",
           "caxis": {
            "gridcolor": "white",
            "linecolor": "white",
            "ticks": ""
           }
          },
          "title": {
           "x": 0.05
          },
          "xaxis": {
           "automargin": true,
           "gridcolor": "white",
           "linecolor": "white",
           "ticks": "",
           "title": {
            "standoff": 15
           },
           "zerolinecolor": "white",
           "zerolinewidth": 2
          },
          "yaxis": {
           "automargin": true,
           "gridcolor": "white",
           "linecolor": "white",
           "ticks": "",
           "title": {
            "standoff": 15
           },
           "zerolinecolor": "white",
           "zerolinewidth": 2
          }
         }
        }
       }
      },
      "text/html": [
       "<div>                            <div id=\"4396fe57-4b6d-4a11-99f9-2a2edf58a34f\" class=\"plotly-graph-div\" style=\"height:525px; width:100%;\"></div>            <script type=\"text/javascript\">                require([\"plotly\"], function(Plotly) {                    window.PLOTLYENV=window.PLOTLYENV || {};                                    if (document.getElementById(\"4396fe57-4b6d-4a11-99f9-2a2edf58a34f\")) {                    Plotly.newPlot(                        \"4396fe57-4b6d-4a11-99f9-2a2edf58a34f\",                        [{\"customdata\":[[0,0.0,\"AK\"],[1950,0.03998974621891,\"AL\"],[422,0.014069621287130001,\"AR\"],[344,0.004879225689577137,\"AZ\"],[0,0.0,\"CA\"],[4851,0.08646520920534,\"CO\"],[0,0.0,\"CT\"],[0,0.0,\"DC\"],[1272,0.13288092531924,\"DE\"],[29001,0.13874990455292,\"FL\"],[0,0.0,\"GA\"],[0,0.0,\"HI\"],[0,0.0,\"IA\"],[0,0.0,\"ID\"],[0,0.0,\"IL\"],[0,0.0,\"IN\"],[0,0.0,\"KS\"],[1064,0.02391520710479,\"KY\"],[0,0.0,\"LA\"],[0,0.0,\"MA\"],[6200,0.10300974538649,\"MD\"],[184,0.013777693913549998,\"ME\"],[0,0.0,\"MI\"],[0,0.0,\"MN\"],[0,0.0,\"MO\"],[0,0.0,\"MS\"],[0,0.0,\"MT\"],[4863,0.04737514608067,\"NC\"],[69,0.009118336181161516,\"ND\"],[0,0.0,\"NE\"],[0,0.0,\"NH\"],[14159,0.15947508268004001,\"NJ\"],[0,0.0,\"NM\"],[0,0.0,\"NV\"],[94302,0.48181311575802005,\"NY\"],[20917,0.1794619265221,\"OH\"],[0,0.0,\"OK\"],[0,0.0,\"OR\"],[6839,0.05346506633686,\"PA\"],[6620,0.19949090643906,\"PR\"],[366,0.03461873516762,\"RI\"],[2759,0.054951336498559995,\"SC\"],[0,0.0,\"SD\"],[3894,0.05803835718361,\"TN\"],[12559,0.04443955979252,\"TX\"],[0,0.0,\"UT\"],[0,0.0,\"VA\"],[223,0.03571926261346,\"VT\"],[5046,0.06815136518150999,\"WA\"],[0,0.0,\"WI\"],[0,0.0,\"WV\"],[0,0.0,\"WY\"]],\"geo\":\"geo\",\"hovertemplate\":\"new_cases (1d)=%{marker.color}<br>state=%{customdata[2]}<br>new_cases % pop (1d)=%{customdata[1]:.2f}<extra></extra>\",\"ids\":[\"2021-12-26T00:00:00\",\"2021-12-26T00:00:00\",\"2021-12-26T00:00:00\",\"2021-12-26T00:00:00\",\"2021-12-26T00:00:00\",\"2021-12-26T00:00:00\",\"2021-12-26T00:00:00\",\"2021-12-26T00:00:00\",\"2021-12-26T00:00:00\",\"2021-12-26T00:00:00\",\"2021-12-26T00:00:00\",\"2021-12-26T00:00:00\",\"2021-12-26T00:00:00\",\"2021-12-26T00:00:00\",\"2021-12-26T00:00:00\",\"2021-12-26T00:00:00\",\"2021-12-26T00:00:00\",\"2021-12-26T00:00:00\",\"2021-12-26T00:00:00\",\"2021-12-26T00:00:00\",\"2021-12-26T00:00:00\",\"2021-12-26T00:00:00\",\"2021-12-26T00:00:00\",\"2021-12-26T00:00:00\",\"2021-12-26T00:00:00\",\"2021-12-26T00:00:00\",\"2021-12-26T00:00:00\",\"2021-12-26T00:00:00\",\"2021-12-26T00:00:00\",\"2021-12-26T00:00:00\",\"2021-12-26T00:00:00\",\"2021-12-26T00:00:00\",\"2021-12-26T00:00:00\",\"2021-12-26T00:00:00\",\"2021-12-26T00:00:00\",\"2021-12-26T00:00:00\",\"2021-12-26T00:00:00\",\"2021-12-26T00:00:00\",\"2021-12-26T00:00:00\",\"2021-12-26T00:00:00\",\"2021-12-26T00:00:00\",\"2021-12-26T00:00:00\",\"2021-12-26T00:00:00\",\"2021-12-26T00:00:00\",\"2021-12-26T00:00:00\",\"2021-12-26T00:00:00\",\"2021-12-26T00:00:00\",\"2021-12-26T00:00:00\",\"2021-12-26T00:00:00\",\"2021-12-26T00:00:00\",\"2021-12-26T00:00:00\",\"2021-12-26T00:00:00\"],\"legendgroup\":\"\",\"locationmode\":\"USA-states\",\"locations\":[\"AK\",\"AL\",\"AR\",\"AZ\",\"CA\",\"CO\",\"CT\",\"DC\",\"DE\",\"FL\",\"GA\",\"HI\",\"IA\",\"ID\",\"IL\",\"IN\",\"KS\",\"KY\",\"LA\",\"MA\",\"MD\",\"ME\",\"MI\",\"MN\",\"MO\",\"MS\",\"MT\",\"NC\",\"ND\",\"NE\",\"NH\",\"NJ\",\"NM\",\"NV\",\"NY\",\"OH\",\"OK\",\"OR\",\"PA\",\"PR\",\"RI\",\"SC\",\"SD\",\"TN\",\"TX\",\"UT\",\"VA\",\"VT\",\"WA\",\"WI\",\"WV\",\"WY\"],\"marker\":{\"color\":[0,1950,422,344,0,4851,0,0,1272,29001,0,0,0,0,0,0,0,1064,0,0,6200,184,0,0,0,0,0,4863,69,0,0,14159,0,0,94302,20917,0,0,6839,6620,366,2759,0,3894,12559,0,0,223,5046,0,0,0],\"coloraxis\":\"coloraxis\",\"size\":[0,1950,422,344,0,4851,0,0,1272,29001,0,0,0,0,0,0,0,1064,0,0,6200,184,0,0,0,0,0,4863,69,0,0,14159,0,0,94302,20917,0,0,6839,6620,366,2759,0,3894,12559,0,0,223,5046,0,0,0],\"sizemode\":\"area\",\"sizeref\":235.755,\"symbol\":\"circle\"},\"mode\":\"markers\",\"name\":\"\",\"showlegend\":false,\"type\":\"scattergeo\"}],                        {\"template\":{\"data\":{\"histogram2dcontour\":[{\"type\":\"histogram2dcontour\",\"colorbar\":{\"outlinewidth\":0,\"ticks\":\"\"},\"colorscale\":[[0.0,\"#0d0887\"],[0.1111111111111111,\"#46039f\"],[0.2222222222222222,\"#7201a8\"],[0.3333333333333333,\"#9c179e\"],[0.4444444444444444,\"#bd3786\"],[0.5555555555555556,\"#d8576b\"],[0.6666666666666666,\"#ed7953\"],[0.7777777777777778,\"#fb9f3a\"],[0.8888888888888888,\"#fdca26\"],[1.0,\"#f0f921\"]]}],\"choropleth\":[{\"type\":\"choropleth\",\"colorbar\":{\"outlinewidth\":0,\"ticks\":\"\"}}],\"histogram2d\":[{\"type\":\"histogram2d\",\"colorbar\":{\"outlinewidth\":0,\"ticks\":\"\"},\"colorscale\":[[0.0,\"#0d0887\"],[0.1111111111111111,\"#46039f\"],[0.2222222222222222,\"#7201a8\"],[0.3333333333333333,\"#9c179e\"],[0.4444444444444444,\"#bd3786\"],[0.5555555555555556,\"#d8576b\"],[0.6666666666666666,\"#ed7953\"],[0.7777777777777778,\"#fb9f3a\"],[0.8888888888888888,\"#fdca26\"],[1.0,\"#f0f921\"]]}],\"heatmap\":[{\"type\":\"heatmap\",\"colorbar\":{\"outlinewidth\":0,\"ticks\":\"\"},\"colorscale\":[[0.0,\"#0d0887\"],[0.1111111111111111,\"#46039f\"],[0.2222222222222222,\"#7201a8\"],[0.3333333333333333,\"#9c179e\"],[0.4444444444444444,\"#bd3786\"],[0.5555555555555556,\"#d8576b\"],[0.6666666666666666,\"#ed7953\"],[0.7777777777777778,\"#fb9f3a\"],[0.8888888888888888,\"#fdca26\"],[1.0,\"#f0f921\"]]}],\"heatmapgl\":[{\"type\":\"heatmapgl\",\"colorbar\":{\"outlinewidth\":0,\"ticks\":\"\"},\"colorscale\":[[0.0,\"#0d0887\"],[0.1111111111111111,\"#46039f\"],[0.2222222222222222,\"#7201a8\"],[0.3333333333333333,\"#9c179e\"],[0.4444444444444444,\"#bd3786\"],[0.5555555555555556,\"#d8576b\"],[0.6666666666666666,\"#ed7953\"],[0.7777777777777778,\"#fb9f3a\"],[0.8888888888888888,\"#fdca26\"],[1.0,\"#f0f921\"]]}],\"contourcarpet\":[{\"type\":\"contourcarpet\",\"colorbar\":{\"outlinewidth\":0,\"ticks\":\"\"}}],\"contour\":[{\"type\":\"contour\",\"colorbar\":{\"outlinewidth\":0,\"ticks\":\"\"},\"colorscale\":[[0.0,\"#0d0887\"],[0.1111111111111111,\"#46039f\"],[0.2222222222222222,\"#7201a8\"],[0.3333333333333333,\"#9c179e\"],[0.4444444444444444,\"#bd3786\"],[0.5555555555555556,\"#d8576b\"],[0.6666666666666666,\"#ed7953\"],[0.7777777777777778,\"#fb9f3a\"],[0.8888888888888888,\"#fdca26\"],[1.0,\"#f0f921\"]]}],\"surface\":[{\"type\":\"surface\",\"colorbar\":{\"outlinewidth\":0,\"ticks\":\"\"},\"colorscale\":[[0.0,\"#0d0887\"],[0.1111111111111111,\"#46039f\"],[0.2222222222222222,\"#7201a8\"],[0.3333333333333333,\"#9c179e\"],[0.4444444444444444,\"#bd3786\"],[0.5555555555555556,\"#d8576b\"],[0.6666666666666666,\"#ed7953\"],[0.7777777777777778,\"#fb9f3a\"],[0.8888888888888888,\"#fdca26\"],[1.0,\"#f0f921\"]]}],\"mesh3d\":[{\"type\":\"mesh3d\",\"colorbar\":{\"outlinewidth\":0,\"ticks\":\"\"}}],\"scatter\":[{\"fillpattern\":{\"fillmode\":\"overlay\",\"size\":10,\"solidity\":0.2},\"type\":\"scatter\"}],\"parcoords\":[{\"type\":\"parcoords\",\"line\":{\"colorbar\":{\"outlinewidth\":0,\"ticks\":\"\"}}}],\"scatterpolargl\":[{\"type\":\"scatterpolargl\",\"marker\":{\"colorbar\":{\"outlinewidth\":0,\"ticks\":\"\"}}}],\"bar\":[{\"error_x\":{\"color\":\"#2a3f5f\"},\"error_y\":{\"color\":\"#2a3f5f\"},\"marker\":{\"line\":{\"color\":\"#E5ECF6\",\"width\":0.5},\"pattern\":{\"fillmode\":\"overlay\",\"size\":10,\"solidity\":0.2}},\"type\":\"bar\"}],\"scattergeo\":[{\"type\":\"scattergeo\",\"marker\":{\"colorbar\":{\"outlinewidth\":0,\"ticks\":\"\"}}}],\"scatterpolar\":[{\"type\":\"scatterpolar\",\"marker\":{\"colorbar\":{\"outlinewidth\":0,\"ticks\":\"\"}}}],\"histogram\":[{\"marker\":{\"pattern\":{\"fillmode\":\"overlay\",\"size\":10,\"solidity\":0.2}},\"type\":\"histogram\"}],\"scattergl\":[{\"type\":\"scattergl\",\"marker\":{\"colorbar\":{\"outlinewidth\":0,\"ticks\":\"\"}}}],\"scatter3d\":[{\"type\":\"scatter3d\",\"line\":{\"colorbar\":{\"outlinewidth\":0,\"ticks\":\"\"}},\"marker\":{\"colorbar\":{\"outlinewidth\":0,\"ticks\":\"\"}}}],\"scattermapbox\":[{\"type\":\"scattermapbox\",\"marker\":{\"colorbar\":{\"outlinewidth\":0,\"ticks\":\"\"}}}],\"scatterternary\":[{\"type\":\"scatterternary\",\"marker\":{\"colorbar\":{\"outlinewidth\":0,\"ticks\":\"\"}}}],\"scattercarpet\":[{\"type\":\"scattercarpet\",\"marker\":{\"colorbar\":{\"outlinewidth\":0,\"ticks\":\"\"}}}],\"carpet\":[{\"aaxis\":{\"endlinecolor\":\"#2a3f5f\",\"gridcolor\":\"white\",\"linecolor\":\"white\",\"minorgridcolor\":\"white\",\"startlinecolor\":\"#2a3f5f\"},\"baxis\":{\"endlinecolor\":\"#2a3f5f\",\"gridcolor\":\"white\",\"linecolor\":\"white\",\"minorgridcolor\":\"white\",\"startlinecolor\":\"#2a3f5f\"},\"type\":\"carpet\"}],\"table\":[{\"cells\":{\"fill\":{\"color\":\"#EBF0F8\"},\"line\":{\"color\":\"white\"}},\"header\":{\"fill\":{\"color\":\"#C8D4E3\"},\"line\":{\"color\":\"white\"}},\"type\":\"table\"}],\"barpolar\":[{\"marker\":{\"line\":{\"color\":\"#E5ECF6\",\"width\":0.5},\"pattern\":{\"fillmode\":\"overlay\",\"size\":10,\"solidity\":0.2}},\"type\":\"barpolar\"}],\"pie\":[{\"automargin\":true,\"type\":\"pie\"}]},\"layout\":{\"autotypenumbers\":\"strict\",\"colorway\":[\"#636efa\",\"#EF553B\",\"#00cc96\",\"#ab63fa\",\"#FFA15A\",\"#19d3f3\",\"#FF6692\",\"#B6E880\",\"#FF97FF\",\"#FECB52\"],\"font\":{\"color\":\"#2a3f5f\"},\"hovermode\":\"closest\",\"hoverlabel\":{\"align\":\"left\"},\"paper_bgcolor\":\"white\",\"plot_bgcolor\":\"#E5ECF6\",\"polar\":{\"bgcolor\":\"#E5ECF6\",\"angularaxis\":{\"gridcolor\":\"white\",\"linecolor\":\"white\",\"ticks\":\"\"},\"radialaxis\":{\"gridcolor\":\"white\",\"linecolor\":\"white\",\"ticks\":\"\"}},\"ternary\":{\"bgcolor\":\"#E5ECF6\",\"aaxis\":{\"gridcolor\":\"white\",\"linecolor\":\"white\",\"ticks\":\"\"},\"baxis\":{\"gridcolor\":\"white\",\"linecolor\":\"white\",\"ticks\":\"\"},\"caxis\":{\"gridcolor\":\"white\",\"linecolor\":\"white\",\"ticks\":\"\"}},\"coloraxis\":{\"colorbar\":{\"outlinewidth\":0,\"ticks\":\"\"}},\"colorscale\":{\"sequential\":[[0.0,\"#0d0887\"],[0.1111111111111111,\"#46039f\"],[0.2222222222222222,\"#7201a8\"],[0.3333333333333333,\"#9c179e\"],[0.4444444444444444,\"#bd3786\"],[0.5555555555555556,\"#d8576b\"],[0.6666666666666666,\"#ed7953\"],[0.7777777777777778,\"#fb9f3a\"],[0.8888888888888888,\"#fdca26\"],[1.0,\"#f0f921\"]],\"sequentialminus\":[[0.0,\"#0d0887\"],[0.1111111111111111,\"#46039f\"],[0.2222222222222222,\"#7201a8\"],[0.3333333333333333,\"#9c179e\"],[0.4444444444444444,\"#bd3786\"],[0.5555555555555556,\"#d8576b\"],[0.6666666666666666,\"#ed7953\"],[0.7777777777777778,\"#fb9f3a\"],[0.8888888888888888,\"#fdca26\"],[1.0,\"#f0f921\"]],\"diverging\":[[0,\"#8e0152\"],[0.1,\"#c51b7d\"],[0.2,\"#de77ae\"],[0.3,\"#f1b6da\"],[0.4,\"#fde0ef\"],[0.5,\"#f7f7f7\"],[0.6,\"#e6f5d0\"],[0.7,\"#b8e186\"],[0.8,\"#7fbc41\"],[0.9,\"#4d9221\"],[1,\"#276419\"]]},\"xaxis\":{\"gridcolor\":\"white\",\"linecolor\":\"white\",\"ticks\":\"\",\"title\":{\"standoff\":15},\"zerolinecolor\":\"white\",\"automargin\":true,\"zerolinewidth\":2},\"yaxis\":{\"gridcolor\":\"white\",\"linecolor\":\"white\",\"ticks\":\"\",\"title\":{\"standoff\":15},\"zerolinecolor\":\"white\",\"automargin\":true,\"zerolinewidth\":2},\"scene\":{\"xaxis\":{\"backgroundcolor\":\"#E5ECF6\",\"gridcolor\":\"white\",\"linecolor\":\"white\",\"showbackground\":true,\"ticks\":\"\",\"zerolinecolor\":\"white\",\"gridwidth\":2},\"yaxis\":{\"backgroundcolor\":\"#E5ECF6\",\"gridcolor\":\"white\",\"linecolor\":\"white\",\"showbackground\":true,\"ticks\":\"\",\"zerolinecolor\":\"white\",\"gridwidth\":2},\"zaxis\":{\"backgroundcolor\":\"#E5ECF6\",\"gridcolor\":\"white\",\"linecolor\":\"white\",\"showbackground\":true,\"ticks\":\"\",\"zerolinecolor\":\"white\",\"gridwidth\":2}},\"shapedefaults\":{\"line\":{\"color\":\"#2a3f5f\"}},\"annotationdefaults\":{\"arrowcolor\":\"#2a3f5f\",\"arrowhead\":0,\"arrowwidth\":1},\"geo\":{\"bgcolor\":\"white\",\"landcolor\":\"#E5ECF6\",\"subunitcolor\":\"white\",\"showland\":true,\"showlakes\":true,\"lakecolor\":\"white\"},\"title\":{\"x\":0.05},\"mapbox\":{\"style\":\"light\"}}},\"geo\":{\"domain\":{\"x\":[0.0,1.0],\"y\":[0.0,1.0]},\"center\":{},\"scope\":\"usa\",\"visible\":true},\"coloraxis\":{\"colorbar\":{\"title\":{\"text\":\"new_cases (1d)\"}},\"colorscale\":[[0.0,\"rgb(255,255,255)\"],[0.3333333333333333,\"rgb(255,210,0)\"],[0.6666666666666666,\"rgb(230,0,0)\"],[1.0,\"rgb(0,0,0)\"]],\"cmin\":0,\"cmax\":30000},\"legend\":{\"tracegroupgap\":0,\"itemsizing\":\"constant\"},\"margin\":{\"t\":60}},                        {\"responsive\": true}                    ).then(function(){\n",
       "                            \n",
       "var gd = document.getElementById('4396fe57-4b6d-4a11-99f9-2a2edf58a34f');\n",
       "var x = new MutationObserver(function (mutations, observer) {{\n",
       "        var display = window.getComputedStyle(gd).display;\n",
       "        if (!display || display === 'none') {{\n",
       "            console.log([gd, 'removed!']);\n",
       "            Plotly.purge(gd);\n",
       "            observer.disconnect();\n",
       "        }}\n",
       "}});\n",
       "\n",
       "// Listen for the removal of the full notebook cells\n",
       "var notebookContainer = gd.closest('#notebook-container');\n",
       "if (notebookContainer) {{\n",
       "    x.observe(notebookContainer, {childList: true});\n",
       "}}\n",
       "\n",
       "// Listen for the clearing of the current output cell\n",
       "var outputEl = gd.closest('.output');\n",
       "if (outputEl) {{\n",
       "    x.observe(outputEl, {childList: true});\n",
       "}}\n",
       "\n",
       "                        })                };                });            </script>        </div>"
      ]
     },
     "metadata": {},
     "output_type": "display_data"
    }
   ],
   "source": [
    "px.scatter_geo(\n",
    "    last_df, \n",
    "    locations='state', \n",
    "    locationmode='USA-states',\n",
    "    size='new_cases (1d)',\n",
    "    color='new_cases (1d)',\n",
    "    scope='usa',\n",
    "    #text='state',\n",
    "    animation_group='submit_date',\n",
    "    color_continuous_scale=px.colors.sequential.Hot[::-1],\n",
    "    range_color=[0,30000],\n",
    "    basemap_visible=True,\n",
    "    hover_data={'new_cases (1d)':False,'new_cases (1d)':True,'new_cases % pop (1d)':':.2f','state':True,}\n",
    ")"
   ]
  },
  {
   "cell_type": "code",
   "execution_count": 113,
   "id": "f55066d4",
   "metadata": {},
   "outputs": [
    {
     "data": {
      "application/vnd.plotly.v1+json": {
       "config": {
        "plotlyServerURL": "https://plot.ly"
       },
       "data": [
        {
         "customdata": [
          [
           0,
           0,
           "AK"
          ],
          [
           1950,
           0.03998974621891,
           "AL"
          ],
          [
           422,
           0.014069621287130001,
           "AR"
          ],
          [
           344,
           0.004879225689577137,
           "AZ"
          ],
          [
           0,
           0,
           "CA"
          ],
          [
           4851,
           0.08646520920534,
           "CO"
          ],
          [
           0,
           0,
           "CT"
          ],
          [
           0,
           0,
           "DC"
          ],
          [
           1272,
           0.13288092531924,
           "DE"
          ],
          [
           29001,
           0.13874990455292,
           "FL"
          ],
          [
           0,
           0,
           "GA"
          ],
          [
           0,
           0,
           "HI"
          ],
          [
           0,
           0,
           "IA"
          ],
          [
           0,
           0,
           "ID"
          ],
          [
           0,
           0,
           "IL"
          ],
          [
           0,
           0,
           "IN"
          ],
          [
           0,
           0,
           "KS"
          ],
          [
           1064,
           0.02391520710479,
           "KY"
          ],
          [
           0,
           0,
           "LA"
          ],
          [
           0,
           0,
           "MA"
          ],
          [
           6200,
           0.10300974538649,
           "MD"
          ],
          [
           184,
           0.013777693913549998,
           "ME"
          ],
          [
           0,
           0,
           "MI"
          ],
          [
           0,
           0,
           "MN"
          ],
          [
           0,
           0,
           "MO"
          ],
          [
           0,
           0,
           "MS"
          ],
          [
           0,
           0,
           "MT"
          ],
          [
           4863,
           0.04737514608067,
           "NC"
          ],
          [
           69,
           0.009118336181161516,
           "ND"
          ],
          [
           0,
           0,
           "NE"
          ],
          [
           0,
           0,
           "NH"
          ],
          [
           14159,
           0.15947508268004001,
           "NJ"
          ],
          [
           0,
           0,
           "NM"
          ],
          [
           0,
           0,
           "NV"
          ],
          [
           94302,
           0.48181311575802005,
           "NY"
          ],
          [
           20917,
           0.1794619265221,
           "OH"
          ],
          [
           0,
           0,
           "OK"
          ],
          [
           0,
           0,
           "OR"
          ],
          [
           6839,
           0.05346506633686,
           "PA"
          ],
          [
           6620,
           0.19949090643906,
           "PR"
          ],
          [
           366,
           0.03461873516762,
           "RI"
          ],
          [
           2759,
           0.054951336498559995,
           "SC"
          ],
          [
           0,
           0,
           "SD"
          ],
          [
           3894,
           0.05803835718361,
           "TN"
          ],
          [
           12559,
           0.04443955979252,
           "TX"
          ],
          [
           0,
           0,
           "UT"
          ],
          [
           0,
           0,
           "VA"
          ],
          [
           223,
           0.03571926261346,
           "VT"
          ],
          [
           5046,
           0.06815136518150999,
           "WA"
          ],
          [
           0,
           0,
           "WI"
          ],
          [
           0,
           0,
           "WV"
          ],
          [
           0,
           0,
           "WY"
          ]
         ],
         "geo": "geo",
         "hovertemplate": "new_cases % pop (1d)=%{marker.color:.2f}<br>state=%{customdata[2]}<br>new_cases (1d)=%{customdata[0]}<extra></extra>",
         "ids": [
          "2021-12-26T00:00:00",
          "2021-12-26T00:00:00",
          "2021-12-26T00:00:00",
          "2021-12-26T00:00:00",
          "2021-12-26T00:00:00",
          "2021-12-26T00:00:00",
          "2021-12-26T00:00:00",
          "2021-12-26T00:00:00",
          "2021-12-26T00:00:00",
          "2021-12-26T00:00:00",
          "2021-12-26T00:00:00",
          "2021-12-26T00:00:00",
          "2021-12-26T00:00:00",
          "2021-12-26T00:00:00",
          "2021-12-26T00:00:00",
          "2021-12-26T00:00:00",
          "2021-12-26T00:00:00",
          "2021-12-26T00:00:00",
          "2021-12-26T00:00:00",
          "2021-12-26T00:00:00",
          "2021-12-26T00:00:00",
          "2021-12-26T00:00:00",
          "2021-12-26T00:00:00",
          "2021-12-26T00:00:00",
          "2021-12-26T00:00:00",
          "2021-12-26T00:00:00",
          "2021-12-26T00:00:00",
          "2021-12-26T00:00:00",
          "2021-12-26T00:00:00",
          "2021-12-26T00:00:00",
          "2021-12-26T00:00:00",
          "2021-12-26T00:00:00",
          "2021-12-26T00:00:00",
          "2021-12-26T00:00:00",
          "2021-12-26T00:00:00",
          "2021-12-26T00:00:00",
          "2021-12-26T00:00:00",
          "2021-12-26T00:00:00",
          "2021-12-26T00:00:00",
          "2021-12-26T00:00:00",
          "2021-12-26T00:00:00",
          "2021-12-26T00:00:00",
          "2021-12-26T00:00:00",
          "2021-12-26T00:00:00",
          "2021-12-26T00:00:00",
          "2021-12-26T00:00:00",
          "2021-12-26T00:00:00",
          "2021-12-26T00:00:00",
          "2021-12-26T00:00:00",
          "2021-12-26T00:00:00",
          "2021-12-26T00:00:00",
          "2021-12-26T00:00:00"
         ],
         "legendgroup": "",
         "locationmode": "USA-states",
         "locations": [
          "AK",
          "AL",
          "AR",
          "AZ",
          "CA",
          "CO",
          "CT",
          "DC",
          "DE",
          "FL",
          "GA",
          "HI",
          "IA",
          "ID",
          "IL",
          "IN",
          "KS",
          "KY",
          "LA",
          "MA",
          "MD",
          "ME",
          "MI",
          "MN",
          "MO",
          "MS",
          "MT",
          "NC",
          "ND",
          "NE",
          "NH",
          "NJ",
          "NM",
          "NV",
          "NY",
          "OH",
          "OK",
          "OR",
          "PA",
          "PR",
          "RI",
          "SC",
          "SD",
          "TN",
          "TX",
          "UT",
          "VA",
          "VT",
          "WA",
          "WI",
          "WV",
          "WY"
         ],
         "marker": {
          "color": [
           0,
           0.03998974621891,
           0.014069621287130001,
           0.004879225689577137,
           0,
           0.08646520920534,
           0,
           0,
           0.13288092531924,
           0.13874990455292,
           0,
           0,
           0,
           0,
           0,
           0,
           0,
           0.02391520710479,
           0,
           0,
           0.10300974538649,
           0.013777693913549998,
           0,
           0,
           0,
           0,
           0,
           0.04737514608067,
           0.009118336181161516,
           0,
           0,
           0.15947508268004001,
           0,
           0,
           0.48181311575802005,
           0.1794619265221,
           0,
           0,
           0.05346506633686,
           0.19949090643906,
           0.03461873516762,
           0.054951336498559995,
           0,
           0.05803835718361,
           0.04443955979252,
           0,
           0,
           0.03571926261346,
           0.06815136518150999,
           0,
           0,
           0
          ],
          "coloraxis": "coloraxis",
          "size": [
           0,
           0.03998974621891,
           0.014069621287130001,
           0.004879225689577137,
           0,
           0.08646520920534,
           0,
           0,
           0.13288092531924,
           0.13874990455292,
           0,
           0,
           0,
           0,
           0,
           0,
           0,
           0.02391520710479,
           0,
           0,
           0.10300974538649,
           0.013777693913549998,
           0,
           0,
           0,
           0,
           0,
           0.04737514608067,
           0.009118336181161516,
           0,
           0,
           0.15947508268004001,
           0,
           0,
           0.48181311575802005,
           0.1794619265221,
           0,
           0,
           0.05346506633686,
           0.19949090643906,
           0.03461873516762,
           0.054951336498559995,
           0,
           0.05803835718361,
           0.04443955979252,
           0,
           0,
           0.03571926261346,
           0.06815136518150999,
           0,
           0,
           0
          ],
          "sizemode": "area",
          "sizeref": 0.00120453278939505,
          "symbol": "circle"
         },
         "mode": "markers",
         "name": "",
         "showlegend": false,
         "type": "scattergeo"
        }
       ],
       "layout": {
        "coloraxis": {
         "cmax": 0.6,
         "cmin": 0,
         "colorbar": {
          "title": {
           "text": "new_cases % pop (1d)"
          }
         },
         "colorscale": [
          [
           0,
           "rgb(255,255,255)"
          ],
          [
           0.5,
           "rgb(255,210,0)"
          ],
          [
           1,
           "rgb(230,0,0)"
          ]
         ]
        },
        "geo": {
         "center": {},
         "domain": {
          "x": [
           0,
           1
          ],
          "y": [
           0,
           1
          ]
         },
         "scope": "usa",
         "visible": true
        },
        "legend": {
         "itemsizing": "constant",
         "tracegroupgap": 0
        },
        "margin": {
         "t": 60
        },
        "template": {
         "data": {
          "bar": [
           {
            "error_x": {
             "color": "#2a3f5f"
            },
            "error_y": {
             "color": "#2a3f5f"
            },
            "marker": {
             "line": {
              "color": "#E5ECF6",
              "width": 0.5
             },
             "pattern": {
              "fillmode": "overlay",
              "size": 10,
              "solidity": 0.2
             }
            },
            "type": "bar"
           }
          ],
          "barpolar": [
           {
            "marker": {
             "line": {
              "color": "#E5ECF6",
              "width": 0.5
             },
             "pattern": {
              "fillmode": "overlay",
              "size": 10,
              "solidity": 0.2
             }
            },
            "type": "barpolar"
           }
          ],
          "carpet": [
           {
            "aaxis": {
             "endlinecolor": "#2a3f5f",
             "gridcolor": "white",
             "linecolor": "white",
             "minorgridcolor": "white",
             "startlinecolor": "#2a3f5f"
            },
            "baxis": {
             "endlinecolor": "#2a3f5f",
             "gridcolor": "white",
             "linecolor": "white",
             "minorgridcolor": "white",
             "startlinecolor": "#2a3f5f"
            },
            "type": "carpet"
           }
          ],
          "choropleth": [
           {
            "colorbar": {
             "outlinewidth": 0,
             "ticks": ""
            },
            "type": "choropleth"
           }
          ],
          "contour": [
           {
            "colorbar": {
             "outlinewidth": 0,
             "ticks": ""
            },
            "colorscale": [
             [
              0,
              "#0d0887"
             ],
             [
              0.1111111111111111,
              "#46039f"
             ],
             [
              0.2222222222222222,
              "#7201a8"
             ],
             [
              0.3333333333333333,
              "#9c179e"
             ],
             [
              0.4444444444444444,
              "#bd3786"
             ],
             [
              0.5555555555555556,
              "#d8576b"
             ],
             [
              0.6666666666666666,
              "#ed7953"
             ],
             [
              0.7777777777777778,
              "#fb9f3a"
             ],
             [
              0.8888888888888888,
              "#fdca26"
             ],
             [
              1,
              "#f0f921"
             ]
            ],
            "type": "contour"
           }
          ],
          "contourcarpet": [
           {
            "colorbar": {
             "outlinewidth": 0,
             "ticks": ""
            },
            "type": "contourcarpet"
           }
          ],
          "heatmap": [
           {
            "colorbar": {
             "outlinewidth": 0,
             "ticks": ""
            },
            "colorscale": [
             [
              0,
              "#0d0887"
             ],
             [
              0.1111111111111111,
              "#46039f"
             ],
             [
              0.2222222222222222,
              "#7201a8"
             ],
             [
              0.3333333333333333,
              "#9c179e"
             ],
             [
              0.4444444444444444,
              "#bd3786"
             ],
             [
              0.5555555555555556,
              "#d8576b"
             ],
             [
              0.6666666666666666,
              "#ed7953"
             ],
             [
              0.7777777777777778,
              "#fb9f3a"
             ],
             [
              0.8888888888888888,
              "#fdca26"
             ],
             [
              1,
              "#f0f921"
             ]
            ],
            "type": "heatmap"
           }
          ],
          "heatmapgl": [
           {
            "colorbar": {
             "outlinewidth": 0,
             "ticks": ""
            },
            "colorscale": [
             [
              0,
              "#0d0887"
             ],
             [
              0.1111111111111111,
              "#46039f"
             ],
             [
              0.2222222222222222,
              "#7201a8"
             ],
             [
              0.3333333333333333,
              "#9c179e"
             ],
             [
              0.4444444444444444,
              "#bd3786"
             ],
             [
              0.5555555555555556,
              "#d8576b"
             ],
             [
              0.6666666666666666,
              "#ed7953"
             ],
             [
              0.7777777777777778,
              "#fb9f3a"
             ],
             [
              0.8888888888888888,
              "#fdca26"
             ],
             [
              1,
              "#f0f921"
             ]
            ],
            "type": "heatmapgl"
           }
          ],
          "histogram": [
           {
            "marker": {
             "pattern": {
              "fillmode": "overlay",
              "size": 10,
              "solidity": 0.2
             }
            },
            "type": "histogram"
           }
          ],
          "histogram2d": [
           {
            "colorbar": {
             "outlinewidth": 0,
             "ticks": ""
            },
            "colorscale": [
             [
              0,
              "#0d0887"
             ],
             [
              0.1111111111111111,
              "#46039f"
             ],
             [
              0.2222222222222222,
              "#7201a8"
             ],
             [
              0.3333333333333333,
              "#9c179e"
             ],
             [
              0.4444444444444444,
              "#bd3786"
             ],
             [
              0.5555555555555556,
              "#d8576b"
             ],
             [
              0.6666666666666666,
              "#ed7953"
             ],
             [
              0.7777777777777778,
              "#fb9f3a"
             ],
             [
              0.8888888888888888,
              "#fdca26"
             ],
             [
              1,
              "#f0f921"
             ]
            ],
            "type": "histogram2d"
           }
          ],
          "histogram2dcontour": [
           {
            "colorbar": {
             "outlinewidth": 0,
             "ticks": ""
            },
            "colorscale": [
             [
              0,
              "#0d0887"
             ],
             [
              0.1111111111111111,
              "#46039f"
             ],
             [
              0.2222222222222222,
              "#7201a8"
             ],
             [
              0.3333333333333333,
              "#9c179e"
             ],
             [
              0.4444444444444444,
              "#bd3786"
             ],
             [
              0.5555555555555556,
              "#d8576b"
             ],
             [
              0.6666666666666666,
              "#ed7953"
             ],
             [
              0.7777777777777778,
              "#fb9f3a"
             ],
             [
              0.8888888888888888,
              "#fdca26"
             ],
             [
              1,
              "#f0f921"
             ]
            ],
            "type": "histogram2dcontour"
           }
          ],
          "mesh3d": [
           {
            "colorbar": {
             "outlinewidth": 0,
             "ticks": ""
            },
            "type": "mesh3d"
           }
          ],
          "parcoords": [
           {
            "line": {
             "colorbar": {
              "outlinewidth": 0,
              "ticks": ""
             }
            },
            "type": "parcoords"
           }
          ],
          "pie": [
           {
            "automargin": true,
            "type": "pie"
           }
          ],
          "scatter": [
           {
            "fillpattern": {
             "fillmode": "overlay",
             "size": 10,
             "solidity": 0.2
            },
            "type": "scatter"
           }
          ],
          "scatter3d": [
           {
            "line": {
             "colorbar": {
              "outlinewidth": 0,
              "ticks": ""
             }
            },
            "marker": {
             "colorbar": {
              "outlinewidth": 0,
              "ticks": ""
             }
            },
            "type": "scatter3d"
           }
          ],
          "scattercarpet": [
           {
            "marker": {
             "colorbar": {
              "outlinewidth": 0,
              "ticks": ""
             }
            },
            "type": "scattercarpet"
           }
          ],
          "scattergeo": [
           {
            "marker": {
             "colorbar": {
              "outlinewidth": 0,
              "ticks": ""
             }
            },
            "type": "scattergeo"
           }
          ],
          "scattergl": [
           {
            "marker": {
             "colorbar": {
              "outlinewidth": 0,
              "ticks": ""
             }
            },
            "type": "scattergl"
           }
          ],
          "scattermapbox": [
           {
            "marker": {
             "colorbar": {
              "outlinewidth": 0,
              "ticks": ""
             }
            },
            "type": "scattermapbox"
           }
          ],
          "scatterpolar": [
           {
            "marker": {
             "colorbar": {
              "outlinewidth": 0,
              "ticks": ""
             }
            },
            "type": "scatterpolar"
           }
          ],
          "scatterpolargl": [
           {
            "marker": {
             "colorbar": {
              "outlinewidth": 0,
              "ticks": ""
             }
            },
            "type": "scatterpolargl"
           }
          ],
          "scatterternary": [
           {
            "marker": {
             "colorbar": {
              "outlinewidth": 0,
              "ticks": ""
             }
            },
            "type": "scatterternary"
           }
          ],
          "surface": [
           {
            "colorbar": {
             "outlinewidth": 0,
             "ticks": ""
            },
            "colorscale": [
             [
              0,
              "#0d0887"
             ],
             [
              0.1111111111111111,
              "#46039f"
             ],
             [
              0.2222222222222222,
              "#7201a8"
             ],
             [
              0.3333333333333333,
              "#9c179e"
             ],
             [
              0.4444444444444444,
              "#bd3786"
             ],
             [
              0.5555555555555556,
              "#d8576b"
             ],
             [
              0.6666666666666666,
              "#ed7953"
             ],
             [
              0.7777777777777778,
              "#fb9f3a"
             ],
             [
              0.8888888888888888,
              "#fdca26"
             ],
             [
              1,
              "#f0f921"
             ]
            ],
            "type": "surface"
           }
          ],
          "table": [
           {
            "cells": {
             "fill": {
              "color": "#EBF0F8"
             },
             "line": {
              "color": "white"
             }
            },
            "header": {
             "fill": {
              "color": "#C8D4E3"
             },
             "line": {
              "color": "white"
             }
            },
            "type": "table"
           }
          ]
         },
         "layout": {
          "annotationdefaults": {
           "arrowcolor": "#2a3f5f",
           "arrowhead": 0,
           "arrowwidth": 1
          },
          "autotypenumbers": "strict",
          "coloraxis": {
           "colorbar": {
            "outlinewidth": 0,
            "ticks": ""
           }
          },
          "colorscale": {
           "diverging": [
            [
             0,
             "#8e0152"
            ],
            [
             0.1,
             "#c51b7d"
            ],
            [
             0.2,
             "#de77ae"
            ],
            [
             0.3,
             "#f1b6da"
            ],
            [
             0.4,
             "#fde0ef"
            ],
            [
             0.5,
             "#f7f7f7"
            ],
            [
             0.6,
             "#e6f5d0"
            ],
            [
             0.7,
             "#b8e186"
            ],
            [
             0.8,
             "#7fbc41"
            ],
            [
             0.9,
             "#4d9221"
            ],
            [
             1,
             "#276419"
            ]
           ],
           "sequential": [
            [
             0,
             "#0d0887"
            ],
            [
             0.1111111111111111,
             "#46039f"
            ],
            [
             0.2222222222222222,
             "#7201a8"
            ],
            [
             0.3333333333333333,
             "#9c179e"
            ],
            [
             0.4444444444444444,
             "#bd3786"
            ],
            [
             0.5555555555555556,
             "#d8576b"
            ],
            [
             0.6666666666666666,
             "#ed7953"
            ],
            [
             0.7777777777777778,
             "#fb9f3a"
            ],
            [
             0.8888888888888888,
             "#fdca26"
            ],
            [
             1,
             "#f0f921"
            ]
           ],
           "sequentialminus": [
            [
             0,
             "#0d0887"
            ],
            [
             0.1111111111111111,
             "#46039f"
            ],
            [
             0.2222222222222222,
             "#7201a8"
            ],
            [
             0.3333333333333333,
             "#9c179e"
            ],
            [
             0.4444444444444444,
             "#bd3786"
            ],
            [
             0.5555555555555556,
             "#d8576b"
            ],
            [
             0.6666666666666666,
             "#ed7953"
            ],
            [
             0.7777777777777778,
             "#fb9f3a"
            ],
            [
             0.8888888888888888,
             "#fdca26"
            ],
            [
             1,
             "#f0f921"
            ]
           ]
          },
          "colorway": [
           "#636efa",
           "#EF553B",
           "#00cc96",
           "#ab63fa",
           "#FFA15A",
           "#19d3f3",
           "#FF6692",
           "#B6E880",
           "#FF97FF",
           "#FECB52"
          ],
          "font": {
           "color": "#2a3f5f"
          },
          "geo": {
           "bgcolor": "white",
           "lakecolor": "white",
           "landcolor": "#E5ECF6",
           "showlakes": true,
           "showland": true,
           "subunitcolor": "white"
          },
          "hoverlabel": {
           "align": "left"
          },
          "hovermode": "closest",
          "mapbox": {
           "style": "light"
          },
          "paper_bgcolor": "white",
          "plot_bgcolor": "#E5ECF6",
          "polar": {
           "angularaxis": {
            "gridcolor": "white",
            "linecolor": "white",
            "ticks": ""
           },
           "bgcolor": "#E5ECF6",
           "radialaxis": {
            "gridcolor": "white",
            "linecolor": "white",
            "ticks": ""
           }
          },
          "scene": {
           "xaxis": {
            "backgroundcolor": "#E5ECF6",
            "gridcolor": "white",
            "gridwidth": 2,
            "linecolor": "white",
            "showbackground": true,
            "ticks": "",
            "zerolinecolor": "white"
           },
           "yaxis": {
            "backgroundcolor": "#E5ECF6",
            "gridcolor": "white",
            "gridwidth": 2,
            "linecolor": "white",
            "showbackground": true,
            "ticks": "",
            "zerolinecolor": "white"
           },
           "zaxis": {
            "backgroundcolor": "#E5ECF6",
            "gridcolor": "white",
            "gridwidth": 2,
            "linecolor": "white",
            "showbackground": true,
            "ticks": "",
            "zerolinecolor": "white"
           }
          },
          "shapedefaults": {
           "line": {
            "color": "#2a3f5f"
           }
          },
          "ternary": {
           "aaxis": {
            "gridcolor": "white",
            "linecolor": "white",
            "ticks": ""
           },
           "baxis": {
            "gridcolor": "white",
            "linecolor": "white",
            "ticks": ""
           },
           "bgcolor": "#E5ECF6",
           "caxis": {
            "gridcolor": "white",
            "linecolor": "white",
            "ticks": ""
           }
          },
          "title": {
           "x": 0.05
          },
          "xaxis": {
           "automargin": true,
           "gridcolor": "white",
           "linecolor": "white",
           "ticks": "",
           "title": {
            "standoff": 15
           },
           "zerolinecolor": "white",
           "zerolinewidth": 2
          },
          "yaxis": {
           "automargin": true,
           "gridcolor": "white",
           "linecolor": "white",
           "ticks": "",
           "title": {
            "standoff": 15
           },
           "zerolinecolor": "white",
           "zerolinewidth": 2
          }
         }
        }
       }
      },
      "text/html": [
       "<div>                            <div id=\"52b918c6-11e4-46ad-bc52-08340f51f89d\" class=\"plotly-graph-div\" style=\"height:525px; width:100%;\"></div>            <script type=\"text/javascript\">                require([\"plotly\"], function(Plotly) {                    window.PLOTLYENV=window.PLOTLYENV || {};                                    if (document.getElementById(\"52b918c6-11e4-46ad-bc52-08340f51f89d\")) {                    Plotly.newPlot(                        \"52b918c6-11e4-46ad-bc52-08340f51f89d\",                        [{\"customdata\":[[0,0.0,\"AK\"],[1950,0.03998974621891,\"AL\"],[422,0.014069621287130001,\"AR\"],[344,0.004879225689577137,\"AZ\"],[0,0.0,\"CA\"],[4851,0.08646520920534,\"CO\"],[0,0.0,\"CT\"],[0,0.0,\"DC\"],[1272,0.13288092531924,\"DE\"],[29001,0.13874990455292,\"FL\"],[0,0.0,\"GA\"],[0,0.0,\"HI\"],[0,0.0,\"IA\"],[0,0.0,\"ID\"],[0,0.0,\"IL\"],[0,0.0,\"IN\"],[0,0.0,\"KS\"],[1064,0.02391520710479,\"KY\"],[0,0.0,\"LA\"],[0,0.0,\"MA\"],[6200,0.10300974538649,\"MD\"],[184,0.013777693913549998,\"ME\"],[0,0.0,\"MI\"],[0,0.0,\"MN\"],[0,0.0,\"MO\"],[0,0.0,\"MS\"],[0,0.0,\"MT\"],[4863,0.04737514608067,\"NC\"],[69,0.009118336181161516,\"ND\"],[0,0.0,\"NE\"],[0,0.0,\"NH\"],[14159,0.15947508268004001,\"NJ\"],[0,0.0,\"NM\"],[0,0.0,\"NV\"],[94302,0.48181311575802005,\"NY\"],[20917,0.1794619265221,\"OH\"],[0,0.0,\"OK\"],[0,0.0,\"OR\"],[6839,0.05346506633686,\"PA\"],[6620,0.19949090643906,\"PR\"],[366,0.03461873516762,\"RI\"],[2759,0.054951336498559995,\"SC\"],[0,0.0,\"SD\"],[3894,0.05803835718361,\"TN\"],[12559,0.04443955979252,\"TX\"],[0,0.0,\"UT\"],[0,0.0,\"VA\"],[223,0.03571926261346,\"VT\"],[5046,0.06815136518150999,\"WA\"],[0,0.0,\"WI\"],[0,0.0,\"WV\"],[0,0.0,\"WY\"]],\"geo\":\"geo\",\"hovertemplate\":\"new_cases % pop (1d)=%{marker.color:.2f}<br>state=%{customdata[2]}<br>new_cases (1d)=%{customdata[0]}<extra></extra>\",\"ids\":[\"2021-12-26T00:00:00\",\"2021-12-26T00:00:00\",\"2021-12-26T00:00:00\",\"2021-12-26T00:00:00\",\"2021-12-26T00:00:00\",\"2021-12-26T00:00:00\",\"2021-12-26T00:00:00\",\"2021-12-26T00:00:00\",\"2021-12-26T00:00:00\",\"2021-12-26T00:00:00\",\"2021-12-26T00:00:00\",\"2021-12-26T00:00:00\",\"2021-12-26T00:00:00\",\"2021-12-26T00:00:00\",\"2021-12-26T00:00:00\",\"2021-12-26T00:00:00\",\"2021-12-26T00:00:00\",\"2021-12-26T00:00:00\",\"2021-12-26T00:00:00\",\"2021-12-26T00:00:00\",\"2021-12-26T00:00:00\",\"2021-12-26T00:00:00\",\"2021-12-26T00:00:00\",\"2021-12-26T00:00:00\",\"2021-12-26T00:00:00\",\"2021-12-26T00:00:00\",\"2021-12-26T00:00:00\",\"2021-12-26T00:00:00\",\"2021-12-26T00:00:00\",\"2021-12-26T00:00:00\",\"2021-12-26T00:00:00\",\"2021-12-26T00:00:00\",\"2021-12-26T00:00:00\",\"2021-12-26T00:00:00\",\"2021-12-26T00:00:00\",\"2021-12-26T00:00:00\",\"2021-12-26T00:00:00\",\"2021-12-26T00:00:00\",\"2021-12-26T00:00:00\",\"2021-12-26T00:00:00\",\"2021-12-26T00:00:00\",\"2021-12-26T00:00:00\",\"2021-12-26T00:00:00\",\"2021-12-26T00:00:00\",\"2021-12-26T00:00:00\",\"2021-12-26T00:00:00\",\"2021-12-26T00:00:00\",\"2021-12-26T00:00:00\",\"2021-12-26T00:00:00\",\"2021-12-26T00:00:00\",\"2021-12-26T00:00:00\",\"2021-12-26T00:00:00\"],\"legendgroup\":\"\",\"locationmode\":\"USA-states\",\"locations\":[\"AK\",\"AL\",\"AR\",\"AZ\",\"CA\",\"CO\",\"CT\",\"DC\",\"DE\",\"FL\",\"GA\",\"HI\",\"IA\",\"ID\",\"IL\",\"IN\",\"KS\",\"KY\",\"LA\",\"MA\",\"MD\",\"ME\",\"MI\",\"MN\",\"MO\",\"MS\",\"MT\",\"NC\",\"ND\",\"NE\",\"NH\",\"NJ\",\"NM\",\"NV\",\"NY\",\"OH\",\"OK\",\"OR\",\"PA\",\"PR\",\"RI\",\"SC\",\"SD\",\"TN\",\"TX\",\"UT\",\"VA\",\"VT\",\"WA\",\"WI\",\"WV\",\"WY\"],\"marker\":{\"color\":[0.0,0.03998974621891,0.014069621287130001,0.004879225689577137,0.0,0.08646520920534,0.0,0.0,0.13288092531924,0.13874990455292,0.0,0.0,0.0,0.0,0.0,0.0,0.0,0.02391520710479,0.0,0.0,0.10300974538649,0.013777693913549998,0.0,0.0,0.0,0.0,0.0,0.04737514608067,0.009118336181161516,0.0,0.0,0.15947508268004001,0.0,0.0,0.48181311575802005,0.1794619265221,0.0,0.0,0.05346506633686,0.19949090643906,0.03461873516762,0.054951336498559995,0.0,0.05803835718361,0.04443955979252,0.0,0.0,0.03571926261346,0.06815136518150999,0.0,0.0,0.0],\"coloraxis\":\"coloraxis\",\"size\":[0.0,0.03998974621891,0.014069621287130001,0.004879225689577137,0.0,0.08646520920534,0.0,0.0,0.13288092531924,0.13874990455292,0.0,0.0,0.0,0.0,0.0,0.0,0.0,0.02391520710479,0.0,0.0,0.10300974538649,0.013777693913549998,0.0,0.0,0.0,0.0,0.0,0.04737514608067,0.009118336181161516,0.0,0.0,0.15947508268004001,0.0,0.0,0.48181311575802005,0.1794619265221,0.0,0.0,0.05346506633686,0.19949090643906,0.03461873516762,0.054951336498559995,0.0,0.05803835718361,0.04443955979252,0.0,0.0,0.03571926261346,0.06815136518150999,0.0,0.0,0.0],\"sizemode\":\"area\",\"sizeref\":0.00120453278939505,\"symbol\":\"circle\"},\"mode\":\"markers\",\"name\":\"\",\"showlegend\":false,\"type\":\"scattergeo\"}],                        {\"template\":{\"data\":{\"histogram2dcontour\":[{\"type\":\"histogram2dcontour\",\"colorbar\":{\"outlinewidth\":0,\"ticks\":\"\"},\"colorscale\":[[0.0,\"#0d0887\"],[0.1111111111111111,\"#46039f\"],[0.2222222222222222,\"#7201a8\"],[0.3333333333333333,\"#9c179e\"],[0.4444444444444444,\"#bd3786\"],[0.5555555555555556,\"#d8576b\"],[0.6666666666666666,\"#ed7953\"],[0.7777777777777778,\"#fb9f3a\"],[0.8888888888888888,\"#fdca26\"],[1.0,\"#f0f921\"]]}],\"choropleth\":[{\"type\":\"choropleth\",\"colorbar\":{\"outlinewidth\":0,\"ticks\":\"\"}}],\"histogram2d\":[{\"type\":\"histogram2d\",\"colorbar\":{\"outlinewidth\":0,\"ticks\":\"\"},\"colorscale\":[[0.0,\"#0d0887\"],[0.1111111111111111,\"#46039f\"],[0.2222222222222222,\"#7201a8\"],[0.3333333333333333,\"#9c179e\"],[0.4444444444444444,\"#bd3786\"],[0.5555555555555556,\"#d8576b\"],[0.6666666666666666,\"#ed7953\"],[0.7777777777777778,\"#fb9f3a\"],[0.8888888888888888,\"#fdca26\"],[1.0,\"#f0f921\"]]}],\"heatmap\":[{\"type\":\"heatmap\",\"colorbar\":{\"outlinewidth\":0,\"ticks\":\"\"},\"colorscale\":[[0.0,\"#0d0887\"],[0.1111111111111111,\"#46039f\"],[0.2222222222222222,\"#7201a8\"],[0.3333333333333333,\"#9c179e\"],[0.4444444444444444,\"#bd3786\"],[0.5555555555555556,\"#d8576b\"],[0.6666666666666666,\"#ed7953\"],[0.7777777777777778,\"#fb9f3a\"],[0.8888888888888888,\"#fdca26\"],[1.0,\"#f0f921\"]]}],\"heatmapgl\":[{\"type\":\"heatmapgl\",\"colorbar\":{\"outlinewidth\":0,\"ticks\":\"\"},\"colorscale\":[[0.0,\"#0d0887\"],[0.1111111111111111,\"#46039f\"],[0.2222222222222222,\"#7201a8\"],[0.3333333333333333,\"#9c179e\"],[0.4444444444444444,\"#bd3786\"],[0.5555555555555556,\"#d8576b\"],[0.6666666666666666,\"#ed7953\"],[0.7777777777777778,\"#fb9f3a\"],[0.8888888888888888,\"#fdca26\"],[1.0,\"#f0f921\"]]}],\"contourcarpet\":[{\"type\":\"contourcarpet\",\"colorbar\":{\"outlinewidth\":0,\"ticks\":\"\"}}],\"contour\":[{\"type\":\"contour\",\"colorbar\":{\"outlinewidth\":0,\"ticks\":\"\"},\"colorscale\":[[0.0,\"#0d0887\"],[0.1111111111111111,\"#46039f\"],[0.2222222222222222,\"#7201a8\"],[0.3333333333333333,\"#9c179e\"],[0.4444444444444444,\"#bd3786\"],[0.5555555555555556,\"#d8576b\"],[0.6666666666666666,\"#ed7953\"],[0.7777777777777778,\"#fb9f3a\"],[0.8888888888888888,\"#fdca26\"],[1.0,\"#f0f921\"]]}],\"surface\":[{\"type\":\"surface\",\"colorbar\":{\"outlinewidth\":0,\"ticks\":\"\"},\"colorscale\":[[0.0,\"#0d0887\"],[0.1111111111111111,\"#46039f\"],[0.2222222222222222,\"#7201a8\"],[0.3333333333333333,\"#9c179e\"],[0.4444444444444444,\"#bd3786\"],[0.5555555555555556,\"#d8576b\"],[0.6666666666666666,\"#ed7953\"],[0.7777777777777778,\"#fb9f3a\"],[0.8888888888888888,\"#fdca26\"],[1.0,\"#f0f921\"]]}],\"mesh3d\":[{\"type\":\"mesh3d\",\"colorbar\":{\"outlinewidth\":0,\"ticks\":\"\"}}],\"scatter\":[{\"fillpattern\":{\"fillmode\":\"overlay\",\"size\":10,\"solidity\":0.2},\"type\":\"scatter\"}],\"parcoords\":[{\"type\":\"parcoords\",\"line\":{\"colorbar\":{\"outlinewidth\":0,\"ticks\":\"\"}}}],\"scatterpolargl\":[{\"type\":\"scatterpolargl\",\"marker\":{\"colorbar\":{\"outlinewidth\":0,\"ticks\":\"\"}}}],\"bar\":[{\"error_x\":{\"color\":\"#2a3f5f\"},\"error_y\":{\"color\":\"#2a3f5f\"},\"marker\":{\"line\":{\"color\":\"#E5ECF6\",\"width\":0.5},\"pattern\":{\"fillmode\":\"overlay\",\"size\":10,\"solidity\":0.2}},\"type\":\"bar\"}],\"scattergeo\":[{\"type\":\"scattergeo\",\"marker\":{\"colorbar\":{\"outlinewidth\":0,\"ticks\":\"\"}}}],\"scatterpolar\":[{\"type\":\"scatterpolar\",\"marker\":{\"colorbar\":{\"outlinewidth\":0,\"ticks\":\"\"}}}],\"histogram\":[{\"marker\":{\"pattern\":{\"fillmode\":\"overlay\",\"size\":10,\"solidity\":0.2}},\"type\":\"histogram\"}],\"scattergl\":[{\"type\":\"scattergl\",\"marker\":{\"colorbar\":{\"outlinewidth\":0,\"ticks\":\"\"}}}],\"scatter3d\":[{\"type\":\"scatter3d\",\"line\":{\"colorbar\":{\"outlinewidth\":0,\"ticks\":\"\"}},\"marker\":{\"colorbar\":{\"outlinewidth\":0,\"ticks\":\"\"}}}],\"scattermapbox\":[{\"type\":\"scattermapbox\",\"marker\":{\"colorbar\":{\"outlinewidth\":0,\"ticks\":\"\"}}}],\"scatterternary\":[{\"type\":\"scatterternary\",\"marker\":{\"colorbar\":{\"outlinewidth\":0,\"ticks\":\"\"}}}],\"scattercarpet\":[{\"type\":\"scattercarpet\",\"marker\":{\"colorbar\":{\"outlinewidth\":0,\"ticks\":\"\"}}}],\"carpet\":[{\"aaxis\":{\"endlinecolor\":\"#2a3f5f\",\"gridcolor\":\"white\",\"linecolor\":\"white\",\"minorgridcolor\":\"white\",\"startlinecolor\":\"#2a3f5f\"},\"baxis\":{\"endlinecolor\":\"#2a3f5f\",\"gridcolor\":\"white\",\"linecolor\":\"white\",\"minorgridcolor\":\"white\",\"startlinecolor\":\"#2a3f5f\"},\"type\":\"carpet\"}],\"table\":[{\"cells\":{\"fill\":{\"color\":\"#EBF0F8\"},\"line\":{\"color\":\"white\"}},\"header\":{\"fill\":{\"color\":\"#C8D4E3\"},\"line\":{\"color\":\"white\"}},\"type\":\"table\"}],\"barpolar\":[{\"marker\":{\"line\":{\"color\":\"#E5ECF6\",\"width\":0.5},\"pattern\":{\"fillmode\":\"overlay\",\"size\":10,\"solidity\":0.2}},\"type\":\"barpolar\"}],\"pie\":[{\"automargin\":true,\"type\":\"pie\"}]},\"layout\":{\"autotypenumbers\":\"strict\",\"colorway\":[\"#636efa\",\"#EF553B\",\"#00cc96\",\"#ab63fa\",\"#FFA15A\",\"#19d3f3\",\"#FF6692\",\"#B6E880\",\"#FF97FF\",\"#FECB52\"],\"font\":{\"color\":\"#2a3f5f\"},\"hovermode\":\"closest\",\"hoverlabel\":{\"align\":\"left\"},\"paper_bgcolor\":\"white\",\"plot_bgcolor\":\"#E5ECF6\",\"polar\":{\"bgcolor\":\"#E5ECF6\",\"angularaxis\":{\"gridcolor\":\"white\",\"linecolor\":\"white\",\"ticks\":\"\"},\"radialaxis\":{\"gridcolor\":\"white\",\"linecolor\":\"white\",\"ticks\":\"\"}},\"ternary\":{\"bgcolor\":\"#E5ECF6\",\"aaxis\":{\"gridcolor\":\"white\",\"linecolor\":\"white\",\"ticks\":\"\"},\"baxis\":{\"gridcolor\":\"white\",\"linecolor\":\"white\",\"ticks\":\"\"},\"caxis\":{\"gridcolor\":\"white\",\"linecolor\":\"white\",\"ticks\":\"\"}},\"coloraxis\":{\"colorbar\":{\"outlinewidth\":0,\"ticks\":\"\"}},\"colorscale\":{\"sequential\":[[0.0,\"#0d0887\"],[0.1111111111111111,\"#46039f\"],[0.2222222222222222,\"#7201a8\"],[0.3333333333333333,\"#9c179e\"],[0.4444444444444444,\"#bd3786\"],[0.5555555555555556,\"#d8576b\"],[0.6666666666666666,\"#ed7953\"],[0.7777777777777778,\"#fb9f3a\"],[0.8888888888888888,\"#fdca26\"],[1.0,\"#f0f921\"]],\"sequentialminus\":[[0.0,\"#0d0887\"],[0.1111111111111111,\"#46039f\"],[0.2222222222222222,\"#7201a8\"],[0.3333333333333333,\"#9c179e\"],[0.4444444444444444,\"#bd3786\"],[0.5555555555555556,\"#d8576b\"],[0.6666666666666666,\"#ed7953\"],[0.7777777777777778,\"#fb9f3a\"],[0.8888888888888888,\"#fdca26\"],[1.0,\"#f0f921\"]],\"diverging\":[[0,\"#8e0152\"],[0.1,\"#c51b7d\"],[0.2,\"#de77ae\"],[0.3,\"#f1b6da\"],[0.4,\"#fde0ef\"],[0.5,\"#f7f7f7\"],[0.6,\"#e6f5d0\"],[0.7,\"#b8e186\"],[0.8,\"#7fbc41\"],[0.9,\"#4d9221\"],[1,\"#276419\"]]},\"xaxis\":{\"gridcolor\":\"white\",\"linecolor\":\"white\",\"ticks\":\"\",\"title\":{\"standoff\":15},\"zerolinecolor\":\"white\",\"automargin\":true,\"zerolinewidth\":2},\"yaxis\":{\"gridcolor\":\"white\",\"linecolor\":\"white\",\"ticks\":\"\",\"title\":{\"standoff\":15},\"zerolinecolor\":\"white\",\"automargin\":true,\"zerolinewidth\":2},\"scene\":{\"xaxis\":{\"backgroundcolor\":\"#E5ECF6\",\"gridcolor\":\"white\",\"linecolor\":\"white\",\"showbackground\":true,\"ticks\":\"\",\"zerolinecolor\":\"white\",\"gridwidth\":2},\"yaxis\":{\"backgroundcolor\":\"#E5ECF6\",\"gridcolor\":\"white\",\"linecolor\":\"white\",\"showbackground\":true,\"ticks\":\"\",\"zerolinecolor\":\"white\",\"gridwidth\":2},\"zaxis\":{\"backgroundcolor\":\"#E5ECF6\",\"gridcolor\":\"white\",\"linecolor\":\"white\",\"showbackground\":true,\"ticks\":\"\",\"zerolinecolor\":\"white\",\"gridwidth\":2}},\"shapedefaults\":{\"line\":{\"color\":\"#2a3f5f\"}},\"annotationdefaults\":{\"arrowcolor\":\"#2a3f5f\",\"arrowhead\":0,\"arrowwidth\":1},\"geo\":{\"bgcolor\":\"white\",\"landcolor\":\"#E5ECF6\",\"subunitcolor\":\"white\",\"showland\":true,\"showlakes\":true,\"lakecolor\":\"white\"},\"title\":{\"x\":0.05},\"mapbox\":{\"style\":\"light\"}}},\"geo\":{\"domain\":{\"x\":[0.0,1.0],\"y\":[0.0,1.0]},\"center\":{},\"scope\":\"usa\",\"visible\":true},\"coloraxis\":{\"colorbar\":{\"title\":{\"text\":\"new_cases % pop (1d)\"}},\"colorscale\":[[0.0,\"rgb(255,255,255)\"],[0.5,\"rgb(255,210,0)\"],[1.0,\"rgb(230,0,0)\"]],\"cmin\":0,\"cmax\":0.6},\"legend\":{\"tracegroupgap\":0,\"itemsizing\":\"constant\"},\"margin\":{\"t\":60}},                        {\"responsive\": true}                    ).then(function(){\n",
       "                            \n",
       "var gd = document.getElementById('52b918c6-11e4-46ad-bc52-08340f51f89d');\n",
       "var x = new MutationObserver(function (mutations, observer) {{\n",
       "        var display = window.getComputedStyle(gd).display;\n",
       "        if (!display || display === 'none') {{\n",
       "            console.log([gd, 'removed!']);\n",
       "            Plotly.purge(gd);\n",
       "            observer.disconnect();\n",
       "        }}\n",
       "}});\n",
       "\n",
       "// Listen for the removal of the full notebook cells\n",
       "var notebookContainer = gd.closest('#notebook-container');\n",
       "if (notebookContainer) {{\n",
       "    x.observe(notebookContainer, {childList: true});\n",
       "}}\n",
       "\n",
       "// Listen for the clearing of the current output cell\n",
       "var outputEl = gd.closest('.output');\n",
       "if (outputEl) {{\n",
       "    x.observe(outputEl, {childList: true});\n",
       "}}\n",
       "\n",
       "                        })                };                });            </script>        </div>"
      ]
     },
     "metadata": {},
     "output_type": "display_data"
    }
   ],
   "source": [
    "px.scatter_geo(\n",
    "    last_df, \n",
    "    locations='state', \n",
    "    locationmode='USA-states',\n",
    "    size='new_cases % pop (1d)',\n",
    "    color='new_cases % pop (1d)',\n",
    "    scope='usa',\n",
    "    #text='state',\n",
    "    animation_group='submit_date',\n",
    "    color_continuous_scale=px.colors.sequential.Hot[1:][::-1],\n",
    "    range_color=[0,0.6],\n",
    "    basemap_visible=True,\n",
    "    hover_data={'new_cases (1d)':False,'new_cases (1d)':True,'new_cases % pop (1d)':':.2f','state':True,}\n",
    ")"
   ]
  },
  {
   "cell_type": "code",
   "execution_count": 101,
   "id": "0d7ad2c8",
   "metadata": {},
   "outputs": [
    {
     "name": "stdout",
     "output_type": "stream",
     "text": [
      "[]\n"
     ]
    }
   ],
   "source": [
    "print(px.colors.sequential.Hot[0::-1])"
   ]
  },
  {
   "cell_type": "code",
   "execution_count": 114,
   "id": "30596944",
   "metadata": {},
   "outputs": [
    {
     "data": {
      "application/vnd.plotly.v1+json": {
       "config": {
        "plotlyServerURL": "https://plot.ly"
       },
       "data": [
        {
         "customdata": [
          [
           1840,
           0.24963775391144,
           "AK"
          ],
          [
           18633,
           0.38211740579338005,
           "AL"
          ],
          [
           11987,
           0.39965059329124997,
           "AR"
          ],
          [
           38863,
           0.55122484876173,
           "AZ"
          ],
          [
           130944,
           0.33333081319109,
           "CA"
          ],
          [
           43663,
           0.7782581796604799,
           "CO"
          ],
          [
           35134,
           0.9827488885544701,
           "CT"
          ],
          [
           10863,
           1.5682498343398001,
           "DC"
          ],
          [
           12017,
           1.25536955940362,
           "DE"
          ],
          [
           232230,
           1.1110613542404,
           "FL"
          ],
          [
           54854,
           0.5272472768966999,
           "GA"
          ],
          [
           10797,
           0.75923251205616,
           "HI"
          ],
          [
           21710,
           0.69150962507501,
           "IA"
          ],
          [
           4034,
           0.23484208994322997,
           "ID"
          ],
          [
           157689,
           1.23477845378196,
           "IL"
          ],
          [
           50027,
           0.7505134867245,
           "IN"
          ],
          [
           19413,
           0.66696396546203,
           "KS"
          ],
          [
           32258,
           0.7250533372053101,
           "KY"
          ],
          [
           14438,
           0.30953858212547997,
           "LA"
          ],
          [
           85930,
           1.25435129105635,
           "MA"
          ],
          [
           64407,
           1.07008849533997,
           "MD"
          ],
          [
           11091,
           0.8304804521479701,
           "ME"
          ],
          [
           78000,
           0.7827187736603001,
           "MI"
          ],
          [
           39445,
           0.7090116831896,
           "MN"
          ],
          [
           35090,
           0.5747832482378901,
           "MO"
          ],
          [
           6387,
           0.21401157612639998,
           "MS"
          ],
          [
           1951,
           0.1856947467708,
           "MT"
          ],
          [
           62401,
           0.60790797667697,
           "NC"
          ],
          [
           4282,
           0.56586544243092,
           "ND"
          ],
          [
           10391,
           0.54273254948497,
           "NE"
          ],
          [
           15531,
           1.1520453608125,
           "NH"
          ],
          [
           140472,
           1.58215861390146,
           "NJ"
          ],
          [
           12871,
           0.61511507540906,
           "NM"
          ],
          [
           11197,
           0.37670124499475,
           "NV"
          ],
          [
           353147,
           1.80431864001399,
           "NY"
          ],
          [
           146585,
           1.25765771856591,
           "OH"
          ],
          [
           17309,
           0.4401111656373,
           "OK"
          ],
          [
           10377,
           0.25127106547213,
           "OR"
          ],
          [
           116746,
           0.91268206383442,
           "PA"
          ],
          [
           42384,
           1.27722395445821,
           "PR"
          ],
          [
           14766,
           1.39666733192651,
           "RI"
          ],
          [
           21958,
           0.43734014020856,
           "SC"
          ],
          [
           4429,
           0.50870740767115,
           "SD"
          ],
          [
           40752,
           0.60739063480906,
           "TN"
          ],
          [
           127017,
           0.44944498496436,
           "TX"
          ],
          [
           13022,
           0.42049206160586,
           "UT"
          ],
          [
           55267,
           0.65370207427721,
           "VA"
          ],
          [
           5167,
           0.8276297305998701,
           "VT"
          ],
          [
           37313,
           0.50395003745894,
           "WA"
          ],
          [
           59348,
           1.0248818971609,
           "WI"
          ],
          [
           11603,
           0.63847290355774,
           "WV"
          ],
          [
           1380,
           0.23751170347524,
           "WY"
          ]
         ],
         "geo": "geo",
         "hovertemplate": "new_cases % pop (14d)=%{marker.color:.2f}<br>state=%{customdata[2]}<br>new_cases (14d)=%{customdata[0]}<extra></extra>",
         "ids": [
          "2021-12-26T00:00:00",
          "2021-12-26T00:00:00",
          "2021-12-26T00:00:00",
          "2021-12-26T00:00:00",
          "2021-12-26T00:00:00",
          "2021-12-26T00:00:00",
          "2021-12-26T00:00:00",
          "2021-12-26T00:00:00",
          "2021-12-26T00:00:00",
          "2021-12-26T00:00:00",
          "2021-12-26T00:00:00",
          "2021-12-26T00:00:00",
          "2021-12-26T00:00:00",
          "2021-12-26T00:00:00",
          "2021-12-26T00:00:00",
          "2021-12-26T00:00:00",
          "2021-12-26T00:00:00",
          "2021-12-26T00:00:00",
          "2021-12-26T00:00:00",
          "2021-12-26T00:00:00",
          "2021-12-26T00:00:00",
          "2021-12-26T00:00:00",
          "2021-12-26T00:00:00",
          "2021-12-26T00:00:00",
          "2021-12-26T00:00:00",
          "2021-12-26T00:00:00",
          "2021-12-26T00:00:00",
          "2021-12-26T00:00:00",
          "2021-12-26T00:00:00",
          "2021-12-26T00:00:00",
          "2021-12-26T00:00:00",
          "2021-12-26T00:00:00",
          "2021-12-26T00:00:00",
          "2021-12-26T00:00:00",
          "2021-12-26T00:00:00",
          "2021-12-26T00:00:00",
          "2021-12-26T00:00:00",
          "2021-12-26T00:00:00",
          "2021-12-26T00:00:00",
          "2021-12-26T00:00:00",
          "2021-12-26T00:00:00",
          "2021-12-26T00:00:00",
          "2021-12-26T00:00:00",
          "2021-12-26T00:00:00",
          "2021-12-26T00:00:00",
          "2021-12-26T00:00:00",
          "2021-12-26T00:00:00",
          "2021-12-26T00:00:00",
          "2021-12-26T00:00:00",
          "2021-12-26T00:00:00",
          "2021-12-26T00:00:00",
          "2021-12-26T00:00:00"
         ],
         "legendgroup": "",
         "locationmode": "USA-states",
         "locations": [
          "AK",
          "AL",
          "AR",
          "AZ",
          "CA",
          "CO",
          "CT",
          "DC",
          "DE",
          "FL",
          "GA",
          "HI",
          "IA",
          "ID",
          "IL",
          "IN",
          "KS",
          "KY",
          "LA",
          "MA",
          "MD",
          "ME",
          "MI",
          "MN",
          "MO",
          "MS",
          "MT",
          "NC",
          "ND",
          "NE",
          "NH",
          "NJ",
          "NM",
          "NV",
          "NY",
          "OH",
          "OK",
          "OR",
          "PA",
          "PR",
          "RI",
          "SC",
          "SD",
          "TN",
          "TX",
          "UT",
          "VA",
          "VT",
          "WA",
          "WI",
          "WV",
          "WY"
         ],
         "marker": {
          "color": [
           0.24963775391144,
           0.38211740579338005,
           0.39965059329124997,
           0.55122484876173,
           0.33333081319109,
           0.7782581796604799,
           0.9827488885544701,
           1.5682498343398001,
           1.25536955940362,
           1.1110613542404,
           0.5272472768966999,
           0.75923251205616,
           0.69150962507501,
           0.23484208994322997,
           1.23477845378196,
           0.7505134867245,
           0.66696396546203,
           0.7250533372053101,
           0.30953858212547997,
           1.25435129105635,
           1.07008849533997,
           0.8304804521479701,
           0.7827187736603001,
           0.7090116831896,
           0.5747832482378901,
           0.21401157612639998,
           0.1856947467708,
           0.60790797667697,
           0.56586544243092,
           0.54273254948497,
           1.1520453608125,
           1.58215861390146,
           0.61511507540906,
           0.37670124499475,
           1.80431864001399,
           1.25765771856591,
           0.4401111656373,
           0.25127106547213,
           0.91268206383442,
           1.27722395445821,
           1.39666733192651,
           0.43734014020856,
           0.50870740767115,
           0.60739063480906,
           0.44944498496436,
           0.42049206160586,
           0.65370207427721,
           0.8276297305998701,
           0.50395003745894,
           1.0248818971609,
           0.63847290355774,
           0.23751170347524
          ],
          "coloraxis": "coloraxis",
          "size": [
           0.24963775391144,
           0.38211740579338005,
           0.39965059329124997,
           0.55122484876173,
           0.33333081319109,
           0.7782581796604799,
           0.9827488885544701,
           1.5682498343398001,
           1.25536955940362,
           1.1110613542404,
           0.5272472768966999,
           0.75923251205616,
           0.69150962507501,
           0.23484208994322997,
           1.23477845378196,
           0.7505134867245,
           0.66696396546203,
           0.7250533372053101,
           0.30953858212547997,
           1.25435129105635,
           1.07008849533997,
           0.8304804521479701,
           0.7827187736603001,
           0.7090116831896,
           0.5747832482378901,
           0.21401157612639998,
           0.1856947467708,
           0.60790797667697,
           0.56586544243092,
           0.54273254948497,
           1.1520453608125,
           1.58215861390146,
           0.61511507540906,
           0.37670124499475,
           1.80431864001399,
           1.25765771856591,
           0.4401111656373,
           0.25127106547213,
           0.91268206383442,
           1.27722395445821,
           1.39666733192651,
           0.43734014020856,
           0.50870740767115,
           0.60739063480906,
           0.44944498496436,
           0.42049206160586,
           0.65370207427721,
           0.8276297305998701,
           0.50395003745894,
           1.0248818971609,
           0.63847290355774,
           0.23751170347524
          ],
          "sizemode": "area",
          "sizeref": 0.004510796600034975,
          "symbol": "circle"
         },
         "mode": "markers",
         "name": "",
         "showlegend": false,
         "type": "scattergeo"
        }
       ],
       "layout": {
        "coloraxis": {
         "cmax": 6,
         "cmin": 0,
         "colorbar": {
          "title": {
           "text": "new_cases % pop (14d)"
          }
         },
         "colorscale": [
          [
           0,
           "rgb(255,255,255)"
          ],
          [
           0.5,
           "rgb(255,210,0)"
          ],
          [
           1,
           "rgb(230,0,0)"
          ]
         ]
        },
        "geo": {
         "center": {},
         "domain": {
          "x": [
           0,
           1
          ],
          "y": [
           0,
           1
          ]
         },
         "scope": "usa",
         "visible": true
        },
        "legend": {
         "itemsizing": "constant",
         "tracegroupgap": 0
        },
        "margin": {
         "t": 60
        },
        "template": {
         "data": {
          "bar": [
           {
            "error_x": {
             "color": "#2a3f5f"
            },
            "error_y": {
             "color": "#2a3f5f"
            },
            "marker": {
             "line": {
              "color": "#E5ECF6",
              "width": 0.5
             },
             "pattern": {
              "fillmode": "overlay",
              "size": 10,
              "solidity": 0.2
             }
            },
            "type": "bar"
           }
          ],
          "barpolar": [
           {
            "marker": {
             "line": {
              "color": "#E5ECF6",
              "width": 0.5
             },
             "pattern": {
              "fillmode": "overlay",
              "size": 10,
              "solidity": 0.2
             }
            },
            "type": "barpolar"
           }
          ],
          "carpet": [
           {
            "aaxis": {
             "endlinecolor": "#2a3f5f",
             "gridcolor": "white",
             "linecolor": "white",
             "minorgridcolor": "white",
             "startlinecolor": "#2a3f5f"
            },
            "baxis": {
             "endlinecolor": "#2a3f5f",
             "gridcolor": "white",
             "linecolor": "white",
             "minorgridcolor": "white",
             "startlinecolor": "#2a3f5f"
            },
            "type": "carpet"
           }
          ],
          "choropleth": [
           {
            "colorbar": {
             "outlinewidth": 0,
             "ticks": ""
            },
            "type": "choropleth"
           }
          ],
          "contour": [
           {
            "colorbar": {
             "outlinewidth": 0,
             "ticks": ""
            },
            "colorscale": [
             [
              0,
              "#0d0887"
             ],
             [
              0.1111111111111111,
              "#46039f"
             ],
             [
              0.2222222222222222,
              "#7201a8"
             ],
             [
              0.3333333333333333,
              "#9c179e"
             ],
             [
              0.4444444444444444,
              "#bd3786"
             ],
             [
              0.5555555555555556,
              "#d8576b"
             ],
             [
              0.6666666666666666,
              "#ed7953"
             ],
             [
              0.7777777777777778,
              "#fb9f3a"
             ],
             [
              0.8888888888888888,
              "#fdca26"
             ],
             [
              1,
              "#f0f921"
             ]
            ],
            "type": "contour"
           }
          ],
          "contourcarpet": [
           {
            "colorbar": {
             "outlinewidth": 0,
             "ticks": ""
            },
            "type": "contourcarpet"
           }
          ],
          "heatmap": [
           {
            "colorbar": {
             "outlinewidth": 0,
             "ticks": ""
            },
            "colorscale": [
             [
              0,
              "#0d0887"
             ],
             [
              0.1111111111111111,
              "#46039f"
             ],
             [
              0.2222222222222222,
              "#7201a8"
             ],
             [
              0.3333333333333333,
              "#9c179e"
             ],
             [
              0.4444444444444444,
              "#bd3786"
             ],
             [
              0.5555555555555556,
              "#d8576b"
             ],
             [
              0.6666666666666666,
              "#ed7953"
             ],
             [
              0.7777777777777778,
              "#fb9f3a"
             ],
             [
              0.8888888888888888,
              "#fdca26"
             ],
             [
              1,
              "#f0f921"
             ]
            ],
            "type": "heatmap"
           }
          ],
          "heatmapgl": [
           {
            "colorbar": {
             "outlinewidth": 0,
             "ticks": ""
            },
            "colorscale": [
             [
              0,
              "#0d0887"
             ],
             [
              0.1111111111111111,
              "#46039f"
             ],
             [
              0.2222222222222222,
              "#7201a8"
             ],
             [
              0.3333333333333333,
              "#9c179e"
             ],
             [
              0.4444444444444444,
              "#bd3786"
             ],
             [
              0.5555555555555556,
              "#d8576b"
             ],
             [
              0.6666666666666666,
              "#ed7953"
             ],
             [
              0.7777777777777778,
              "#fb9f3a"
             ],
             [
              0.8888888888888888,
              "#fdca26"
             ],
             [
              1,
              "#f0f921"
             ]
            ],
            "type": "heatmapgl"
           }
          ],
          "histogram": [
           {
            "marker": {
             "pattern": {
              "fillmode": "overlay",
              "size": 10,
              "solidity": 0.2
             }
            },
            "type": "histogram"
           }
          ],
          "histogram2d": [
           {
            "colorbar": {
             "outlinewidth": 0,
             "ticks": ""
            },
            "colorscale": [
             [
              0,
              "#0d0887"
             ],
             [
              0.1111111111111111,
              "#46039f"
             ],
             [
              0.2222222222222222,
              "#7201a8"
             ],
             [
              0.3333333333333333,
              "#9c179e"
             ],
             [
              0.4444444444444444,
              "#bd3786"
             ],
             [
              0.5555555555555556,
              "#d8576b"
             ],
             [
              0.6666666666666666,
              "#ed7953"
             ],
             [
              0.7777777777777778,
              "#fb9f3a"
             ],
             [
              0.8888888888888888,
              "#fdca26"
             ],
             [
              1,
              "#f0f921"
             ]
            ],
            "type": "histogram2d"
           }
          ],
          "histogram2dcontour": [
           {
            "colorbar": {
             "outlinewidth": 0,
             "ticks": ""
            },
            "colorscale": [
             [
              0,
              "#0d0887"
             ],
             [
              0.1111111111111111,
              "#46039f"
             ],
             [
              0.2222222222222222,
              "#7201a8"
             ],
             [
              0.3333333333333333,
              "#9c179e"
             ],
             [
              0.4444444444444444,
              "#bd3786"
             ],
             [
              0.5555555555555556,
              "#d8576b"
             ],
             [
              0.6666666666666666,
              "#ed7953"
             ],
             [
              0.7777777777777778,
              "#fb9f3a"
             ],
             [
              0.8888888888888888,
              "#fdca26"
             ],
             [
              1,
              "#f0f921"
             ]
            ],
            "type": "histogram2dcontour"
           }
          ],
          "mesh3d": [
           {
            "colorbar": {
             "outlinewidth": 0,
             "ticks": ""
            },
            "type": "mesh3d"
           }
          ],
          "parcoords": [
           {
            "line": {
             "colorbar": {
              "outlinewidth": 0,
              "ticks": ""
             }
            },
            "type": "parcoords"
           }
          ],
          "pie": [
           {
            "automargin": true,
            "type": "pie"
           }
          ],
          "scatter": [
           {
            "fillpattern": {
             "fillmode": "overlay",
             "size": 10,
             "solidity": 0.2
            },
            "type": "scatter"
           }
          ],
          "scatter3d": [
           {
            "line": {
             "colorbar": {
              "outlinewidth": 0,
              "ticks": ""
             }
            },
            "marker": {
             "colorbar": {
              "outlinewidth": 0,
              "ticks": ""
             }
            },
            "type": "scatter3d"
           }
          ],
          "scattercarpet": [
           {
            "marker": {
             "colorbar": {
              "outlinewidth": 0,
              "ticks": ""
             }
            },
            "type": "scattercarpet"
           }
          ],
          "scattergeo": [
           {
            "marker": {
             "colorbar": {
              "outlinewidth": 0,
              "ticks": ""
             }
            },
            "type": "scattergeo"
           }
          ],
          "scattergl": [
           {
            "marker": {
             "colorbar": {
              "outlinewidth": 0,
              "ticks": ""
             }
            },
            "type": "scattergl"
           }
          ],
          "scattermapbox": [
           {
            "marker": {
             "colorbar": {
              "outlinewidth": 0,
              "ticks": ""
             }
            },
            "type": "scattermapbox"
           }
          ],
          "scatterpolar": [
           {
            "marker": {
             "colorbar": {
              "outlinewidth": 0,
              "ticks": ""
             }
            },
            "type": "scatterpolar"
           }
          ],
          "scatterpolargl": [
           {
            "marker": {
             "colorbar": {
              "outlinewidth": 0,
              "ticks": ""
             }
            },
            "type": "scatterpolargl"
           }
          ],
          "scatterternary": [
           {
            "marker": {
             "colorbar": {
              "outlinewidth": 0,
              "ticks": ""
             }
            },
            "type": "scatterternary"
           }
          ],
          "surface": [
           {
            "colorbar": {
             "outlinewidth": 0,
             "ticks": ""
            },
            "colorscale": [
             [
              0,
              "#0d0887"
             ],
             [
              0.1111111111111111,
              "#46039f"
             ],
             [
              0.2222222222222222,
              "#7201a8"
             ],
             [
              0.3333333333333333,
              "#9c179e"
             ],
             [
              0.4444444444444444,
              "#bd3786"
             ],
             [
              0.5555555555555556,
              "#d8576b"
             ],
             [
              0.6666666666666666,
              "#ed7953"
             ],
             [
              0.7777777777777778,
              "#fb9f3a"
             ],
             [
              0.8888888888888888,
              "#fdca26"
             ],
             [
              1,
              "#f0f921"
             ]
            ],
            "type": "surface"
           }
          ],
          "table": [
           {
            "cells": {
             "fill": {
              "color": "#EBF0F8"
             },
             "line": {
              "color": "white"
             }
            },
            "header": {
             "fill": {
              "color": "#C8D4E3"
             },
             "line": {
              "color": "white"
             }
            },
            "type": "table"
           }
          ]
         },
         "layout": {
          "annotationdefaults": {
           "arrowcolor": "#2a3f5f",
           "arrowhead": 0,
           "arrowwidth": 1
          },
          "autotypenumbers": "strict",
          "coloraxis": {
           "colorbar": {
            "outlinewidth": 0,
            "ticks": ""
           }
          },
          "colorscale": {
           "diverging": [
            [
             0,
             "#8e0152"
            ],
            [
             0.1,
             "#c51b7d"
            ],
            [
             0.2,
             "#de77ae"
            ],
            [
             0.3,
             "#f1b6da"
            ],
            [
             0.4,
             "#fde0ef"
            ],
            [
             0.5,
             "#f7f7f7"
            ],
            [
             0.6,
             "#e6f5d0"
            ],
            [
             0.7,
             "#b8e186"
            ],
            [
             0.8,
             "#7fbc41"
            ],
            [
             0.9,
             "#4d9221"
            ],
            [
             1,
             "#276419"
            ]
           ],
           "sequential": [
            [
             0,
             "#0d0887"
            ],
            [
             0.1111111111111111,
             "#46039f"
            ],
            [
             0.2222222222222222,
             "#7201a8"
            ],
            [
             0.3333333333333333,
             "#9c179e"
            ],
            [
             0.4444444444444444,
             "#bd3786"
            ],
            [
             0.5555555555555556,
             "#d8576b"
            ],
            [
             0.6666666666666666,
             "#ed7953"
            ],
            [
             0.7777777777777778,
             "#fb9f3a"
            ],
            [
             0.8888888888888888,
             "#fdca26"
            ],
            [
             1,
             "#f0f921"
            ]
           ],
           "sequentialminus": [
            [
             0,
             "#0d0887"
            ],
            [
             0.1111111111111111,
             "#46039f"
            ],
            [
             0.2222222222222222,
             "#7201a8"
            ],
            [
             0.3333333333333333,
             "#9c179e"
            ],
            [
             0.4444444444444444,
             "#bd3786"
            ],
            [
             0.5555555555555556,
             "#d8576b"
            ],
            [
             0.6666666666666666,
             "#ed7953"
            ],
            [
             0.7777777777777778,
             "#fb9f3a"
            ],
            [
             0.8888888888888888,
             "#fdca26"
            ],
            [
             1,
             "#f0f921"
            ]
           ]
          },
          "colorway": [
           "#636efa",
           "#EF553B",
           "#00cc96",
           "#ab63fa",
           "#FFA15A",
           "#19d3f3",
           "#FF6692",
           "#B6E880",
           "#FF97FF",
           "#FECB52"
          ],
          "font": {
           "color": "#2a3f5f"
          },
          "geo": {
           "bgcolor": "white",
           "lakecolor": "white",
           "landcolor": "#E5ECF6",
           "showlakes": true,
           "showland": true,
           "subunitcolor": "white"
          },
          "hoverlabel": {
           "align": "left"
          },
          "hovermode": "closest",
          "mapbox": {
           "style": "light"
          },
          "paper_bgcolor": "white",
          "plot_bgcolor": "#E5ECF6",
          "polar": {
           "angularaxis": {
            "gridcolor": "white",
            "linecolor": "white",
            "ticks": ""
           },
           "bgcolor": "#E5ECF6",
           "radialaxis": {
            "gridcolor": "white",
            "linecolor": "white",
            "ticks": ""
           }
          },
          "scene": {
           "xaxis": {
            "backgroundcolor": "#E5ECF6",
            "gridcolor": "white",
            "gridwidth": 2,
            "linecolor": "white",
            "showbackground": true,
            "ticks": "",
            "zerolinecolor": "white"
           },
           "yaxis": {
            "backgroundcolor": "#E5ECF6",
            "gridcolor": "white",
            "gridwidth": 2,
            "linecolor": "white",
            "showbackground": true,
            "ticks": "",
            "zerolinecolor": "white"
           },
           "zaxis": {
            "backgroundcolor": "#E5ECF6",
            "gridcolor": "white",
            "gridwidth": 2,
            "linecolor": "white",
            "showbackground": true,
            "ticks": "",
            "zerolinecolor": "white"
           }
          },
          "shapedefaults": {
           "line": {
            "color": "#2a3f5f"
           }
          },
          "ternary": {
           "aaxis": {
            "gridcolor": "white",
            "linecolor": "white",
            "ticks": ""
           },
           "baxis": {
            "gridcolor": "white",
            "linecolor": "white",
            "ticks": ""
           },
           "bgcolor": "#E5ECF6",
           "caxis": {
            "gridcolor": "white",
            "linecolor": "white",
            "ticks": ""
           }
          },
          "title": {
           "x": 0.05
          },
          "xaxis": {
           "automargin": true,
           "gridcolor": "white",
           "linecolor": "white",
           "ticks": "",
           "title": {
            "standoff": 15
           },
           "zerolinecolor": "white",
           "zerolinewidth": 2
          },
          "yaxis": {
           "automargin": true,
           "gridcolor": "white",
           "linecolor": "white",
           "ticks": "",
           "title": {
            "standoff": 15
           },
           "zerolinecolor": "white",
           "zerolinewidth": 2
          }
         }
        }
       }
      },
      "text/html": [
       "<div>                            <div id=\"381f0dc7-e269-4b3c-b863-33af629867ee\" class=\"plotly-graph-div\" style=\"height:525px; width:100%;\"></div>            <script type=\"text/javascript\">                require([\"plotly\"], function(Plotly) {                    window.PLOTLYENV=window.PLOTLYENV || {};                                    if (document.getElementById(\"381f0dc7-e269-4b3c-b863-33af629867ee\")) {                    Plotly.newPlot(                        \"381f0dc7-e269-4b3c-b863-33af629867ee\",                        [{\"customdata\":[[1840,0.24963775391144,\"AK\"],[18633,0.38211740579338005,\"AL\"],[11987,0.39965059329124997,\"AR\"],[38863,0.55122484876173,\"AZ\"],[130944,0.33333081319109,\"CA\"],[43663,0.7782581796604799,\"CO\"],[35134,0.9827488885544701,\"CT\"],[10863,1.5682498343398001,\"DC\"],[12017,1.25536955940362,\"DE\"],[232230,1.1110613542404,\"FL\"],[54854,0.5272472768966999,\"GA\"],[10797,0.75923251205616,\"HI\"],[21710,0.69150962507501,\"IA\"],[4034,0.23484208994322997,\"ID\"],[157689,1.23477845378196,\"IL\"],[50027,0.7505134867245,\"IN\"],[19413,0.66696396546203,\"KS\"],[32258,0.7250533372053101,\"KY\"],[14438,0.30953858212547997,\"LA\"],[85930,1.25435129105635,\"MA\"],[64407,1.07008849533997,\"MD\"],[11091,0.8304804521479701,\"ME\"],[78000,0.7827187736603001,\"MI\"],[39445,0.7090116831896,\"MN\"],[35090,0.5747832482378901,\"MO\"],[6387,0.21401157612639998,\"MS\"],[1951,0.1856947467708,\"MT\"],[62401,0.60790797667697,\"NC\"],[4282,0.56586544243092,\"ND\"],[10391,0.54273254948497,\"NE\"],[15531,1.1520453608125,\"NH\"],[140472,1.58215861390146,\"NJ\"],[12871,0.61511507540906,\"NM\"],[11197,0.37670124499475,\"NV\"],[353147,1.80431864001399,\"NY\"],[146585,1.25765771856591,\"OH\"],[17309,0.4401111656373,\"OK\"],[10377,0.25127106547213,\"OR\"],[116746,0.91268206383442,\"PA\"],[42384,1.27722395445821,\"PR\"],[14766,1.39666733192651,\"RI\"],[21958,0.43734014020856,\"SC\"],[4429,0.50870740767115,\"SD\"],[40752,0.60739063480906,\"TN\"],[127017,0.44944498496436,\"TX\"],[13022,0.42049206160586,\"UT\"],[55267,0.65370207427721,\"VA\"],[5167,0.8276297305998701,\"VT\"],[37313,0.50395003745894,\"WA\"],[59348,1.0248818971609,\"WI\"],[11603,0.63847290355774,\"WV\"],[1380,0.23751170347524,\"WY\"]],\"geo\":\"geo\",\"hovertemplate\":\"new_cases % pop (14d)=%{marker.color:.2f}<br>state=%{customdata[2]}<br>new_cases (14d)=%{customdata[0]}<extra></extra>\",\"ids\":[\"2021-12-26T00:00:00\",\"2021-12-26T00:00:00\",\"2021-12-26T00:00:00\",\"2021-12-26T00:00:00\",\"2021-12-26T00:00:00\",\"2021-12-26T00:00:00\",\"2021-12-26T00:00:00\",\"2021-12-26T00:00:00\",\"2021-12-26T00:00:00\",\"2021-12-26T00:00:00\",\"2021-12-26T00:00:00\",\"2021-12-26T00:00:00\",\"2021-12-26T00:00:00\",\"2021-12-26T00:00:00\",\"2021-12-26T00:00:00\",\"2021-12-26T00:00:00\",\"2021-12-26T00:00:00\",\"2021-12-26T00:00:00\",\"2021-12-26T00:00:00\",\"2021-12-26T00:00:00\",\"2021-12-26T00:00:00\",\"2021-12-26T00:00:00\",\"2021-12-26T00:00:00\",\"2021-12-26T00:00:00\",\"2021-12-26T00:00:00\",\"2021-12-26T00:00:00\",\"2021-12-26T00:00:00\",\"2021-12-26T00:00:00\",\"2021-12-26T00:00:00\",\"2021-12-26T00:00:00\",\"2021-12-26T00:00:00\",\"2021-12-26T00:00:00\",\"2021-12-26T00:00:00\",\"2021-12-26T00:00:00\",\"2021-12-26T00:00:00\",\"2021-12-26T00:00:00\",\"2021-12-26T00:00:00\",\"2021-12-26T00:00:00\",\"2021-12-26T00:00:00\",\"2021-12-26T00:00:00\",\"2021-12-26T00:00:00\",\"2021-12-26T00:00:00\",\"2021-12-26T00:00:00\",\"2021-12-26T00:00:00\",\"2021-12-26T00:00:00\",\"2021-12-26T00:00:00\",\"2021-12-26T00:00:00\",\"2021-12-26T00:00:00\",\"2021-12-26T00:00:00\",\"2021-12-26T00:00:00\",\"2021-12-26T00:00:00\",\"2021-12-26T00:00:00\"],\"legendgroup\":\"\",\"locationmode\":\"USA-states\",\"locations\":[\"AK\",\"AL\",\"AR\",\"AZ\",\"CA\",\"CO\",\"CT\",\"DC\",\"DE\",\"FL\",\"GA\",\"HI\",\"IA\",\"ID\",\"IL\",\"IN\",\"KS\",\"KY\",\"LA\",\"MA\",\"MD\",\"ME\",\"MI\",\"MN\",\"MO\",\"MS\",\"MT\",\"NC\",\"ND\",\"NE\",\"NH\",\"NJ\",\"NM\",\"NV\",\"NY\",\"OH\",\"OK\",\"OR\",\"PA\",\"PR\",\"RI\",\"SC\",\"SD\",\"TN\",\"TX\",\"UT\",\"VA\",\"VT\",\"WA\",\"WI\",\"WV\",\"WY\"],\"marker\":{\"color\":[0.24963775391144,0.38211740579338005,0.39965059329124997,0.55122484876173,0.33333081319109,0.7782581796604799,0.9827488885544701,1.5682498343398001,1.25536955940362,1.1110613542404,0.5272472768966999,0.75923251205616,0.69150962507501,0.23484208994322997,1.23477845378196,0.7505134867245,0.66696396546203,0.7250533372053101,0.30953858212547997,1.25435129105635,1.07008849533997,0.8304804521479701,0.7827187736603001,0.7090116831896,0.5747832482378901,0.21401157612639998,0.1856947467708,0.60790797667697,0.56586544243092,0.54273254948497,1.1520453608125,1.58215861390146,0.61511507540906,0.37670124499475,1.80431864001399,1.25765771856591,0.4401111656373,0.25127106547213,0.91268206383442,1.27722395445821,1.39666733192651,0.43734014020856,0.50870740767115,0.60739063480906,0.44944498496436,0.42049206160586,0.65370207427721,0.8276297305998701,0.50395003745894,1.0248818971609,0.63847290355774,0.23751170347524],\"coloraxis\":\"coloraxis\",\"size\":[0.24963775391144,0.38211740579338005,0.39965059329124997,0.55122484876173,0.33333081319109,0.7782581796604799,0.9827488885544701,1.5682498343398001,1.25536955940362,1.1110613542404,0.5272472768966999,0.75923251205616,0.69150962507501,0.23484208994322997,1.23477845378196,0.7505134867245,0.66696396546203,0.7250533372053101,0.30953858212547997,1.25435129105635,1.07008849533997,0.8304804521479701,0.7827187736603001,0.7090116831896,0.5747832482378901,0.21401157612639998,0.1856947467708,0.60790797667697,0.56586544243092,0.54273254948497,1.1520453608125,1.58215861390146,0.61511507540906,0.37670124499475,1.80431864001399,1.25765771856591,0.4401111656373,0.25127106547213,0.91268206383442,1.27722395445821,1.39666733192651,0.43734014020856,0.50870740767115,0.60739063480906,0.44944498496436,0.42049206160586,0.65370207427721,0.8276297305998701,0.50395003745894,1.0248818971609,0.63847290355774,0.23751170347524],\"sizemode\":\"area\",\"sizeref\":0.004510796600034975,\"symbol\":\"circle\"},\"mode\":\"markers\",\"name\":\"\",\"showlegend\":false,\"type\":\"scattergeo\"}],                        {\"template\":{\"data\":{\"histogram2dcontour\":[{\"type\":\"histogram2dcontour\",\"colorbar\":{\"outlinewidth\":0,\"ticks\":\"\"},\"colorscale\":[[0.0,\"#0d0887\"],[0.1111111111111111,\"#46039f\"],[0.2222222222222222,\"#7201a8\"],[0.3333333333333333,\"#9c179e\"],[0.4444444444444444,\"#bd3786\"],[0.5555555555555556,\"#d8576b\"],[0.6666666666666666,\"#ed7953\"],[0.7777777777777778,\"#fb9f3a\"],[0.8888888888888888,\"#fdca26\"],[1.0,\"#f0f921\"]]}],\"choropleth\":[{\"type\":\"choropleth\",\"colorbar\":{\"outlinewidth\":0,\"ticks\":\"\"}}],\"histogram2d\":[{\"type\":\"histogram2d\",\"colorbar\":{\"outlinewidth\":0,\"ticks\":\"\"},\"colorscale\":[[0.0,\"#0d0887\"],[0.1111111111111111,\"#46039f\"],[0.2222222222222222,\"#7201a8\"],[0.3333333333333333,\"#9c179e\"],[0.4444444444444444,\"#bd3786\"],[0.5555555555555556,\"#d8576b\"],[0.6666666666666666,\"#ed7953\"],[0.7777777777777778,\"#fb9f3a\"],[0.8888888888888888,\"#fdca26\"],[1.0,\"#f0f921\"]]}],\"heatmap\":[{\"type\":\"heatmap\",\"colorbar\":{\"outlinewidth\":0,\"ticks\":\"\"},\"colorscale\":[[0.0,\"#0d0887\"],[0.1111111111111111,\"#46039f\"],[0.2222222222222222,\"#7201a8\"],[0.3333333333333333,\"#9c179e\"],[0.4444444444444444,\"#bd3786\"],[0.5555555555555556,\"#d8576b\"],[0.6666666666666666,\"#ed7953\"],[0.7777777777777778,\"#fb9f3a\"],[0.8888888888888888,\"#fdca26\"],[1.0,\"#f0f921\"]]}],\"heatmapgl\":[{\"type\":\"heatmapgl\",\"colorbar\":{\"outlinewidth\":0,\"ticks\":\"\"},\"colorscale\":[[0.0,\"#0d0887\"],[0.1111111111111111,\"#46039f\"],[0.2222222222222222,\"#7201a8\"],[0.3333333333333333,\"#9c179e\"],[0.4444444444444444,\"#bd3786\"],[0.5555555555555556,\"#d8576b\"],[0.6666666666666666,\"#ed7953\"],[0.7777777777777778,\"#fb9f3a\"],[0.8888888888888888,\"#fdca26\"],[1.0,\"#f0f921\"]]}],\"contourcarpet\":[{\"type\":\"contourcarpet\",\"colorbar\":{\"outlinewidth\":0,\"ticks\":\"\"}}],\"contour\":[{\"type\":\"contour\",\"colorbar\":{\"outlinewidth\":0,\"ticks\":\"\"},\"colorscale\":[[0.0,\"#0d0887\"],[0.1111111111111111,\"#46039f\"],[0.2222222222222222,\"#7201a8\"],[0.3333333333333333,\"#9c179e\"],[0.4444444444444444,\"#bd3786\"],[0.5555555555555556,\"#d8576b\"],[0.6666666666666666,\"#ed7953\"],[0.7777777777777778,\"#fb9f3a\"],[0.8888888888888888,\"#fdca26\"],[1.0,\"#f0f921\"]]}],\"surface\":[{\"type\":\"surface\",\"colorbar\":{\"outlinewidth\":0,\"ticks\":\"\"},\"colorscale\":[[0.0,\"#0d0887\"],[0.1111111111111111,\"#46039f\"],[0.2222222222222222,\"#7201a8\"],[0.3333333333333333,\"#9c179e\"],[0.4444444444444444,\"#bd3786\"],[0.5555555555555556,\"#d8576b\"],[0.6666666666666666,\"#ed7953\"],[0.7777777777777778,\"#fb9f3a\"],[0.8888888888888888,\"#fdca26\"],[1.0,\"#f0f921\"]]}],\"mesh3d\":[{\"type\":\"mesh3d\",\"colorbar\":{\"outlinewidth\":0,\"ticks\":\"\"}}],\"scatter\":[{\"fillpattern\":{\"fillmode\":\"overlay\",\"size\":10,\"solidity\":0.2},\"type\":\"scatter\"}],\"parcoords\":[{\"type\":\"parcoords\",\"line\":{\"colorbar\":{\"outlinewidth\":0,\"ticks\":\"\"}}}],\"scatterpolargl\":[{\"type\":\"scatterpolargl\",\"marker\":{\"colorbar\":{\"outlinewidth\":0,\"ticks\":\"\"}}}],\"bar\":[{\"error_x\":{\"color\":\"#2a3f5f\"},\"error_y\":{\"color\":\"#2a3f5f\"},\"marker\":{\"line\":{\"color\":\"#E5ECF6\",\"width\":0.5},\"pattern\":{\"fillmode\":\"overlay\",\"size\":10,\"solidity\":0.2}},\"type\":\"bar\"}],\"scattergeo\":[{\"type\":\"scattergeo\",\"marker\":{\"colorbar\":{\"outlinewidth\":0,\"ticks\":\"\"}}}],\"scatterpolar\":[{\"type\":\"scatterpolar\",\"marker\":{\"colorbar\":{\"outlinewidth\":0,\"ticks\":\"\"}}}],\"histogram\":[{\"marker\":{\"pattern\":{\"fillmode\":\"overlay\",\"size\":10,\"solidity\":0.2}},\"type\":\"histogram\"}],\"scattergl\":[{\"type\":\"scattergl\",\"marker\":{\"colorbar\":{\"outlinewidth\":0,\"ticks\":\"\"}}}],\"scatter3d\":[{\"type\":\"scatter3d\",\"line\":{\"colorbar\":{\"outlinewidth\":0,\"ticks\":\"\"}},\"marker\":{\"colorbar\":{\"outlinewidth\":0,\"ticks\":\"\"}}}],\"scattermapbox\":[{\"type\":\"scattermapbox\",\"marker\":{\"colorbar\":{\"outlinewidth\":0,\"ticks\":\"\"}}}],\"scatterternary\":[{\"type\":\"scatterternary\",\"marker\":{\"colorbar\":{\"outlinewidth\":0,\"ticks\":\"\"}}}],\"scattercarpet\":[{\"type\":\"scattercarpet\",\"marker\":{\"colorbar\":{\"outlinewidth\":0,\"ticks\":\"\"}}}],\"carpet\":[{\"aaxis\":{\"endlinecolor\":\"#2a3f5f\",\"gridcolor\":\"white\",\"linecolor\":\"white\",\"minorgridcolor\":\"white\",\"startlinecolor\":\"#2a3f5f\"},\"baxis\":{\"endlinecolor\":\"#2a3f5f\",\"gridcolor\":\"white\",\"linecolor\":\"white\",\"minorgridcolor\":\"white\",\"startlinecolor\":\"#2a3f5f\"},\"type\":\"carpet\"}],\"table\":[{\"cells\":{\"fill\":{\"color\":\"#EBF0F8\"},\"line\":{\"color\":\"white\"}},\"header\":{\"fill\":{\"color\":\"#C8D4E3\"},\"line\":{\"color\":\"white\"}},\"type\":\"table\"}],\"barpolar\":[{\"marker\":{\"line\":{\"color\":\"#E5ECF6\",\"width\":0.5},\"pattern\":{\"fillmode\":\"overlay\",\"size\":10,\"solidity\":0.2}},\"type\":\"barpolar\"}],\"pie\":[{\"automargin\":true,\"type\":\"pie\"}]},\"layout\":{\"autotypenumbers\":\"strict\",\"colorway\":[\"#636efa\",\"#EF553B\",\"#00cc96\",\"#ab63fa\",\"#FFA15A\",\"#19d3f3\",\"#FF6692\",\"#B6E880\",\"#FF97FF\",\"#FECB52\"],\"font\":{\"color\":\"#2a3f5f\"},\"hovermode\":\"closest\",\"hoverlabel\":{\"align\":\"left\"},\"paper_bgcolor\":\"white\",\"plot_bgcolor\":\"#E5ECF6\",\"polar\":{\"bgcolor\":\"#E5ECF6\",\"angularaxis\":{\"gridcolor\":\"white\",\"linecolor\":\"white\",\"ticks\":\"\"},\"radialaxis\":{\"gridcolor\":\"white\",\"linecolor\":\"white\",\"ticks\":\"\"}},\"ternary\":{\"bgcolor\":\"#E5ECF6\",\"aaxis\":{\"gridcolor\":\"white\",\"linecolor\":\"white\",\"ticks\":\"\"},\"baxis\":{\"gridcolor\":\"white\",\"linecolor\":\"white\",\"ticks\":\"\"},\"caxis\":{\"gridcolor\":\"white\",\"linecolor\":\"white\",\"ticks\":\"\"}},\"coloraxis\":{\"colorbar\":{\"outlinewidth\":0,\"ticks\":\"\"}},\"colorscale\":{\"sequential\":[[0.0,\"#0d0887\"],[0.1111111111111111,\"#46039f\"],[0.2222222222222222,\"#7201a8\"],[0.3333333333333333,\"#9c179e\"],[0.4444444444444444,\"#bd3786\"],[0.5555555555555556,\"#d8576b\"],[0.6666666666666666,\"#ed7953\"],[0.7777777777777778,\"#fb9f3a\"],[0.8888888888888888,\"#fdca26\"],[1.0,\"#f0f921\"]],\"sequentialminus\":[[0.0,\"#0d0887\"],[0.1111111111111111,\"#46039f\"],[0.2222222222222222,\"#7201a8\"],[0.3333333333333333,\"#9c179e\"],[0.4444444444444444,\"#bd3786\"],[0.5555555555555556,\"#d8576b\"],[0.6666666666666666,\"#ed7953\"],[0.7777777777777778,\"#fb9f3a\"],[0.8888888888888888,\"#fdca26\"],[1.0,\"#f0f921\"]],\"diverging\":[[0,\"#8e0152\"],[0.1,\"#c51b7d\"],[0.2,\"#de77ae\"],[0.3,\"#f1b6da\"],[0.4,\"#fde0ef\"],[0.5,\"#f7f7f7\"],[0.6,\"#e6f5d0\"],[0.7,\"#b8e186\"],[0.8,\"#7fbc41\"],[0.9,\"#4d9221\"],[1,\"#276419\"]]},\"xaxis\":{\"gridcolor\":\"white\",\"linecolor\":\"white\",\"ticks\":\"\",\"title\":{\"standoff\":15},\"zerolinecolor\":\"white\",\"automargin\":true,\"zerolinewidth\":2},\"yaxis\":{\"gridcolor\":\"white\",\"linecolor\":\"white\",\"ticks\":\"\",\"title\":{\"standoff\":15},\"zerolinecolor\":\"white\",\"automargin\":true,\"zerolinewidth\":2},\"scene\":{\"xaxis\":{\"backgroundcolor\":\"#E5ECF6\",\"gridcolor\":\"white\",\"linecolor\":\"white\",\"showbackground\":true,\"ticks\":\"\",\"zerolinecolor\":\"white\",\"gridwidth\":2},\"yaxis\":{\"backgroundcolor\":\"#E5ECF6\",\"gridcolor\":\"white\",\"linecolor\":\"white\",\"showbackground\":true,\"ticks\":\"\",\"zerolinecolor\":\"white\",\"gridwidth\":2},\"zaxis\":{\"backgroundcolor\":\"#E5ECF6\",\"gridcolor\":\"white\",\"linecolor\":\"white\",\"showbackground\":true,\"ticks\":\"\",\"zerolinecolor\":\"white\",\"gridwidth\":2}},\"shapedefaults\":{\"line\":{\"color\":\"#2a3f5f\"}},\"annotationdefaults\":{\"arrowcolor\":\"#2a3f5f\",\"arrowhead\":0,\"arrowwidth\":1},\"geo\":{\"bgcolor\":\"white\",\"landcolor\":\"#E5ECF6\",\"subunitcolor\":\"white\",\"showland\":true,\"showlakes\":true,\"lakecolor\":\"white\"},\"title\":{\"x\":0.05},\"mapbox\":{\"style\":\"light\"}}},\"geo\":{\"domain\":{\"x\":[0.0,1.0],\"y\":[0.0,1.0]},\"center\":{},\"scope\":\"usa\",\"visible\":true},\"coloraxis\":{\"colorbar\":{\"title\":{\"text\":\"new_cases % pop (14d)\"}},\"colorscale\":[[0.0,\"rgb(255,255,255)\"],[0.5,\"rgb(255,210,0)\"],[1.0,\"rgb(230,0,0)\"]],\"cmin\":0,\"cmax\":6},\"legend\":{\"tracegroupgap\":0,\"itemsizing\":\"constant\"},\"margin\":{\"t\":60}},                        {\"responsive\": true}                    ).then(function(){\n",
       "                            \n",
       "var gd = document.getElementById('381f0dc7-e269-4b3c-b863-33af629867ee');\n",
       "var x = new MutationObserver(function (mutations, observer) {{\n",
       "        var display = window.getComputedStyle(gd).display;\n",
       "        if (!display || display === 'none') {{\n",
       "            console.log([gd, 'removed!']);\n",
       "            Plotly.purge(gd);\n",
       "            observer.disconnect();\n",
       "        }}\n",
       "}});\n",
       "\n",
       "// Listen for the removal of the full notebook cells\n",
       "var notebookContainer = gd.closest('#notebook-container');\n",
       "if (notebookContainer) {{\n",
       "    x.observe(notebookContainer, {childList: true});\n",
       "}}\n",
       "\n",
       "// Listen for the clearing of the current output cell\n",
       "var outputEl = gd.closest('.output');\n",
       "if (outputEl) {{\n",
       "    x.observe(outputEl, {childList: true});\n",
       "}}\n",
       "\n",
       "                        })                };                });            </script>        </div>"
      ]
     },
     "metadata": {},
     "output_type": "display_data"
    }
   ],
   "source": [
    "px.scatter_geo(\n",
    "    last_df, \n",
    "    locations='state', \n",
    "    locationmode='USA-states',\n",
    "    size='new_cases % pop (14d)',\n",
    "    color='new_cases % pop (14d)',\n",
    "    scope='usa',\n",
    "    #text='state',\n",
    "    animation_group='submit_date',\n",
    "    color_continuous_scale=px.colors.sequential.Hot[1:][::-1],\n",
    "    range_color=[0,6],\n",
    "    basemap_visible=True,\n",
    "    hover_data={'new_cases (14d)':False,'new_cases (14d)':True,'new_cases % pop (14d)':':.2f','state':True,}\n",
    ")"
   ]
  },
  {
   "cell_type": "code",
   "execution_count": 115,
   "id": "2bdf1921",
   "metadata": {},
   "outputs": [
    {
     "data": {
      "text/plain": [
       "array(['2022-10-18T00:00:00.000000000', '2022-10-17T00:00:00.000000000',\n",
       "       '2022-10-16T00:00:00.000000000', ...,\n",
       "       '2020-01-24T00:00:00.000000000', '2020-01-23T00:00:00.000000000',\n",
       "       '2020-01-22T00:00:00.000000000'], dtype='datetime64[ns]')"
      ]
     },
     "execution_count": 115,
     "metadata": {},
     "output_type": "execute_result"
    }
   ],
   "source": [
    "covid_df['submit_date'].unique()"
   ]
  },
  {
   "cell_type": "code",
   "execution_count": 121,
   "id": "3f45c9c8",
   "metadata": {},
   "outputs": [],
   "source": [
    "import datetime"
   ]
  },
  {
   "cell_type": "code",
   "execution_count": 126,
   "id": "741e2e51",
   "metadata": {},
   "outputs": [
    {
     "data": {
      "text/plain": [
       "numpy.datetime64('2021-12-26T00:00:00.000000000')"
      ]
     },
     "execution_count": 126,
     "metadata": {},
     "output_type": "execute_result"
    }
   ],
   "source": [
    "np.min(last_df['submit_date'].unique())"
   ]
  },
  {
   "cell_type": "code",
   "execution_count": 116,
   "id": "3c4b1ac6",
   "metadata": {},
   "outputs": [
    {
     "name": "stdout",
     "output_type": "stream",
     "text": [
      "2022-10-18T00:00:00.000000000\n",
      "2022-10-17T00:00:00.000000000\n",
      "2022-10-16T00:00:00.000000000\n",
      "2022-10-15T00:00:00.000000000\n",
      "2022-10-14T00:00:00.000000000\n",
      "2022-10-13T00:00:00.000000000\n",
      "2022-10-12T00:00:00.000000000\n",
      "2022-10-11T00:00:00.000000000\n",
      "2022-10-10T00:00:00.000000000\n",
      "2022-10-09T00:00:00.000000000\n",
      "2022-10-08T00:00:00.000000000\n",
      "2022-10-07T00:00:00.000000000\n",
      "2022-10-06T00:00:00.000000000\n",
      "2022-10-05T00:00:00.000000000\n",
      "2022-10-04T00:00:00.000000000\n",
      "2022-10-03T00:00:00.000000000\n",
      "2022-10-02T00:00:00.000000000\n",
      "2022-10-01T00:00:00.000000000\n",
      "2022-09-30T00:00:00.000000000\n",
      "2022-09-29T00:00:00.000000000\n",
      "2022-09-28T00:00:00.000000000\n",
      "2022-09-27T00:00:00.000000000\n",
      "2022-09-26T00:00:00.000000000\n",
      "2022-09-25T00:00:00.000000000\n",
      "2022-09-24T00:00:00.000000000\n",
      "2022-09-23T00:00:00.000000000\n",
      "2022-09-22T00:00:00.000000000\n",
      "2022-09-21T00:00:00.000000000\n",
      "2022-09-20T00:00:00.000000000\n",
      "2022-09-19T00:00:00.000000000\n",
      "2022-09-18T00:00:00.000000000\n",
      "2022-09-17T00:00:00.000000000\n",
      "2022-09-16T00:00:00.000000000\n",
      "2022-09-15T00:00:00.000000000\n",
      "2022-09-14T00:00:00.000000000\n",
      "2022-09-13T00:00:00.000000000\n",
      "2022-09-12T00:00:00.000000000\n",
      "2022-09-11T00:00:00.000000000\n",
      "2022-09-10T00:00:00.000000000\n",
      "2022-09-09T00:00:00.000000000\n",
      "2022-09-08T00:00:00.000000000\n",
      "2022-09-07T00:00:00.000000000\n",
      "2022-09-06T00:00:00.000000000\n",
      "2022-09-05T00:00:00.000000000\n",
      "2022-09-04T00:00:00.000000000\n",
      "2022-09-03T00:00:00.000000000\n",
      "2022-09-02T00:00:00.000000000\n",
      "2022-09-01T00:00:00.000000000\n",
      "2022-08-31T00:00:00.000000000\n",
      "2022-08-30T00:00:00.000000000\n",
      "2022-08-29T00:00:00.000000000\n",
      "2022-08-28T00:00:00.000000000\n",
      "2022-08-27T00:00:00.000000000\n",
      "2022-08-26T00:00:00.000000000\n",
      "2022-08-25T00:00:00.000000000\n",
      "2022-08-24T00:00:00.000000000\n",
      "2022-08-23T00:00:00.000000000\n",
      "2022-08-22T00:00:00.000000000\n",
      "2022-08-21T00:00:00.000000000\n",
      "2022-08-20T00:00:00.000000000\n",
      "2022-08-19T00:00:00.000000000\n",
      "2022-08-18T00:00:00.000000000\n",
      "2022-08-17T00:00:00.000000000\n",
      "2022-08-16T00:00:00.000000000\n",
      "2022-08-15T00:00:00.000000000\n",
      "2022-08-14T00:00:00.000000000\n",
      "2022-08-13T00:00:00.000000000\n",
      "2022-08-12T00:00:00.000000000\n",
      "2022-08-11T00:00:00.000000000\n",
      "2022-08-10T00:00:00.000000000\n",
      "2022-08-09T00:00:00.000000000\n",
      "2022-08-08T00:00:00.000000000\n",
      "2022-08-07T00:00:00.000000000\n",
      "2022-08-06T00:00:00.000000000\n",
      "2022-08-05T00:00:00.000000000\n",
      "2022-08-04T00:00:00.000000000\n",
      "2022-08-03T00:00:00.000000000\n",
      "2022-08-02T00:00:00.000000000\n",
      "2022-08-01T00:00:00.000000000\n",
      "2022-07-31T00:00:00.000000000\n",
      "2022-07-30T00:00:00.000000000\n",
      "2022-07-29T00:00:00.000000000\n",
      "2022-07-28T00:00:00.000000000\n",
      "2022-07-27T00:00:00.000000000\n",
      "2022-07-26T00:00:00.000000000\n",
      "2022-07-25T00:00:00.000000000\n",
      "2022-07-24T00:00:00.000000000\n",
      "2022-07-23T00:00:00.000000000\n",
      "2022-07-22T00:00:00.000000000\n",
      "2022-07-21T00:00:00.000000000\n",
      "2022-07-20T00:00:00.000000000\n",
      "2022-07-19T00:00:00.000000000\n",
      "2022-07-18T00:00:00.000000000\n",
      "2022-07-17T00:00:00.000000000\n",
      "2022-07-16T00:00:00.000000000\n",
      "2022-07-15T00:00:00.000000000\n",
      "2022-07-14T00:00:00.000000000\n",
      "2022-07-13T00:00:00.000000000\n",
      "2022-07-12T00:00:00.000000000\n",
      "2022-07-11T00:00:00.000000000\n",
      "2022-07-10T00:00:00.000000000\n",
      "2022-07-09T00:00:00.000000000\n",
      "2022-07-08T00:00:00.000000000\n",
      "2022-07-07T00:00:00.000000000\n",
      "2022-07-06T00:00:00.000000000\n",
      "2022-07-05T00:00:00.000000000\n",
      "2022-07-04T00:00:00.000000000\n",
      "2022-07-03T00:00:00.000000000\n",
      "2022-07-02T00:00:00.000000000\n",
      "2022-07-01T00:00:00.000000000\n",
      "2022-06-30T00:00:00.000000000\n",
      "2022-06-29T00:00:00.000000000\n",
      "2022-06-28T00:00:00.000000000\n",
      "2022-06-27T00:00:00.000000000\n",
      "2022-06-26T00:00:00.000000000\n",
      "2022-06-25T00:00:00.000000000\n",
      "2022-06-24T00:00:00.000000000\n",
      "2022-06-23T00:00:00.000000000\n",
      "2022-06-22T00:00:00.000000000\n",
      "2022-06-21T00:00:00.000000000\n",
      "2022-06-20T00:00:00.000000000\n",
      "2022-06-19T00:00:00.000000000\n",
      "2022-06-18T00:00:00.000000000\n",
      "2022-06-17T00:00:00.000000000\n",
      "2022-06-16T00:00:00.000000000\n",
      "2022-06-15T00:00:00.000000000\n",
      "2022-06-14T00:00:00.000000000\n",
      "2022-06-13T00:00:00.000000000\n",
      "2022-06-12T00:00:00.000000000\n",
      "2022-06-11T00:00:00.000000000\n",
      "2022-06-10T00:00:00.000000000\n",
      "2022-06-09T00:00:00.000000000\n",
      "2022-06-08T00:00:00.000000000\n",
      "2022-06-07T00:00:00.000000000\n",
      "2022-06-06T00:00:00.000000000\n",
      "2022-06-05T00:00:00.000000000\n",
      "2022-06-04T00:00:00.000000000\n",
      "2022-06-03T00:00:00.000000000\n",
      "2022-06-02T00:00:00.000000000\n",
      "2022-06-01T00:00:00.000000000\n",
      "2022-05-31T00:00:00.000000000\n",
      "2022-05-30T00:00:00.000000000\n",
      "2022-05-29T00:00:00.000000000\n",
      "2022-05-28T00:00:00.000000000\n",
      "2022-05-27T00:00:00.000000000\n",
      "2022-05-26T00:00:00.000000000\n",
      "2022-05-25T00:00:00.000000000\n",
      "2022-05-24T00:00:00.000000000\n",
      "2022-05-23T00:00:00.000000000\n",
      "2022-05-22T00:00:00.000000000\n",
      "2022-05-21T00:00:00.000000000\n",
      "2022-05-20T00:00:00.000000000\n",
      "2022-05-19T00:00:00.000000000\n",
      "2022-05-18T00:00:00.000000000\n",
      "2022-05-17T00:00:00.000000000\n",
      "2022-05-16T00:00:00.000000000\n",
      "2022-05-15T00:00:00.000000000\n",
      "2022-05-14T00:00:00.000000000\n",
      "2022-05-13T00:00:00.000000000\n",
      "2022-05-12T00:00:00.000000000\n",
      "2022-05-11T00:00:00.000000000\n",
      "2022-05-10T00:00:00.000000000\n",
      "2022-05-09T00:00:00.000000000\n",
      "2022-05-08T00:00:00.000000000\n",
      "2022-05-07T00:00:00.000000000\n",
      "2022-05-06T00:00:00.000000000\n",
      "2022-05-05T00:00:00.000000000\n",
      "2022-05-04T00:00:00.000000000\n",
      "2022-05-03T00:00:00.000000000\n",
      "2022-05-02T00:00:00.000000000\n",
      "2022-05-01T00:00:00.000000000\n",
      "2022-04-30T00:00:00.000000000\n",
      "2022-04-29T00:00:00.000000000\n",
      "2022-04-28T00:00:00.000000000\n",
      "2022-04-27T00:00:00.000000000\n",
      "2022-04-26T00:00:00.000000000\n",
      "2022-04-25T00:00:00.000000000\n",
      "2022-04-24T00:00:00.000000000\n",
      "2022-04-23T00:00:00.000000000\n",
      "2022-04-22T00:00:00.000000000\n",
      "2022-04-21T00:00:00.000000000\n",
      "2022-04-20T00:00:00.000000000\n",
      "2022-04-19T00:00:00.000000000\n",
      "2022-04-18T00:00:00.000000000\n",
      "2022-04-17T00:00:00.000000000\n",
      "2022-04-16T00:00:00.000000000\n",
      "2022-04-15T00:00:00.000000000\n",
      "2022-04-14T00:00:00.000000000\n",
      "2022-04-13T00:00:00.000000000\n",
      "2022-04-12T00:00:00.000000000\n",
      "2022-04-11T00:00:00.000000000\n",
      "2022-04-10T00:00:00.000000000\n",
      "2022-04-09T00:00:00.000000000\n",
      "2022-04-08T00:00:00.000000000\n",
      "2022-04-07T00:00:00.000000000\n",
      "2022-04-06T00:00:00.000000000\n",
      "2022-04-05T00:00:00.000000000\n",
      "2022-04-04T00:00:00.000000000\n",
      "2022-04-03T00:00:00.000000000\n",
      "2022-04-02T00:00:00.000000000\n",
      "2022-04-01T00:00:00.000000000\n",
      "2022-03-31T00:00:00.000000000\n",
      "2022-03-30T00:00:00.000000000\n",
      "2022-03-29T00:00:00.000000000\n",
      "2022-03-28T00:00:00.000000000\n",
      "2022-03-27T00:00:00.000000000\n",
      "2022-03-26T00:00:00.000000000\n",
      "2022-03-25T00:00:00.000000000\n",
      "2022-03-24T00:00:00.000000000\n",
      "2022-03-23T00:00:00.000000000\n",
      "2022-03-22T00:00:00.000000000\n",
      "2022-03-21T00:00:00.000000000\n",
      "2022-03-20T00:00:00.000000000\n",
      "2022-03-19T00:00:00.000000000\n",
      "2022-03-18T00:00:00.000000000\n",
      "2022-03-17T00:00:00.000000000\n",
      "2022-03-16T00:00:00.000000000\n",
      "2022-03-15T00:00:00.000000000\n",
      "2022-03-14T00:00:00.000000000\n",
      "2022-03-13T00:00:00.000000000\n",
      "2022-03-12T00:00:00.000000000\n",
      "2022-03-11T00:00:00.000000000\n",
      "2022-03-10T00:00:00.000000000\n",
      "2022-03-09T00:00:00.000000000\n",
      "2022-03-08T00:00:00.000000000\n",
      "2022-03-07T00:00:00.000000000\n",
      "2022-03-06T00:00:00.000000000\n",
      "2022-03-05T00:00:00.000000000\n",
      "2022-03-04T00:00:00.000000000\n",
      "2022-03-03T00:00:00.000000000\n",
      "2022-03-02T00:00:00.000000000\n",
      "2022-03-01T00:00:00.000000000\n",
      "2022-02-28T00:00:00.000000000\n",
      "2022-02-27T00:00:00.000000000\n",
      "2022-02-26T00:00:00.000000000\n",
      "2022-02-25T00:00:00.000000000\n",
      "2022-02-24T00:00:00.000000000\n",
      "2022-02-23T00:00:00.000000000\n",
      "2022-02-22T00:00:00.000000000\n",
      "2022-02-21T00:00:00.000000000\n",
      "2022-02-20T00:00:00.000000000\n",
      "2022-02-19T00:00:00.000000000\n",
      "2022-02-18T00:00:00.000000000\n",
      "2022-02-17T00:00:00.000000000\n",
      "2022-02-16T00:00:00.000000000\n",
      "2022-02-15T00:00:00.000000000\n",
      "2022-02-14T00:00:00.000000000\n",
      "2022-02-13T00:00:00.000000000\n",
      "2022-02-12T00:00:00.000000000\n",
      "2022-02-11T00:00:00.000000000\n",
      "2022-02-10T00:00:00.000000000\n",
      "2022-02-09T00:00:00.000000000\n",
      "2022-02-08T00:00:00.000000000\n",
      "2022-02-07T00:00:00.000000000\n",
      "2022-02-06T00:00:00.000000000\n",
      "2022-02-05T00:00:00.000000000\n",
      "2022-02-04T00:00:00.000000000\n",
      "2022-02-03T00:00:00.000000000\n",
      "2022-02-02T00:00:00.000000000\n",
      "2022-02-01T00:00:00.000000000\n",
      "2022-01-31T00:00:00.000000000\n",
      "2022-01-30T00:00:00.000000000\n",
      "2022-01-29T00:00:00.000000000\n",
      "2022-01-28T00:00:00.000000000\n",
      "2022-01-27T00:00:00.000000000\n",
      "2022-01-26T00:00:00.000000000\n",
      "2022-01-25T00:00:00.000000000\n",
      "2022-01-24T00:00:00.000000000\n",
      "2022-01-23T00:00:00.000000000\n",
      "2022-01-22T00:00:00.000000000\n",
      "2022-01-21T00:00:00.000000000\n",
      "2022-01-20T00:00:00.000000000\n",
      "2022-01-19T00:00:00.000000000\n",
      "2022-01-18T00:00:00.000000000\n",
      "2022-01-17T00:00:00.000000000\n",
      "2022-01-16T00:00:00.000000000\n",
      "2022-01-15T00:00:00.000000000\n",
      "2022-01-14T00:00:00.000000000\n",
      "2022-01-13T00:00:00.000000000\n",
      "2022-01-12T00:00:00.000000000\n",
      "2022-01-11T00:00:00.000000000\n",
      "2022-01-10T00:00:00.000000000\n",
      "2022-01-09T00:00:00.000000000\n",
      "2022-01-08T00:00:00.000000000\n",
      "2022-01-07T00:00:00.000000000\n",
      "2022-01-06T00:00:00.000000000\n",
      "2022-01-05T00:00:00.000000000\n",
      "2022-01-04T00:00:00.000000000\n",
      "2022-01-03T00:00:00.000000000\n",
      "2022-01-02T00:00:00.000000000\n",
      "2022-01-01T00:00:00.000000000\n",
      "2021-12-31T00:00:00.000000000\n",
      "2021-12-30T00:00:00.000000000\n",
      "2021-12-29T00:00:00.000000000\n",
      "2021-12-28T00:00:00.000000000\n",
      "2021-12-27T00:00:00.000000000\n",
      "2021-12-26T00:00:00.000000000\n",
      "2021-12-25T00:00:00.000000000\n",
      "2021-12-24T00:00:00.000000000\n",
      "2021-12-23T00:00:00.000000000\n",
      "2021-12-22T00:00:00.000000000\n",
      "2021-12-21T00:00:00.000000000\n",
      "2021-12-20T00:00:00.000000000\n",
      "2021-12-19T00:00:00.000000000\n",
      "2021-12-18T00:00:00.000000000\n",
      "2021-12-17T00:00:00.000000000\n",
      "2021-12-16T00:00:00.000000000\n",
      "2021-12-15T00:00:00.000000000\n",
      "2021-12-14T00:00:00.000000000\n",
      "2021-12-13T00:00:00.000000000\n",
      "2021-12-12T00:00:00.000000000\n",
      "2021-12-11T00:00:00.000000000\n",
      "2021-12-10T00:00:00.000000000\n",
      "2021-12-09T00:00:00.000000000\n",
      "2021-12-08T00:00:00.000000000\n",
      "2021-12-07T00:00:00.000000000\n",
      "2021-12-06T00:00:00.000000000\n",
      "2021-12-05T00:00:00.000000000\n",
      "2021-12-04T00:00:00.000000000\n",
      "2021-12-03T00:00:00.000000000\n",
      "2021-12-02T00:00:00.000000000\n",
      "2021-12-01T00:00:00.000000000\n",
      "2021-11-30T00:00:00.000000000\n",
      "2021-11-29T00:00:00.000000000\n",
      "2021-11-28T00:00:00.000000000\n",
      "2021-11-27T00:00:00.000000000\n",
      "2021-11-26T00:00:00.000000000\n",
      "2021-11-25T00:00:00.000000000\n",
      "2021-11-24T00:00:00.000000000\n",
      "2021-11-23T00:00:00.000000000\n",
      "2021-11-22T00:00:00.000000000\n",
      "2021-11-21T00:00:00.000000000\n",
      "2021-11-20T00:00:00.000000000\n",
      "2021-11-19T00:00:00.000000000\n",
      "2021-11-18T00:00:00.000000000\n",
      "2021-11-17T00:00:00.000000000\n",
      "2021-11-16T00:00:00.000000000\n",
      "2021-11-15T00:00:00.000000000\n",
      "2021-11-14T00:00:00.000000000\n",
      "2021-11-13T00:00:00.000000000\n",
      "2021-11-12T00:00:00.000000000\n",
      "2021-11-11T00:00:00.000000000\n",
      "2021-11-10T00:00:00.000000000\n",
      "2021-11-09T00:00:00.000000000\n",
      "2021-11-08T00:00:00.000000000\n",
      "2021-11-07T00:00:00.000000000\n",
      "2021-11-06T00:00:00.000000000\n",
      "2021-11-05T00:00:00.000000000\n",
      "2021-11-04T00:00:00.000000000\n",
      "2021-11-03T00:00:00.000000000\n",
      "2021-11-02T00:00:00.000000000\n",
      "2021-11-01T00:00:00.000000000\n",
      "2021-10-31T00:00:00.000000000\n",
      "2021-10-30T00:00:00.000000000\n",
      "2021-10-29T00:00:00.000000000\n",
      "2021-10-28T00:00:00.000000000\n",
      "2021-10-27T00:00:00.000000000\n",
      "2021-10-26T00:00:00.000000000\n",
      "2021-10-25T00:00:00.000000000\n",
      "2021-10-24T00:00:00.000000000\n",
      "2021-10-23T00:00:00.000000000\n",
      "2021-10-22T00:00:00.000000000\n",
      "2021-10-21T00:00:00.000000000\n",
      "2021-10-20T00:00:00.000000000\n",
      "2021-10-19T00:00:00.000000000\n",
      "2021-10-18T00:00:00.000000000\n",
      "2021-10-17T00:00:00.000000000\n",
      "2021-10-16T00:00:00.000000000\n",
      "2021-10-15T00:00:00.000000000\n",
      "2021-10-14T00:00:00.000000000\n",
      "2021-10-13T00:00:00.000000000\n",
      "2021-10-12T00:00:00.000000000\n",
      "2021-10-11T00:00:00.000000000\n",
      "2021-10-10T00:00:00.000000000\n",
      "2021-10-09T00:00:00.000000000\n",
      "2021-10-08T00:00:00.000000000\n",
      "2021-10-07T00:00:00.000000000\n",
      "2021-10-06T00:00:00.000000000\n",
      "2021-10-05T00:00:00.000000000\n",
      "2021-10-04T00:00:00.000000000\n",
      "2021-10-03T00:00:00.000000000\n",
      "2021-10-02T00:00:00.000000000\n",
      "2021-10-01T00:00:00.000000000\n",
      "2021-09-30T00:00:00.000000000\n",
      "2021-09-29T00:00:00.000000000\n",
      "2021-09-28T00:00:00.000000000\n",
      "2021-09-27T00:00:00.000000000\n",
      "2021-09-26T00:00:00.000000000\n",
      "2021-09-25T00:00:00.000000000\n",
      "2021-09-24T00:00:00.000000000\n",
      "2021-09-23T00:00:00.000000000\n",
      "2021-09-22T00:00:00.000000000\n",
      "2021-09-21T00:00:00.000000000\n",
      "2021-09-20T00:00:00.000000000\n",
      "2021-09-19T00:00:00.000000000\n",
      "2021-09-18T00:00:00.000000000\n",
      "2021-09-17T00:00:00.000000000\n",
      "2021-09-16T00:00:00.000000000\n",
      "2021-09-15T00:00:00.000000000\n",
      "2021-09-14T00:00:00.000000000\n",
      "2021-09-13T00:00:00.000000000\n",
      "2021-09-12T00:00:00.000000000\n",
      "2021-09-11T00:00:00.000000000\n",
      "2021-09-10T00:00:00.000000000\n",
      "2021-09-09T00:00:00.000000000\n",
      "2021-09-08T00:00:00.000000000\n",
      "2021-09-07T00:00:00.000000000\n",
      "2021-09-06T00:00:00.000000000\n",
      "2021-09-05T00:00:00.000000000\n",
      "2021-09-04T00:00:00.000000000\n",
      "2021-09-03T00:00:00.000000000\n",
      "2021-09-02T00:00:00.000000000\n",
      "2021-09-01T00:00:00.000000000\n",
      "2021-08-31T00:00:00.000000000\n",
      "2021-08-30T00:00:00.000000000\n",
      "2021-08-29T00:00:00.000000000\n",
      "2021-08-28T00:00:00.000000000\n",
      "2021-08-27T00:00:00.000000000\n",
      "2021-08-26T00:00:00.000000000\n",
      "2021-08-25T00:00:00.000000000\n",
      "2021-08-24T00:00:00.000000000\n",
      "2021-08-23T00:00:00.000000000\n",
      "2021-08-22T00:00:00.000000000\n",
      "2021-08-21T00:00:00.000000000\n",
      "2021-08-20T00:00:00.000000000\n",
      "2021-08-19T00:00:00.000000000\n",
      "2021-08-18T00:00:00.000000000\n",
      "2021-08-17T00:00:00.000000000\n",
      "2021-08-16T00:00:00.000000000\n",
      "2021-08-15T00:00:00.000000000\n",
      "2021-08-14T00:00:00.000000000\n",
      "2021-08-13T00:00:00.000000000\n",
      "2021-08-12T00:00:00.000000000\n",
      "2021-08-11T00:00:00.000000000\n",
      "2021-08-10T00:00:00.000000000\n",
      "2021-08-09T00:00:00.000000000\n",
      "2021-08-08T00:00:00.000000000\n",
      "2021-08-07T00:00:00.000000000\n",
      "2021-08-06T00:00:00.000000000\n",
      "2021-08-05T00:00:00.000000000\n",
      "2021-08-04T00:00:00.000000000\n",
      "2021-08-03T00:00:00.000000000\n",
      "2021-08-02T00:00:00.000000000\n",
      "2021-08-01T00:00:00.000000000\n",
      "2021-07-31T00:00:00.000000000\n",
      "2021-07-30T00:00:00.000000000\n",
      "2021-07-29T00:00:00.000000000\n",
      "2021-07-28T00:00:00.000000000\n",
      "2021-07-27T00:00:00.000000000\n",
      "2021-07-26T00:00:00.000000000\n",
      "2021-07-25T00:00:00.000000000\n",
      "2021-07-24T00:00:00.000000000\n",
      "2021-07-23T00:00:00.000000000\n",
      "2021-07-22T00:00:00.000000000\n",
      "2021-07-21T00:00:00.000000000\n",
      "2021-07-20T00:00:00.000000000\n",
      "2021-07-19T00:00:00.000000000\n",
      "2021-07-18T00:00:00.000000000\n",
      "2021-07-17T00:00:00.000000000\n",
      "2021-07-16T00:00:00.000000000\n",
      "2021-07-15T00:00:00.000000000\n",
      "2021-07-14T00:00:00.000000000\n",
      "2021-07-13T00:00:00.000000000\n",
      "2021-07-12T00:00:00.000000000\n",
      "2021-07-11T00:00:00.000000000\n",
      "2021-07-10T00:00:00.000000000\n",
      "2021-07-09T00:00:00.000000000\n",
      "2021-07-08T00:00:00.000000000\n",
      "2021-07-07T00:00:00.000000000\n",
      "2021-07-06T00:00:00.000000000\n",
      "2021-07-05T00:00:00.000000000\n",
      "2021-07-04T00:00:00.000000000\n",
      "2021-07-03T00:00:00.000000000\n",
      "2021-07-02T00:00:00.000000000\n",
      "2021-07-01T00:00:00.000000000\n",
      "2021-06-30T00:00:00.000000000\n",
      "2021-06-29T00:00:00.000000000\n",
      "2021-06-28T00:00:00.000000000\n",
      "2021-06-27T00:00:00.000000000\n",
      "2021-06-26T00:00:00.000000000\n",
      "2021-06-25T00:00:00.000000000\n",
      "2021-06-24T00:00:00.000000000\n",
      "2021-06-23T00:00:00.000000000\n",
      "2021-06-22T00:00:00.000000000\n",
      "2021-06-21T00:00:00.000000000\n",
      "2021-06-20T00:00:00.000000000\n",
      "2021-06-19T00:00:00.000000000\n",
      "2021-06-18T00:00:00.000000000\n",
      "2021-06-17T00:00:00.000000000\n",
      "2021-06-16T00:00:00.000000000\n",
      "2021-06-15T00:00:00.000000000\n",
      "2021-06-14T00:00:00.000000000\n",
      "2021-06-13T00:00:00.000000000\n",
      "2021-06-12T00:00:00.000000000\n",
      "2021-06-11T00:00:00.000000000\n",
      "2021-06-10T00:00:00.000000000\n",
      "2021-06-09T00:00:00.000000000\n",
      "2021-06-08T00:00:00.000000000\n",
      "2021-06-07T00:00:00.000000000\n",
      "2021-06-06T00:00:00.000000000\n",
      "2021-06-05T00:00:00.000000000\n",
      "2021-06-04T00:00:00.000000000\n",
      "2021-06-03T00:00:00.000000000\n",
      "2021-06-02T00:00:00.000000000\n",
      "2021-06-01T00:00:00.000000000\n",
      "2021-05-31T00:00:00.000000000\n",
      "2021-05-30T00:00:00.000000000\n",
      "2021-05-29T00:00:00.000000000\n",
      "2021-05-28T00:00:00.000000000\n",
      "2021-05-27T00:00:00.000000000\n",
      "2021-05-26T00:00:00.000000000\n",
      "2021-05-25T00:00:00.000000000\n",
      "2021-05-24T00:00:00.000000000\n",
      "2021-05-23T00:00:00.000000000\n",
      "2021-05-22T00:00:00.000000000\n",
      "2021-05-21T00:00:00.000000000\n",
      "2021-05-20T00:00:00.000000000\n",
      "2021-05-19T00:00:00.000000000\n",
      "2021-05-18T00:00:00.000000000\n",
      "2021-05-17T00:00:00.000000000\n",
      "2021-05-16T00:00:00.000000000\n",
      "2021-05-15T00:00:00.000000000\n",
      "2021-05-14T00:00:00.000000000\n",
      "2021-05-13T00:00:00.000000000\n",
      "2021-05-12T00:00:00.000000000\n",
      "2021-05-11T00:00:00.000000000\n",
      "2021-05-10T00:00:00.000000000\n",
      "2021-05-09T00:00:00.000000000\n",
      "2021-05-08T00:00:00.000000000\n",
      "2021-05-07T00:00:00.000000000\n",
      "2021-05-06T00:00:00.000000000\n",
      "2021-05-05T00:00:00.000000000\n",
      "2021-05-04T00:00:00.000000000\n",
      "2021-05-03T00:00:00.000000000\n",
      "2021-05-02T00:00:00.000000000\n",
      "2021-05-01T00:00:00.000000000\n",
      "2021-04-30T00:00:00.000000000\n",
      "2021-04-29T00:00:00.000000000\n",
      "2021-04-28T00:00:00.000000000\n",
      "2021-04-27T00:00:00.000000000\n",
      "2021-04-26T00:00:00.000000000\n",
      "2021-04-25T00:00:00.000000000\n",
      "2021-04-24T00:00:00.000000000\n",
      "2021-04-23T00:00:00.000000000\n",
      "2021-04-22T00:00:00.000000000\n",
      "2021-04-21T00:00:00.000000000\n",
      "2021-04-20T00:00:00.000000000\n",
      "2021-04-19T00:00:00.000000000\n",
      "2021-04-18T00:00:00.000000000\n",
      "2021-04-17T00:00:00.000000000\n",
      "2021-04-16T00:00:00.000000000\n",
      "2021-04-15T00:00:00.000000000\n",
      "2021-04-14T00:00:00.000000000\n",
      "2021-04-13T00:00:00.000000000\n",
      "2021-04-12T00:00:00.000000000\n",
      "2021-04-11T00:00:00.000000000\n",
      "2021-04-10T00:00:00.000000000\n",
      "2021-04-09T00:00:00.000000000\n",
      "2021-04-08T00:00:00.000000000\n",
      "2021-04-07T00:00:00.000000000\n",
      "2021-04-06T00:00:00.000000000\n",
      "2021-04-05T00:00:00.000000000\n",
      "2021-04-04T00:00:00.000000000\n",
      "2021-04-03T00:00:00.000000000\n",
      "2021-04-02T00:00:00.000000000\n",
      "2021-04-01T00:00:00.000000000\n",
      "2021-03-31T00:00:00.000000000\n",
      "2021-03-30T00:00:00.000000000\n",
      "2021-03-29T00:00:00.000000000\n",
      "2021-03-28T00:00:00.000000000\n",
      "2021-03-27T00:00:00.000000000\n",
      "2021-03-26T00:00:00.000000000\n",
      "2021-03-25T00:00:00.000000000\n",
      "2021-03-24T00:00:00.000000000\n",
      "2021-03-23T00:00:00.000000000\n",
      "2021-03-22T00:00:00.000000000\n",
      "2021-03-21T00:00:00.000000000\n",
      "2021-03-20T00:00:00.000000000\n",
      "2021-03-19T00:00:00.000000000\n",
      "2021-03-18T00:00:00.000000000\n",
      "2021-03-17T00:00:00.000000000\n",
      "2021-03-16T00:00:00.000000000\n",
      "2021-03-15T00:00:00.000000000\n",
      "2021-03-14T00:00:00.000000000\n",
      "2021-03-13T00:00:00.000000000\n",
      "2021-03-12T00:00:00.000000000\n",
      "2021-03-11T00:00:00.000000000\n",
      "2021-03-10T00:00:00.000000000\n",
      "2021-03-09T00:00:00.000000000\n",
      "2021-03-08T00:00:00.000000000\n",
      "2021-03-07T00:00:00.000000000\n",
      "2021-03-06T00:00:00.000000000\n",
      "2021-03-05T00:00:00.000000000\n",
      "2021-03-04T00:00:00.000000000\n",
      "2021-03-03T00:00:00.000000000\n",
      "2021-03-02T00:00:00.000000000\n",
      "2021-03-01T00:00:00.000000000\n",
      "2021-02-28T00:00:00.000000000\n",
      "2021-02-27T00:00:00.000000000\n",
      "2021-02-26T00:00:00.000000000\n",
      "2021-02-25T00:00:00.000000000\n",
      "2021-02-24T00:00:00.000000000\n",
      "2021-02-23T00:00:00.000000000\n",
      "2021-02-22T00:00:00.000000000\n",
      "2021-02-21T00:00:00.000000000\n",
      "2021-02-20T00:00:00.000000000\n",
      "2021-02-19T00:00:00.000000000\n",
      "2021-02-18T00:00:00.000000000\n",
      "2021-02-17T00:00:00.000000000\n",
      "2021-02-16T00:00:00.000000000\n",
      "2021-02-15T00:00:00.000000000\n",
      "2021-02-14T00:00:00.000000000\n",
      "2021-02-13T00:00:00.000000000\n",
      "2021-02-12T00:00:00.000000000\n",
      "2021-02-11T00:00:00.000000000\n",
      "2021-02-10T00:00:00.000000000\n",
      "2021-02-09T00:00:00.000000000\n",
      "2021-02-08T00:00:00.000000000\n",
      "2021-02-07T00:00:00.000000000\n",
      "2021-02-06T00:00:00.000000000\n",
      "2021-02-05T00:00:00.000000000\n",
      "2021-02-04T00:00:00.000000000\n",
      "2021-02-03T00:00:00.000000000\n",
      "2021-02-02T00:00:00.000000000\n",
      "2021-02-01T00:00:00.000000000\n",
      "2021-01-31T00:00:00.000000000\n",
      "2021-01-30T00:00:00.000000000\n",
      "2021-01-29T00:00:00.000000000\n",
      "2021-01-28T00:00:00.000000000\n",
      "2021-01-27T00:00:00.000000000\n",
      "2021-01-26T00:00:00.000000000\n",
      "2021-01-25T00:00:00.000000000\n",
      "2021-01-24T00:00:00.000000000\n",
      "2021-01-23T00:00:00.000000000\n",
      "2021-01-22T00:00:00.000000000\n",
      "2021-01-21T00:00:00.000000000\n",
      "2021-01-20T00:00:00.000000000\n",
      "2021-01-19T00:00:00.000000000\n",
      "2021-01-18T00:00:00.000000000\n",
      "2021-01-17T00:00:00.000000000\n",
      "2021-01-16T00:00:00.000000000\n",
      "2021-01-15T00:00:00.000000000\n",
      "2021-01-14T00:00:00.000000000\n",
      "2021-01-13T00:00:00.000000000\n",
      "2021-01-12T00:00:00.000000000\n",
      "2021-01-11T00:00:00.000000000\n",
      "2021-01-10T00:00:00.000000000\n",
      "2021-01-09T00:00:00.000000000\n",
      "2021-01-08T00:00:00.000000000\n",
      "2021-01-07T00:00:00.000000000\n",
      "2021-01-06T00:00:00.000000000\n",
      "2021-01-05T00:00:00.000000000\n",
      "2021-01-04T00:00:00.000000000\n",
      "2021-01-03T00:00:00.000000000\n",
      "2021-01-02T00:00:00.000000000\n",
      "2021-01-01T00:00:00.000000000\n",
      "2020-12-31T00:00:00.000000000\n",
      "2020-12-30T00:00:00.000000000\n",
      "2020-12-29T00:00:00.000000000\n",
      "2020-12-28T00:00:00.000000000\n",
      "2020-12-27T00:00:00.000000000\n",
      "2020-12-26T00:00:00.000000000\n",
      "2020-12-25T00:00:00.000000000\n",
      "2020-12-24T00:00:00.000000000\n",
      "2020-12-23T00:00:00.000000000\n",
      "2020-12-22T00:00:00.000000000\n",
      "2020-12-21T00:00:00.000000000\n",
      "2020-12-20T00:00:00.000000000\n",
      "2020-12-19T00:00:00.000000000\n",
      "2020-12-18T00:00:00.000000000\n",
      "2020-12-17T00:00:00.000000000\n",
      "2020-12-16T00:00:00.000000000\n",
      "2020-12-15T00:00:00.000000000\n",
      "2020-12-14T00:00:00.000000000\n",
      "2020-12-13T00:00:00.000000000\n",
      "2020-12-12T00:00:00.000000000\n",
      "2020-12-11T00:00:00.000000000\n",
      "2020-12-10T00:00:00.000000000\n",
      "2020-12-09T00:00:00.000000000\n",
      "2020-12-08T00:00:00.000000000\n",
      "2020-12-07T00:00:00.000000000\n",
      "2020-12-06T00:00:00.000000000\n",
      "2020-12-05T00:00:00.000000000\n",
      "2020-12-04T00:00:00.000000000\n",
      "2020-12-03T00:00:00.000000000\n",
      "2020-12-02T00:00:00.000000000\n",
      "2020-12-01T00:00:00.000000000\n",
      "2020-11-30T00:00:00.000000000\n",
      "2020-11-29T00:00:00.000000000\n",
      "2020-11-28T00:00:00.000000000\n",
      "2020-11-27T00:00:00.000000000\n",
      "2020-11-26T00:00:00.000000000\n",
      "2020-11-25T00:00:00.000000000\n",
      "2020-11-24T00:00:00.000000000\n",
      "2020-11-23T00:00:00.000000000\n",
      "2020-11-22T00:00:00.000000000\n",
      "2020-11-21T00:00:00.000000000\n",
      "2020-11-20T00:00:00.000000000\n",
      "2020-11-19T00:00:00.000000000\n",
      "2020-11-18T00:00:00.000000000\n",
      "2020-11-17T00:00:00.000000000\n",
      "2020-11-16T00:00:00.000000000\n",
      "2020-11-15T00:00:00.000000000\n",
      "2020-11-14T00:00:00.000000000\n",
      "2020-11-13T00:00:00.000000000\n",
      "2020-11-12T00:00:00.000000000\n",
      "2020-11-11T00:00:00.000000000\n",
      "2020-11-10T00:00:00.000000000\n",
      "2020-11-09T00:00:00.000000000\n",
      "2020-11-08T00:00:00.000000000\n",
      "2020-11-07T00:00:00.000000000\n",
      "2020-11-06T00:00:00.000000000\n",
      "2020-11-05T00:00:00.000000000\n",
      "2020-11-04T00:00:00.000000000\n",
      "2020-11-03T00:00:00.000000000\n",
      "2020-11-02T00:00:00.000000000\n",
      "2020-11-01T00:00:00.000000000\n",
      "2020-10-31T00:00:00.000000000\n",
      "2020-10-30T00:00:00.000000000\n",
      "2020-10-29T00:00:00.000000000\n",
      "2020-10-28T00:00:00.000000000\n",
      "2020-10-27T00:00:00.000000000\n",
      "2020-10-26T00:00:00.000000000\n",
      "2020-10-25T00:00:00.000000000\n",
      "2020-10-24T00:00:00.000000000\n",
      "2020-10-23T00:00:00.000000000\n",
      "2020-10-22T00:00:00.000000000\n",
      "2020-10-21T00:00:00.000000000\n",
      "2020-10-20T00:00:00.000000000\n",
      "2020-10-19T00:00:00.000000000\n",
      "2020-10-18T00:00:00.000000000\n",
      "2020-10-17T00:00:00.000000000\n",
      "2020-10-16T00:00:00.000000000\n",
      "2020-10-15T00:00:00.000000000\n",
      "2020-10-14T00:00:00.000000000\n",
      "2020-10-13T00:00:00.000000000\n",
      "2020-10-12T00:00:00.000000000\n",
      "2020-10-11T00:00:00.000000000\n",
      "2020-10-10T00:00:00.000000000\n",
      "2020-10-09T00:00:00.000000000\n",
      "2020-10-08T00:00:00.000000000\n",
      "2020-10-07T00:00:00.000000000\n",
      "2020-10-06T00:00:00.000000000\n",
      "2020-10-05T00:00:00.000000000\n",
      "2020-10-04T00:00:00.000000000\n",
      "2020-10-03T00:00:00.000000000\n",
      "2020-10-02T00:00:00.000000000\n",
      "2020-10-01T00:00:00.000000000\n",
      "2020-09-30T00:00:00.000000000\n",
      "2020-09-29T00:00:00.000000000\n",
      "2020-09-28T00:00:00.000000000\n",
      "2020-09-27T00:00:00.000000000\n",
      "2020-09-26T00:00:00.000000000\n",
      "2020-09-25T00:00:00.000000000\n",
      "2020-09-24T00:00:00.000000000\n",
      "2020-09-23T00:00:00.000000000\n",
      "2020-09-22T00:00:00.000000000\n",
      "2020-09-21T00:00:00.000000000\n",
      "2020-09-20T00:00:00.000000000\n",
      "2020-09-19T00:00:00.000000000\n",
      "2020-09-18T00:00:00.000000000\n",
      "2020-09-17T00:00:00.000000000\n",
      "2020-09-16T00:00:00.000000000\n",
      "2020-09-15T00:00:00.000000000\n",
      "2020-09-14T00:00:00.000000000\n",
      "2020-09-13T00:00:00.000000000\n",
      "2020-09-12T00:00:00.000000000\n",
      "2020-09-11T00:00:00.000000000\n",
      "2020-09-10T00:00:00.000000000\n",
      "2020-09-09T00:00:00.000000000\n",
      "2020-09-08T00:00:00.000000000\n",
      "2020-09-07T00:00:00.000000000\n",
      "2020-09-06T00:00:00.000000000\n",
      "2020-09-05T00:00:00.000000000\n",
      "2020-09-04T00:00:00.000000000\n",
      "2020-09-03T00:00:00.000000000\n",
      "2020-09-02T00:00:00.000000000\n",
      "2020-09-01T00:00:00.000000000\n",
      "2020-08-31T00:00:00.000000000\n",
      "2020-08-30T00:00:00.000000000\n",
      "2020-08-29T00:00:00.000000000\n",
      "2020-08-28T00:00:00.000000000\n",
      "2020-08-27T00:00:00.000000000\n",
      "2020-08-26T00:00:00.000000000\n",
      "2020-08-25T00:00:00.000000000\n",
      "2020-08-24T00:00:00.000000000\n",
      "2020-08-23T00:00:00.000000000\n",
      "2020-08-22T00:00:00.000000000\n",
      "2020-08-21T00:00:00.000000000\n",
      "2020-08-20T00:00:00.000000000\n",
      "2020-08-19T00:00:00.000000000\n",
      "2020-08-18T00:00:00.000000000\n",
      "2020-08-17T00:00:00.000000000\n",
      "2020-08-16T00:00:00.000000000\n",
      "2020-08-15T00:00:00.000000000\n",
      "2020-08-14T00:00:00.000000000\n",
      "2020-08-13T00:00:00.000000000\n",
      "2020-08-12T00:00:00.000000000\n",
      "2020-08-11T00:00:00.000000000\n",
      "2020-08-10T00:00:00.000000000\n",
      "2020-08-09T00:00:00.000000000\n",
      "2020-08-08T00:00:00.000000000\n",
      "2020-08-07T00:00:00.000000000\n",
      "2020-08-06T00:00:00.000000000\n",
      "2020-08-05T00:00:00.000000000\n",
      "2020-08-04T00:00:00.000000000\n",
      "2020-08-03T00:00:00.000000000\n",
      "2020-08-02T00:00:00.000000000\n",
      "2020-08-01T00:00:00.000000000\n",
      "2020-07-31T00:00:00.000000000\n",
      "2020-07-30T00:00:00.000000000\n",
      "2020-07-29T00:00:00.000000000\n",
      "2020-07-28T00:00:00.000000000\n",
      "2020-07-27T00:00:00.000000000\n",
      "2020-07-26T00:00:00.000000000\n",
      "2020-07-25T00:00:00.000000000\n",
      "2020-07-24T00:00:00.000000000\n",
      "2020-07-23T00:00:00.000000000\n",
      "2020-07-22T00:00:00.000000000\n",
      "2020-07-21T00:00:00.000000000\n",
      "2020-07-20T00:00:00.000000000\n",
      "2020-07-19T00:00:00.000000000\n",
      "2020-07-18T00:00:00.000000000\n",
      "2020-07-17T00:00:00.000000000\n",
      "2020-07-16T00:00:00.000000000\n",
      "2020-07-15T00:00:00.000000000\n",
      "2020-07-14T00:00:00.000000000\n",
      "2020-07-13T00:00:00.000000000\n",
      "2020-07-12T00:00:00.000000000\n",
      "2020-07-11T00:00:00.000000000\n",
      "2020-07-10T00:00:00.000000000\n",
      "2020-07-09T00:00:00.000000000\n",
      "2020-07-08T00:00:00.000000000\n",
      "2020-07-07T00:00:00.000000000\n",
      "2020-07-06T00:00:00.000000000\n",
      "2020-07-05T00:00:00.000000000\n",
      "2020-07-04T00:00:00.000000000\n",
      "2020-07-03T00:00:00.000000000\n",
      "2020-07-02T00:00:00.000000000\n",
      "2020-07-01T00:00:00.000000000\n",
      "2020-06-30T00:00:00.000000000\n",
      "2020-06-29T00:00:00.000000000\n",
      "2020-06-28T00:00:00.000000000\n",
      "2020-06-27T00:00:00.000000000\n",
      "2020-06-26T00:00:00.000000000\n",
      "2020-06-25T00:00:00.000000000\n",
      "2020-06-24T00:00:00.000000000\n",
      "2020-06-23T00:00:00.000000000\n",
      "2020-06-22T00:00:00.000000000\n",
      "2020-06-21T00:00:00.000000000\n",
      "2020-06-20T00:00:00.000000000\n",
      "2020-06-19T00:00:00.000000000\n",
      "2020-06-18T00:00:00.000000000\n",
      "2020-06-17T00:00:00.000000000\n",
      "2020-06-16T00:00:00.000000000\n",
      "2020-06-15T00:00:00.000000000\n",
      "2020-06-14T00:00:00.000000000\n",
      "2020-06-13T00:00:00.000000000\n",
      "2020-06-12T00:00:00.000000000\n",
      "2020-06-11T00:00:00.000000000\n",
      "2020-06-10T00:00:00.000000000\n",
      "2020-06-09T00:00:00.000000000\n",
      "2020-06-08T00:00:00.000000000\n",
      "2020-06-07T00:00:00.000000000\n",
      "2020-06-06T00:00:00.000000000\n",
      "2020-06-05T00:00:00.000000000\n",
      "2020-06-04T00:00:00.000000000\n",
      "2020-06-03T00:00:00.000000000\n",
      "2020-06-02T00:00:00.000000000\n",
      "2020-06-01T00:00:00.000000000\n",
      "2020-05-31T00:00:00.000000000\n",
      "2020-05-30T00:00:00.000000000\n",
      "2020-05-29T00:00:00.000000000\n",
      "2020-05-28T00:00:00.000000000\n",
      "2020-05-27T00:00:00.000000000\n",
      "2020-05-26T00:00:00.000000000\n",
      "2020-05-25T00:00:00.000000000\n",
      "2020-05-24T00:00:00.000000000\n",
      "2020-05-23T00:00:00.000000000\n",
      "2020-05-22T00:00:00.000000000\n",
      "2020-05-21T00:00:00.000000000\n",
      "2020-05-20T00:00:00.000000000\n",
      "2020-05-19T00:00:00.000000000\n",
      "2020-05-18T00:00:00.000000000\n",
      "2020-05-17T00:00:00.000000000\n",
      "2020-05-16T00:00:00.000000000\n",
      "2020-05-15T00:00:00.000000000\n",
      "2020-05-14T00:00:00.000000000\n",
      "2020-05-13T00:00:00.000000000\n",
      "2020-05-12T00:00:00.000000000\n",
      "2020-05-11T00:00:00.000000000\n",
      "2020-05-10T00:00:00.000000000\n",
      "2020-05-09T00:00:00.000000000\n",
      "2020-05-08T00:00:00.000000000\n",
      "2020-05-07T00:00:00.000000000\n",
      "2020-05-06T00:00:00.000000000\n",
      "2020-05-05T00:00:00.000000000\n",
      "2020-05-04T00:00:00.000000000\n",
      "2020-05-03T00:00:00.000000000\n",
      "2020-05-02T00:00:00.000000000\n",
      "2020-05-01T00:00:00.000000000\n",
      "2020-04-30T00:00:00.000000000\n",
      "2020-04-29T00:00:00.000000000\n",
      "2020-04-28T00:00:00.000000000\n",
      "2020-04-27T00:00:00.000000000\n",
      "2020-04-26T00:00:00.000000000\n",
      "2020-04-25T00:00:00.000000000\n",
      "2020-04-24T00:00:00.000000000\n",
      "2020-04-23T00:00:00.000000000\n",
      "2020-04-22T00:00:00.000000000\n",
      "2020-04-21T00:00:00.000000000\n",
      "2020-04-20T00:00:00.000000000\n",
      "2020-04-19T00:00:00.000000000\n",
      "2020-04-18T00:00:00.000000000\n",
      "2020-04-17T00:00:00.000000000\n",
      "2020-04-16T00:00:00.000000000\n",
      "2020-04-15T00:00:00.000000000\n",
      "2020-04-14T00:00:00.000000000\n",
      "2020-04-13T00:00:00.000000000\n",
      "2020-04-12T00:00:00.000000000\n",
      "2020-04-11T00:00:00.000000000\n",
      "2020-04-10T00:00:00.000000000\n",
      "2020-04-09T00:00:00.000000000\n",
      "2020-04-08T00:00:00.000000000\n",
      "2020-04-07T00:00:00.000000000\n",
      "2020-04-06T00:00:00.000000000\n",
      "2020-04-05T00:00:00.000000000\n",
      "2020-04-04T00:00:00.000000000\n",
      "2020-04-03T00:00:00.000000000\n",
      "2020-04-02T00:00:00.000000000\n",
      "2020-04-01T00:00:00.000000000\n",
      "2020-03-31T00:00:00.000000000\n",
      "2020-03-30T00:00:00.000000000\n",
      "2020-03-29T00:00:00.000000000\n",
      "2020-03-28T00:00:00.000000000\n",
      "2020-03-27T00:00:00.000000000\n",
      "2020-03-26T00:00:00.000000000\n",
      "2020-03-25T00:00:00.000000000\n",
      "2020-03-24T00:00:00.000000000\n",
      "2020-03-23T00:00:00.000000000\n",
      "2020-03-22T00:00:00.000000000\n",
      "2020-03-21T00:00:00.000000000\n",
      "2020-03-20T00:00:00.000000000\n",
      "2020-03-19T00:00:00.000000000\n",
      "2020-03-18T00:00:00.000000000\n",
      "2020-03-17T00:00:00.000000000\n",
      "2020-03-16T00:00:00.000000000\n",
      "2020-03-15T00:00:00.000000000\n",
      "2020-03-14T00:00:00.000000000\n",
      "2020-03-13T00:00:00.000000000\n",
      "2020-03-12T00:00:00.000000000\n",
      "2020-03-11T00:00:00.000000000\n",
      "2020-03-10T00:00:00.000000000\n",
      "2020-03-09T00:00:00.000000000\n",
      "2020-03-08T00:00:00.000000000\n",
      "2020-03-07T00:00:00.000000000\n",
      "2020-03-06T00:00:00.000000000\n",
      "2020-03-05T00:00:00.000000000\n",
      "2020-03-04T00:00:00.000000000\n",
      "2020-03-03T00:00:00.000000000\n",
      "2020-03-02T00:00:00.000000000\n",
      "2020-03-01T00:00:00.000000000\n",
      "2020-02-29T00:00:00.000000000\n",
      "2020-02-28T00:00:00.000000000\n",
      "2020-02-27T00:00:00.000000000\n",
      "2020-02-26T00:00:00.000000000\n",
      "2020-02-25T00:00:00.000000000\n",
      "2020-02-24T00:00:00.000000000\n",
      "2020-02-23T00:00:00.000000000\n",
      "2020-02-22T00:00:00.000000000\n",
      "2020-02-21T00:00:00.000000000\n",
      "2020-02-20T00:00:00.000000000\n",
      "2020-02-19T00:00:00.000000000\n",
      "2020-02-18T00:00:00.000000000\n",
      "2020-02-17T00:00:00.000000000\n",
      "2020-02-16T00:00:00.000000000\n",
      "2020-02-15T00:00:00.000000000\n",
      "2020-02-14T00:00:00.000000000\n",
      "2020-02-13T00:00:00.000000000\n",
      "2020-02-12T00:00:00.000000000\n",
      "2020-02-11T00:00:00.000000000\n",
      "2020-02-10T00:00:00.000000000\n",
      "2020-02-09T00:00:00.000000000\n",
      "2020-02-08T00:00:00.000000000\n",
      "2020-02-07T00:00:00.000000000\n",
      "2020-02-06T00:00:00.000000000\n",
      "2020-02-05T00:00:00.000000000\n",
      "2020-02-04T00:00:00.000000000\n",
      "2020-02-03T00:00:00.000000000\n",
      "2020-02-02T00:00:00.000000000\n",
      "2020-02-01T00:00:00.000000000\n",
      "2020-01-31T00:00:00.000000000\n",
      "2020-01-30T00:00:00.000000000\n",
      "2020-01-29T00:00:00.000000000\n",
      "2020-01-28T00:00:00.000000000\n",
      "2020-01-27T00:00:00.000000000\n",
      "2020-01-26T00:00:00.000000000\n",
      "2020-01-25T00:00:00.000000000\n",
      "2020-01-24T00:00:00.000000000\n",
      "2020-01-23T00:00:00.000000000\n",
      "2020-01-22T00:00:00.000000000\n"
     ]
    },
    {
     "data": {
      "text/plain": [
       "[None,\n",
       " None,\n",
       " None,\n",
       " None,\n",
       " None,\n",
       " None,\n",
       " None,\n",
       " None,\n",
       " None,\n",
       " None,\n",
       " None,\n",
       " None,\n",
       " None,\n",
       " None,\n",
       " None,\n",
       " None,\n",
       " None,\n",
       " None,\n",
       " None,\n",
       " None,\n",
       " None,\n",
       " None,\n",
       " None,\n",
       " None,\n",
       " None,\n",
       " None,\n",
       " None,\n",
       " None,\n",
       " None,\n",
       " None,\n",
       " None,\n",
       " None,\n",
       " None,\n",
       " None,\n",
       " None,\n",
       " None,\n",
       " None,\n",
       " None,\n",
       " None,\n",
       " None,\n",
       " None,\n",
       " None,\n",
       " None,\n",
       " None,\n",
       " None,\n",
       " None,\n",
       " None,\n",
       " None,\n",
       " None,\n",
       " None,\n",
       " None,\n",
       " None,\n",
       " None,\n",
       " None,\n",
       " None,\n",
       " None,\n",
       " None,\n",
       " None,\n",
       " None,\n",
       " None,\n",
       " None,\n",
       " None,\n",
       " None,\n",
       " None,\n",
       " None,\n",
       " None,\n",
       " None,\n",
       " None,\n",
       " None,\n",
       " None,\n",
       " None,\n",
       " None,\n",
       " None,\n",
       " None,\n",
       " None,\n",
       " None,\n",
       " None,\n",
       " None,\n",
       " None,\n",
       " None,\n",
       " None,\n",
       " None,\n",
       " None,\n",
       " None,\n",
       " None,\n",
       " None,\n",
       " None,\n",
       " None,\n",
       " None,\n",
       " None,\n",
       " None,\n",
       " None,\n",
       " None,\n",
       " None,\n",
       " None,\n",
       " None,\n",
       " None,\n",
       " None,\n",
       " None,\n",
       " None,\n",
       " None,\n",
       " None,\n",
       " None,\n",
       " None,\n",
       " None,\n",
       " None,\n",
       " None,\n",
       " None,\n",
       " None,\n",
       " None,\n",
       " None,\n",
       " None,\n",
       " None,\n",
       " None,\n",
       " None,\n",
       " None,\n",
       " None,\n",
       " None,\n",
       " None,\n",
       " None,\n",
       " None,\n",
       " None,\n",
       " None,\n",
       " None,\n",
       " None,\n",
       " None,\n",
       " None,\n",
       " None,\n",
       " None,\n",
       " None,\n",
       " None,\n",
       " None,\n",
       " None,\n",
       " None,\n",
       " None,\n",
       " None,\n",
       " None,\n",
       " None,\n",
       " None,\n",
       " None,\n",
       " None,\n",
       " None,\n",
       " None,\n",
       " None,\n",
       " None,\n",
       " None,\n",
       " None,\n",
       " None,\n",
       " None,\n",
       " None,\n",
       " None,\n",
       " None,\n",
       " None,\n",
       " None,\n",
       " None,\n",
       " None,\n",
       " None,\n",
       " None,\n",
       " None,\n",
       " None,\n",
       " None,\n",
       " None,\n",
       " None,\n",
       " None,\n",
       " None,\n",
       " None,\n",
       " None,\n",
       " None,\n",
       " None,\n",
       " None,\n",
       " None,\n",
       " None,\n",
       " None,\n",
       " None,\n",
       " None,\n",
       " None,\n",
       " None,\n",
       " None,\n",
       " None,\n",
       " None,\n",
       " None,\n",
       " None,\n",
       " None,\n",
       " None,\n",
       " None,\n",
       " None,\n",
       " None,\n",
       " None,\n",
       " None,\n",
       " None,\n",
       " None,\n",
       " None,\n",
       " None,\n",
       " None,\n",
       " None,\n",
       " None,\n",
       " None,\n",
       " None,\n",
       " None,\n",
       " None,\n",
       " None,\n",
       " None,\n",
       " None,\n",
       " None,\n",
       " None,\n",
       " None,\n",
       " None,\n",
       " None,\n",
       " None,\n",
       " None,\n",
       " None,\n",
       " None,\n",
       " None,\n",
       " None,\n",
       " None,\n",
       " None,\n",
       " None,\n",
       " None,\n",
       " None,\n",
       " None,\n",
       " None,\n",
       " None,\n",
       " None,\n",
       " None,\n",
       " None,\n",
       " None,\n",
       " None,\n",
       " None,\n",
       " None,\n",
       " None,\n",
       " None,\n",
       " None,\n",
       " None,\n",
       " None,\n",
       " None,\n",
       " None,\n",
       " None,\n",
       " None,\n",
       " None,\n",
       " None,\n",
       " None,\n",
       " None,\n",
       " None,\n",
       " None,\n",
       " None,\n",
       " None,\n",
       " None,\n",
       " None,\n",
       " None,\n",
       " None,\n",
       " None,\n",
       " None,\n",
       " None,\n",
       " None,\n",
       " None,\n",
       " None,\n",
       " None,\n",
       " None,\n",
       " None,\n",
       " None,\n",
       " None,\n",
       " None,\n",
       " None,\n",
       " None,\n",
       " None,\n",
       " None,\n",
       " None,\n",
       " None,\n",
       " None,\n",
       " None,\n",
       " None,\n",
       " None,\n",
       " None,\n",
       " None,\n",
       " None,\n",
       " None,\n",
       " None,\n",
       " None,\n",
       " None,\n",
       " None,\n",
       " None,\n",
       " None,\n",
       " None,\n",
       " None,\n",
       " None,\n",
       " None,\n",
       " None,\n",
       " None,\n",
       " None,\n",
       " None,\n",
       " None,\n",
       " None,\n",
       " None,\n",
       " None,\n",
       " None,\n",
       " None,\n",
       " None,\n",
       " None,\n",
       " None,\n",
       " None,\n",
       " None,\n",
       " None,\n",
       " None,\n",
       " None,\n",
       " None,\n",
       " None,\n",
       " None,\n",
       " None,\n",
       " None,\n",
       " None,\n",
       " None,\n",
       " None,\n",
       " None,\n",
       " None,\n",
       " None,\n",
       " None,\n",
       " None,\n",
       " None,\n",
       " None,\n",
       " None,\n",
       " None,\n",
       " None,\n",
       " None,\n",
       " None,\n",
       " None,\n",
       " None,\n",
       " None,\n",
       " None,\n",
       " None,\n",
       " None,\n",
       " None,\n",
       " None,\n",
       " None,\n",
       " None,\n",
       " None,\n",
       " None,\n",
       " None,\n",
       " None,\n",
       " None,\n",
       " None,\n",
       " None,\n",
       " None,\n",
       " None,\n",
       " None,\n",
       " None,\n",
       " None,\n",
       " None,\n",
       " None,\n",
       " None,\n",
       " None,\n",
       " None,\n",
       " None,\n",
       " None,\n",
       " None,\n",
       " None,\n",
       " None,\n",
       " None,\n",
       " None,\n",
       " None,\n",
       " None,\n",
       " None,\n",
       " None,\n",
       " None,\n",
       " None,\n",
       " None,\n",
       " None,\n",
       " None,\n",
       " None,\n",
       " None,\n",
       " None,\n",
       " None,\n",
       " None,\n",
       " None,\n",
       " None,\n",
       " None,\n",
       " None,\n",
       " None,\n",
       " None,\n",
       " None,\n",
       " None,\n",
       " None,\n",
       " None,\n",
       " None,\n",
       " None,\n",
       " None,\n",
       " None,\n",
       " None,\n",
       " None,\n",
       " None,\n",
       " None,\n",
       " None,\n",
       " None,\n",
       " None,\n",
       " None,\n",
       " None,\n",
       " None,\n",
       " None,\n",
       " None,\n",
       " None,\n",
       " None,\n",
       " None,\n",
       " None,\n",
       " None,\n",
       " None,\n",
       " None,\n",
       " None,\n",
       " None,\n",
       " None,\n",
       " None,\n",
       " None,\n",
       " None,\n",
       " None,\n",
       " None,\n",
       " None,\n",
       " None,\n",
       " None,\n",
       " None,\n",
       " None,\n",
       " None,\n",
       " None,\n",
       " None,\n",
       " None,\n",
       " None,\n",
       " None,\n",
       " None,\n",
       " None,\n",
       " None,\n",
       " None,\n",
       " None,\n",
       " None,\n",
       " None,\n",
       " None,\n",
       " None,\n",
       " None,\n",
       " None,\n",
       " None,\n",
       " None,\n",
       " None,\n",
       " None,\n",
       " None,\n",
       " None,\n",
       " None,\n",
       " None,\n",
       " None,\n",
       " None,\n",
       " None,\n",
       " None,\n",
       " None,\n",
       " None,\n",
       " None,\n",
       " None,\n",
       " None,\n",
       " None,\n",
       " None,\n",
       " None,\n",
       " None,\n",
       " None,\n",
       " None,\n",
       " None,\n",
       " None,\n",
       " None,\n",
       " None,\n",
       " None,\n",
       " None,\n",
       " None,\n",
       " None,\n",
       " None,\n",
       " None,\n",
       " None,\n",
       " None,\n",
       " None,\n",
       " None,\n",
       " None,\n",
       " None,\n",
       " None,\n",
       " None,\n",
       " None,\n",
       " None,\n",
       " None,\n",
       " None,\n",
       " None,\n",
       " None,\n",
       " None,\n",
       " None,\n",
       " None,\n",
       " None,\n",
       " None,\n",
       " None,\n",
       " None,\n",
       " None,\n",
       " None,\n",
       " None,\n",
       " None,\n",
       " None,\n",
       " None,\n",
       " None,\n",
       " None,\n",
       " None,\n",
       " None,\n",
       " None,\n",
       " None,\n",
       " None,\n",
       " None,\n",
       " None,\n",
       " None,\n",
       " None,\n",
       " None,\n",
       " None,\n",
       " None,\n",
       " None,\n",
       " None,\n",
       " None,\n",
       " None,\n",
       " None,\n",
       " None,\n",
       " None,\n",
       " None,\n",
       " None,\n",
       " None,\n",
       " None,\n",
       " None,\n",
       " None,\n",
       " None,\n",
       " None,\n",
       " None,\n",
       " None,\n",
       " None,\n",
       " None,\n",
       " None,\n",
       " None,\n",
       " None,\n",
       " None,\n",
       " None,\n",
       " None,\n",
       " None,\n",
       " None,\n",
       " None,\n",
       " None,\n",
       " None,\n",
       " None,\n",
       " None,\n",
       " None,\n",
       " None,\n",
       " None,\n",
       " None,\n",
       " None,\n",
       " None,\n",
       " None,\n",
       " None,\n",
       " None,\n",
       " None,\n",
       " None,\n",
       " None,\n",
       " None,\n",
       " None,\n",
       " None,\n",
       " None,\n",
       " None,\n",
       " None,\n",
       " None,\n",
       " None,\n",
       " None,\n",
       " None,\n",
       " None,\n",
       " None,\n",
       " None,\n",
       " None,\n",
       " None,\n",
       " None,\n",
       " None,\n",
       " None,\n",
       " None,\n",
       " None,\n",
       " None,\n",
       " None,\n",
       " None,\n",
       " None,\n",
       " None,\n",
       " None,\n",
       " None,\n",
       " None,\n",
       " None,\n",
       " None,\n",
       " None,\n",
       " None,\n",
       " None,\n",
       " None,\n",
       " None,\n",
       " None,\n",
       " None,\n",
       " None,\n",
       " None,\n",
       " None,\n",
       " None,\n",
       " None,\n",
       " None,\n",
       " None,\n",
       " None,\n",
       " None,\n",
       " None,\n",
       " None,\n",
       " None,\n",
       " None,\n",
       " None,\n",
       " None,\n",
       " None,\n",
       " None,\n",
       " None,\n",
       " None,\n",
       " None,\n",
       " None,\n",
       " None,\n",
       " None,\n",
       " None,\n",
       " None,\n",
       " None,\n",
       " None,\n",
       " None,\n",
       " None,\n",
       " None,\n",
       " None,\n",
       " None,\n",
       " None,\n",
       " None,\n",
       " None,\n",
       " None,\n",
       " None,\n",
       " None,\n",
       " None,\n",
       " None,\n",
       " None,\n",
       " None,\n",
       " None,\n",
       " None,\n",
       " None,\n",
       " None,\n",
       " None,\n",
       " None,\n",
       " None,\n",
       " None,\n",
       " None,\n",
       " None,\n",
       " None,\n",
       " None,\n",
       " None,\n",
       " None,\n",
       " None,\n",
       " None,\n",
       " None,\n",
       " None,\n",
       " None,\n",
       " None,\n",
       " None,\n",
       " None,\n",
       " None,\n",
       " None,\n",
       " None,\n",
       " None,\n",
       " None,\n",
       " None,\n",
       " None,\n",
       " None,\n",
       " None,\n",
       " None,\n",
       " None,\n",
       " None,\n",
       " None,\n",
       " None,\n",
       " None,\n",
       " None,\n",
       " None,\n",
       " None,\n",
       " None,\n",
       " None,\n",
       " None,\n",
       " None,\n",
       " None,\n",
       " None,\n",
       " None,\n",
       " None,\n",
       " None,\n",
       " None,\n",
       " None,\n",
       " None,\n",
       " None,\n",
       " None,\n",
       " None,\n",
       " None,\n",
       " None,\n",
       " None,\n",
       " None,\n",
       " None,\n",
       " None,\n",
       " None,\n",
       " None,\n",
       " None,\n",
       " None,\n",
       " None,\n",
       " None,\n",
       " None,\n",
       " None,\n",
       " None,\n",
       " None,\n",
       " None,\n",
       " None,\n",
       " None,\n",
       " None,\n",
       " None,\n",
       " None,\n",
       " None,\n",
       " None,\n",
       " None,\n",
       " None,\n",
       " None,\n",
       " None,\n",
       " None,\n",
       " None,\n",
       " None,\n",
       " None,\n",
       " None,\n",
       " None,\n",
       " None,\n",
       " None,\n",
       " None,\n",
       " None,\n",
       " None,\n",
       " None,\n",
       " None,\n",
       " None,\n",
       " None,\n",
       " None,\n",
       " None,\n",
       " None,\n",
       " None,\n",
       " None,\n",
       " None,\n",
       " None,\n",
       " None,\n",
       " None,\n",
       " None,\n",
       " None,\n",
       " None,\n",
       " None,\n",
       " None,\n",
       " None,\n",
       " None,\n",
       " None,\n",
       " None,\n",
       " None,\n",
       " None,\n",
       " None,\n",
       " None,\n",
       " None,\n",
       " None,\n",
       " None,\n",
       " None,\n",
       " None,\n",
       " None,\n",
       " None,\n",
       " None,\n",
       " None,\n",
       " None,\n",
       " None,\n",
       " None,\n",
       " None,\n",
       " None,\n",
       " None,\n",
       " None,\n",
       " None,\n",
       " None,\n",
       " None,\n",
       " None,\n",
       " None,\n",
       " None,\n",
       " None,\n",
       " None,\n",
       " None,\n",
       " None,\n",
       " None,\n",
       " None,\n",
       " None,\n",
       " None,\n",
       " None,\n",
       " None,\n",
       " None,\n",
       " None,\n",
       " None,\n",
       " None,\n",
       " None,\n",
       " None,\n",
       " None,\n",
       " None,\n",
       " None,\n",
       " None,\n",
       " None,\n",
       " None,\n",
       " None,\n",
       " None,\n",
       " None,\n",
       " None,\n",
       " None,\n",
       " None,\n",
       " None,\n",
       " None,\n",
       " None,\n",
       " None,\n",
       " None,\n",
       " None,\n",
       " None,\n",
       " None,\n",
       " None,\n",
       " None,\n",
       " None,\n",
       " None,\n",
       " None,\n",
       " None,\n",
       " None,\n",
       " None,\n",
       " None,\n",
       " None,\n",
       " None,\n",
       " None,\n",
       " None,\n",
       " None,\n",
       " None,\n",
       " None,\n",
       " None,\n",
       " None,\n",
       " None,\n",
       " None,\n",
       " None,\n",
       " None,\n",
       " None,\n",
       " None,\n",
       " None,\n",
       " None,\n",
       " None,\n",
       " None,\n",
       " None,\n",
       " None,\n",
       " None,\n",
       " None,\n",
       " None,\n",
       " None,\n",
       " None,\n",
       " None,\n",
       " None,\n",
       " None,\n",
       " None,\n",
       " None,\n",
       " None,\n",
       " None,\n",
       " None,\n",
       " None,\n",
       " None,\n",
       " None,\n",
       " None,\n",
       " None,\n",
       " None,\n",
       " None,\n",
       " None,\n",
       " None,\n",
       " None,\n",
       " None,\n",
       " None,\n",
       " None,\n",
       " None,\n",
       " None,\n",
       " None,\n",
       " None,\n",
       " None,\n",
       " None,\n",
       " None,\n",
       " None,\n",
       " None,\n",
       " None,\n",
       " None,\n",
       " None,\n",
       " None,\n",
       " None,\n",
       " None,\n",
       " None,\n",
       " None,\n",
       " None,\n",
       " None,\n",
       " None,\n",
       " None,\n",
       " None,\n",
       " None,\n",
       " None,\n",
       " None,\n",
       " None,\n",
       " None,\n",
       " None,\n",
       " None,\n",
       " None,\n",
       " None,\n",
       " None,\n",
       " None,\n",
       " None,\n",
       " None,\n",
       " None,\n",
       " None,\n",
       " None,\n",
       " None,\n",
       " None,\n",
       " None,\n",
       " None,\n",
       " None,\n",
       " None,\n",
       " None,\n",
       " None,\n",
       " None,\n",
       " None,\n",
       " None,\n",
       " None,\n",
       " None,\n",
       " None,\n",
       " None,\n",
       " None,\n",
       " None,\n",
       " None,\n",
       " None,\n",
       " None,\n",
       " None,\n",
       " None,\n",
       " None,\n",
       " None,\n",
       " None,\n",
       " None,\n",
       " None,\n",
       " None,\n",
       " None,\n",
       " None,\n",
       " None,\n",
       " None,\n",
       " None,\n",
       " None,\n",
       " None,\n",
       " None,\n",
       " None,\n",
       " None,\n",
       " None,\n",
       " None,\n",
       " None,\n",
       " None,\n",
       " None,\n",
       " None,\n",
       " None,\n",
       " None,\n",
       " None,\n",
       " None,\n",
       " None,\n",
       " None,\n",
       " None,\n",
       " None,\n",
       " None,\n",
       " None,\n",
       " None,\n",
       " None,\n",
       " None,\n",
       " None,\n",
       " None,\n",
       " None,\n",
       " None,\n",
       " None,\n",
       " None,\n",
       " None,\n",
       " None,\n",
       " None,\n",
       " None,\n",
       " None,\n",
       " None,\n",
       " None,\n",
       " None,\n",
       " None,\n",
       " None,\n",
       " None,\n",
       " None,\n",
       " None,\n",
       " None,\n",
       " None,\n",
       " None,\n",
       " None,\n",
       " None,\n",
       " None,\n",
       " None,\n",
       " None,\n",
       " None,\n",
       " None,\n",
       " None,\n",
       " None,\n",
       " None,\n",
       " None,\n",
       " None,\n",
       " None,\n",
       " None,\n",
       " None,\n",
       " None,\n",
       " None,\n",
       " ...]"
      ]
     },
     "execution_count": 116,
     "metadata": {},
     "output_type": "execute_result"
    }
   ],
   "source": [
    "[print(d) for d in covid_df['submit_date'].unique()]"
   ]
  },
  {
   "cell_type": "code",
   "execution_count": null,
   "id": "699d6075",
   "metadata": {},
   "outputs": [],
   "source": []
  }
 ],
 "metadata": {
  "kernelspec": {
   "display_name": "Python 3 (ipykernel)",
   "language": "python",
   "name": "python3"
  },
  "language_info": {
   "codemirror_mode": {
    "name": "ipython",
    "version": 3
   },
   "file_extension": ".py",
   "mimetype": "text/x-python",
   "name": "python",
   "nbconvert_exporter": "python",
   "pygments_lexer": "ipython3",
   "version": "3.7.11"
  }
 },
 "nbformat": 4,
 "nbformat_minor": 5
}
